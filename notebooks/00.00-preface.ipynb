{
 "cells": [
  {
   "cell_type": "markdown",
   "metadata": {},
   "source": [
    "<!--BOOK_INFORMATION-->\n",
    "<img style=\"float: right; width: 100px\" src=\"https://raw.github.com/pyomeca/design/master/logo/logo_cropped_doc.svg?sanitize=true\">\n",
    "<font size=\"+3\">Effective computation in Biomechanics</font>\n",
    "\n",
    "<font size=\"+2\">Romain Martinez</font> <a href=\"https://github.com/romainmartinez\"><img src=\"https://img.shields.io/badge/github-romainmartinez-green?logo=github&style=social\" /></a>"
   ]
  },
  {
   "cell_type": "markdown",
   "metadata": {
    "slideshow": {
     "slide_type": "slide"
    }
   },
   "source": [
    "<!--NAVIGATION-->\n",
    "| [Contents](index.ipynb) | [Introduction to Python](01.00-why-python.ipynb) >"
   ]
  },
  {
   "cell_type": "markdown",
   "metadata": {},
   "source": [
    "# Preface"
   ]
  },
  {
   "cell_type": "code",
   "execution_count": 1,
   "metadata": {},
   "outputs": [],
   "source": [
    "import altair as alt\n",
    "import pandas as pd\n",
    "\n",
    "%load_ext lab_black"
   ]
  },
  {
   "cell_type": "markdown",
   "metadata": {
    "slideshow": {
     "slide_type": "slide"
    }
   },
   "source": [
    "## Logistic\n",
    "\n",
    "Today's material is available on [github.com/pyomeca/tutorials](https://github.com/pyomeca/tutorials).\n",
    "\n",
    "You can follow the materials:\n",
    "- By running the code using the Jupyter notebooks available in this repository's notebooks directory.\n",
    "- By launching executable versions of these notebooks using binder: [![Binder](https://mybinder.org/badge.svg)](https://mybinder.org/v2/gh/pyomeca/tutorials/master?filepath=notebooks%2FIndex.ipynb)\n",
    "- By reading the online (non-executable) version of the notebooks using nbviewer: [![Nbviewer](https://raw.github.com/jupyter/design/master/logos/Badges/nbviewer_badge.svg?sanitize=true)](https://nbviewer.jupyter.org/github/pyomeca/tutorials/blob/master/notebooks/Index.ipynb)\n",
    "\n",
    "Stop me anytime if you have any questions.\n",
    "\n",
    "Feel free to contact me to:\n",
    "- Setup up your development environment (_python, pyomeca, libraries, IDE_)\n",
    "- Get help with your research projects"
   ]
  },
  {
   "cell_type": "markdown",
   "metadata": {},
   "source": [
    "## Course Outline\n",
    "\n",
    "The main goal is to give you **practical advice** that will be useful in your projects."
   ]
  },
  {
   "cell_type": "code",
   "execution_count": 2,
   "metadata": {
    "jupyter": {
     "source_hidden": true
    }
   },
   "outputs": [
    {
     "data": {
      "text/html": [
       "\n",
       "<div id=\"altair-viz-1\"></div>\n",
       "<script type=\"text/javascript\">\n",
       "  (function(spec, embedOpt){\n",
       "    const outputDiv = document.getElementById(\"altair-viz-1\");\n",
       "    const paths = {\n",
       "      \"vega\": \"https://cdn.jsdelivr.net/npm//vega@5?noext\",\n",
       "      \"vega-lib\": \"https://cdn.jsdelivr.net/npm//vega-lib?noext\",\n",
       "      \"vega-lite\": \"https://cdn.jsdelivr.net/npm//vega-lite@4.0.0?noext\",\n",
       "      \"vega-embed\": \"https://cdn.jsdelivr.net/npm//vega-embed@6?noext\",\n",
       "    };\n",
       "\n",
       "    function loadScript(lib) {\n",
       "      return new Promise(function(resolve, reject) {\n",
       "        var s = document.createElement('script');\n",
       "        s.src = paths[lib];\n",
       "        s.async = true;\n",
       "        s.onload = () => resolve(paths[lib]);\n",
       "        s.onerror = () => reject(`Error loading script: ${paths[lib]}`);\n",
       "        document.getElementsByTagName(\"head\")[0].appendChild(s);\n",
       "      });\n",
       "    }\n",
       "\n",
       "    function showError(err) {\n",
       "      outputDiv.innerHTML = `<div class=\"error\" style=\"color:red;\">${err}</div>`;\n",
       "      throw err;\n",
       "    }\n",
       "\n",
       "    function displayChart(vegaEmbed) {\n",
       "      vegaEmbed(outputDiv, spec, embedOpt)\n",
       "        .catch(err => showError(`Javascript Error: ${err.message}<br>This usually means there's a typo in your chart specification. See the javascript console for the full traceback.`));\n",
       "    }\n",
       "\n",
       "    if(typeof define === \"function\" && define.amd) {\n",
       "      requirejs.config({paths});\n",
       "      require([\"vega-embed\"], displayChart, err => showError(`Error loading script: ${err.message}`));\n",
       "    } else if (typeof vegaEmbed === \"function\") {\n",
       "      displayChart(vegaEmbed);\n",
       "    } else {\n",
       "      loadScript(\"vega\")\n",
       "        .then(() => loadScript(\"vega-lite\"))\n",
       "        .then(() => loadScript(\"vega-embed\"))\n",
       "        .catch(showError)\n",
       "        .then(() => displayChart(vegaEmbed));\n",
       "    }\n",
       "  })({\"config\": {\"view\": {\"continuousWidth\": 400, \"continuousHeight\": 300}}, \"layer\": [{\"mark\": \"rect\", \"encoding\": {\"color\": {\"type\": \"nominal\", \"field\": \"instructor\", \"legend\": null, \"scale\": {\"domain\": [\"Romain\", \"Fran\\u00e7ois\", \"\\u00c9tienne\", \"Spring Break\", \"Project\", \"Exam\"], \"range\": [\"#B0BEC5\", \"#FFAB91\", \"#A5D6A7\", \"#80CBC4\", \"#EF9A9A\", \"#F48FB1\"]}}, \"y\": {\"type\": \"ordinal\", \"field\": \"date\", \"timeUnit\": \"monthdate\", \"title\": null}}}, {\"mark\": {\"type\": \"text\", \"align\": \"left\", \"color\": \"#263238\", \"dx\": -370, \"fontSize\": 20}, \"encoding\": {\"text\": {\"type\": \"nominal\", \"field\": \"subject\"}, \"y\": {\"type\": \"ordinal\", \"field\": \"date\", \"timeUnit\": \"monthdate\", \"title\": null}}}, {\"mark\": {\"type\": \"text\", \"align\": \"right\", \"color\": \"#263238\", \"dx\": 370, \"fontSize\": 20}, \"encoding\": {\"text\": {\"type\": \"nominal\", \"field\": \"instructor\"}, \"y\": {\"type\": \"ordinal\", \"field\": \"date\", \"timeUnit\": \"monthdate\", \"title\": null}}}], \"data\": {\"name\": \"data-1f7113b1bf3fbca0f814984173786bfb\"}, \"height\": 600, \"width\": 800, \"$schema\": \"https://vega.github.io/schema/vega-lite/v4.0.0.json\", \"datasets\": {\"data-1f7113b1bf3fbca0f814984173786bfb\": [{\"instructor\": \"Romain\", \"date\": \"2020-01-08\", \"subject\": \"Programming with Python in biomechanics\"}, {\"instructor\": \"Fran\\u00e7ois\", \"date\": \"2020-01-15\", \"subject\": \"Rigid bodies, kinematics and dynamics\"}, {\"instructor\": \"Fran\\u00e7ois\", \"date\": \"2020-01-22\", \"subject\": \"Rigid bodies, kinematics and dynamics - application\"}, {\"instructor\": \"Fran\\u00e7ois\", \"date\": \"2020-01-29\", \"subject\": \"Optimal control\"}, {\"instructor\": \"Fran\\u00e7ois\", \"date\": \"2020-02-05\", \"subject\": \"Optimal control - application\"}, {\"instructor\": \"Fran\\u00e7ois\", \"date\": \"2020-02-12\", \"subject\": \"Optimal control in biomechanics\"}, {\"instructor\": \"Romain\", \"date\": \"2020-02-19\", \"subject\": \"Musculoskeletal Modelling\"}, {\"instructor\": \"\\u00c9tienne\", \"date\": \"2020-02-26\", \"subject\": \"Introduction to descriptive statistics\"}, {\"instructor\": \"Spring Break\", \"date\": \"2020-03-04\", \"subject\": \"\"}, {\"instructor\": \"Romain\", \"date\": \"2020-03-11\", \"subject\": \"Statistics and machine learning in biomechanics\"}, {\"instructor\": \"\\u00c9tienne\", \"date\": \"2020-03-18\", \"subject\": \"Kinematics\"}, {\"instructor\": \"\\u00c9tienne\", \"date\": \"2020-03-25\", \"subject\": \"IMU signal processing\"}, {\"instructor\": \"\\u00c9tienne\", \"date\": \"2020-04-01\", \"subject\": \"EMG\"}, {\"instructor\": \"Project\", \"date\": \"2020-04-08\", \"subject\": \"\"}, {\"instructor\": \"Project\", \"date\": \"2020-04-15\", \"subject\": \"\"}, {\"instructor\": \"Exam\", \"date\": \"2020-04-22\", \"subject\": \"\"}]}}, {\"mode\": \"vega-lite\"});\n",
       "</script>"
      ],
      "text/plain": [
       "alt.LayerChart(...)"
      ]
     },
     "execution_count": 2,
     "metadata": {},
     "output_type": "execute_result"
    }
   ],
   "source": [
    "seances_list = [\n",
    "    (\"Romain\", \"2020-01-08\", \"Programming with Python in biomechanics\"),\n",
    "    (\"François\", \"2020-01-15\", \"Rigid bodies, kinematics and dynamics\"),\n",
    "    (\"François\", \"2020-01-22\", \"Rigid bodies, kinematics and dynamics - application\",),\n",
    "    (\"François\", \"2020-01-29\", \"Optimal control\"),\n",
    "    (\"François\", \"2020-02-05\", \"Optimal control - application\",),\n",
    "    (\"François\", \"2020-02-12\", \"Optimal control in biomechanics\"),\n",
    "    (\"Romain\", \"2020-02-19\", \"Musculoskeletal Modelling\"),\n",
    "    (\"Étienne\", \"2020-02-26\", \"Introduction to descriptive statistics\",),\n",
    "    (\"Spring Break\", \"2020-03-04\", \"\",),\n",
    "    (\"Romain\", \"2020-03-11\", \"Statistics and machine learning in biomechanics\",),\n",
    "    (\"Étienne\", \"2020-03-18\", \"Kinematics\"),\n",
    "    (\"Étienne\", \"2020-03-25\", \"IMU signal processing\"),\n",
    "    (\"Étienne\", \"2020-04-01\", \"EMG\"),\n",
    "    (\"Project\", \"2020-04-08\", \"\"),\n",
    "    (\"Project\", \"2020-04-15\", \"\"),\n",
    "    (\"Exam\", \"2020-04-22\", \"\"),\n",
    "]\n",
    "\n",
    "seances = pd.DataFrame(seances_list, columns=[\"instructor\", \"date\", \"subject\"])\n",
    "\n",
    "base = alt.Chart(seances).encode(alt.Y(\"monthdate(date):O\", title=None))\n",
    "\n",
    "scale = alt.Scale(\n",
    "    domain=seances[\"instructor\"].unique().tolist(),\n",
    "    range=[\"#B0BEC5\", \"#FFAB91\", \"#A5D6A7\", \"#80CBC4\", \"#EF9A9A\", \"#F48FB1\"],\n",
    ")\n",
    "color = base.mark_rect().encode(alt.Color(\"instructor\", legend=None, scale=scale))\n",
    "\n",
    "text_args = {\"fontSize\": 20, \"color\": \"#263238\"}\n",
    "subject = base.mark_text(align=\"left\", dx=-370, **text_args).encode(alt.Text(\"subject\"))\n",
    "instructor = base.mark_text(align=\"right\", dx=370, **text_args).encode(\n",
    "    alt.Text(\"instructor\")\n",
    ")\n",
    "\n",
    "(color + subject + instructor).properties(width=800, height=600)"
   ]
  },
  {
   "cell_type": "markdown",
   "metadata": {},
   "source": [
    "This first course has three parts:\n",
    "1. __Getting started__: jump into Python, data containers, functions, flow control and classes\n",
    "2. __Getting it done__: learn about Numpy and Pyomeca, making analysis and visualization\n",
    "3. __Getting it right__: learn to use local and remote version control, debug and test your code"
   ]
  },
  {
   "cell_type": "markdown",
   "metadata": {},
   "source": [
    "## Evaluation"
   ]
  },
  {
   "cell_type": "code",
   "execution_count": 3,
   "metadata": {
    "jupyter": {
     "source_hidden": true
    },
    "slideshow": {
     "slide_type": "slide"
    }
   },
   "outputs": [
    {
     "data": {
      "text/html": [
       "\n",
       "<div id=\"altair-viz-2\"></div>\n",
       "<script type=\"text/javascript\">\n",
       "  (function(spec, embedOpt){\n",
       "    const outputDiv = document.getElementById(\"altair-viz-2\");\n",
       "    const paths = {\n",
       "      \"vega\": \"https://cdn.jsdelivr.net/npm//vega@5?noext\",\n",
       "      \"vega-lib\": \"https://cdn.jsdelivr.net/npm//vega-lib?noext\",\n",
       "      \"vega-lite\": \"https://cdn.jsdelivr.net/npm//vega-lite@4.0.0?noext\",\n",
       "      \"vega-embed\": \"https://cdn.jsdelivr.net/npm//vega-embed@6?noext\",\n",
       "    };\n",
       "\n",
       "    function loadScript(lib) {\n",
       "      return new Promise(function(resolve, reject) {\n",
       "        var s = document.createElement('script');\n",
       "        s.src = paths[lib];\n",
       "        s.async = true;\n",
       "        s.onload = () => resolve(paths[lib]);\n",
       "        s.onerror = () => reject(`Error loading script: ${paths[lib]}`);\n",
       "        document.getElementsByTagName(\"head\")[0].appendChild(s);\n",
       "      });\n",
       "    }\n",
       "\n",
       "    function showError(err) {\n",
       "      outputDiv.innerHTML = `<div class=\"error\" style=\"color:red;\">${err}</div>`;\n",
       "      throw err;\n",
       "    }\n",
       "\n",
       "    function displayChart(vegaEmbed) {\n",
       "      vegaEmbed(outputDiv, spec, embedOpt)\n",
       "        .catch(err => showError(`Javascript Error: ${err.message}<br>This usually means there's a typo in your chart specification. See the javascript console for the full traceback.`));\n",
       "    }\n",
       "\n",
       "    if(typeof define === \"function\" && define.amd) {\n",
       "      requirejs.config({paths});\n",
       "      require([\"vega-embed\"], displayChart, err => showError(`Error loading script: ${err.message}`));\n",
       "    } else if (typeof vegaEmbed === \"function\") {\n",
       "      displayChart(vegaEmbed);\n",
       "    } else {\n",
       "      loadScript(\"vega\")\n",
       "        .then(() => loadScript(\"vega-lite\"))\n",
       "        .then(() => loadScript(\"vega-embed\"))\n",
       "        .catch(showError)\n",
       "        .then(() => displayChart(vegaEmbed));\n",
       "    }\n",
       "  })({\"config\": {\"view\": {\"continuousWidth\": 400, \"continuousHeight\": 300}}, \"layer\": [{\"mark\": {\"type\": \"bar\", \"size\": 60}, \"encoding\": {\"color\": {\"type\": \"nominal\", \"field\": \"cat\", \"legend\": null}, \"x\": {\"type\": \"quantitative\", \"axis\": {\"values\": [0, 20, 40, 100]}, \"field\": \"%\", \"title\": \"%\"}}}, {\"mark\": {\"type\": \"text\", \"color\": \"#263238\", \"fontSize\": 20}, \"encoding\": {\"text\": {\"type\": \"nominal\", \"field\": \"cat\"}, \"x\": {\"type\": \"quantitative\", \"field\": \"textPos\"}}}], \"data\": {\"name\": \"data-3922e68512a3340b7af8d9cc532c9633\"}, \"height\": 62, \"width\": 800, \"$schema\": \"https://vega.github.io/schema/vega-lite/v4.0.0.json\", \"datasets\": {\"data-3922e68512a3340b7af8d9cc532c9633\": [{\"cat\": \"Examen\", \"%\": 60, \"textPos\": 70}, {\"cat\": \"Presentations\", \"%\": 20, \"textPos\": 30}, {\"cat\": \"Project\", \"%\": 20, \"textPos\": 10}]}}, {\"mode\": \"vega-lite\"});\n",
       "</script>"
      ],
      "text/plain": [
       "alt.LayerChart(...)"
      ]
     },
     "execution_count": 3,
     "metadata": {},
     "output_type": "execute_result"
    }
   ],
   "source": [
    "evaluations = pd.DataFrame(\n",
    "    [(\"Examen\", 60, 70), (\"Presentations\", 20, 30), (\"Project\", 20, 10)],\n",
    "    columns=[\"cat\", \"%\", \"textPos\"],\n",
    ")\n",
    "\n",
    "base = alt.Chart(evaluations)\n",
    "bar = base.mark_bar(size=60).encode(\n",
    "    alt.X(\"%\", title=\"%\", axis=alt.Axis(values=[0, 20, 40, 100])),\n",
    "    alt.Color(\"cat\", legend=None),\n",
    ")\n",
    "text = base.mark_text(**text_args).encode(alt.X(\"textPos\"), alt.Text(\"cat\"))\n",
    "\n",
    "(bar + text).properties(height=62, width=800)"
   ]
  },
  {
   "cell_type": "markdown",
   "metadata": {},
   "source": [
    "<!--NAVIGATION-->\n",
    "| [Contents](index.ipynb) | [Introduction to Python](01.00-why-python.ipynb) >"
   ]
  }
 ],
 "metadata": {
  "kernelspec": {
   "display_name": "Python 3",
   "language": "python",
   "name": "conda-env-tutorials-py"
  },
  "language_info": {
   "codemirror_mode": {
    "name": "ipython",
    "version": 3
   },
   "file_extension": ".py",
   "mimetype": "text/x-python",
   "name": "python",
   "nbconvert_exporter": "python",
   "pygments_lexer": "ipython3",
   "version": "3.8.1"
  },
  "pycharm": {
   "stem_cell": {
    "cell_type": "raw",
    "metadata": {
     "collapsed": false
    },
    "source": []
   }
  },
  "toc-showtags": false
 },
 "nbformat": 4,
 "nbformat_minor": 4
}
