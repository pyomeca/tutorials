{
 "cells": [
  {
   "cell_type": "markdown",
   "metadata": {},
   "source": [
    "<!--BOOK_INFORMATION-->\n",
    "<img style=\"float: right; width: 100px\" src=\"https://raw.github.com/pyomeca/design/master/logo/logo_cropped_doc.svg?sanitize=true\">\n",
    "<font size=\"+3\">Effective computation in Biomechanics</font>\n",
    "\n",
    "<font size=\"+2\">Romain Martinez</font> <a href=\"https://github.com/romainmartinez\"><img src=\"https://img.shields.io/badge/github-romainmartinez-green?logo=github&style=social\" /></a>"
   ]
  },
  {
   "cell_type": "markdown",
   "metadata": {},
   "source": [
    "<!--NAVIGATION-->\n",
    "< [Preface](00.00-preface.ipynb) | [Contents](index.ipynb) | [Python fundamentals](01.01-python-base.ipynb) >"
   ]
  },
  {
   "cell_type": "markdown",
   "metadata": {},
   "source": [
    "# Introduction to Python"
   ]
  },
  {
   "cell_type": "markdown",
   "metadata": {},
   "source": [
    "## Why programming?\n",
    "\n",
    "All modern biomechanics relies on a computer in some part of their scientific workflow. Some only use computers as word processing\n",
    "devices. Others may use computers that collect and analyze data.\n",
    "\n",
    "This course introduces ways to harness computers to accomplish and automate most aspect of research.\n",
    "\n",
    "This is not a pure biomechanics course nor a pure programming course. This course is about what\n",
    "happens when those two worlds collide. This course is about _computational biomechanics_."
   ]
  },
  {
   "cell_type": "markdown",
   "metadata": {},
   "source": [
    "## Why Python?"
   ]
  },
  {
   "cell_type": "markdown",
   "metadata": {},
   "source": [
    "### Python is huge\n",
    "\n",
    "<img style=\"float: right; width: 100px\" src=\"https://upload.wikimedia.org/wikipedia/commons/c/c3/Python-logo-notext.svg?sanitize=true\">\n",
    "\n",
    "Developers use Python to work on small, personal projects all the way up to some of the largest internet companies in the world:\n",
    "\n",
    "- [Facebook](https://engineering.fb.com/production-engineering/python-in-production-engineering/)\n",
    "- [Instagram](https://thenewstack.io/instagram-makes-smooth-move-python-3/)\n",
    "- [Google](https://stackoverflow.com/questions/2560310/heavy-usage-of-python-at-google/2561008#2561008)\n",
    "- [Netflix](https://medium.com/netflix-techblog/python-at-netflix-86b6028b3b3e)\n",
    "- [Reddit](https://redditblog.com/2005/12/05/on-lisp/)\n",
    "- [Dropbox](https://anvilventures.com/blog/looking-inside-the-box.html)\n",
    "- [The black hole picture](https://www.sciencenews.org/article/black-hole-first-picture-event-horizon-telescope)\n",
    "\n",
    "Python is [the fastest-growing](https://insights.stackoverflow.com/survey/2019#technology), the four most popular and is the second most loved programming language."
   ]
  },
  {
   "cell_type": "code",
   "execution_count": 1,
   "metadata": {},
   "outputs": [
    {
     "data": {
      "text/html": [
       "\n",
       "<div id=\"altair-viz-1\"></div>\n",
       "<script type=\"text/javascript\">\n",
       "  (function(spec, embedOpt){\n",
       "    const outputDiv = document.getElementById(\"altair-viz-1\");\n",
       "    const paths = {\n",
       "      \"vega\": \"https://cdn.jsdelivr.net/npm//vega@5?noext\",\n",
       "      \"vega-lib\": \"https://cdn.jsdelivr.net/npm//vega-lib?noext\",\n",
       "      \"vega-lite\": \"https://cdn.jsdelivr.net/npm//vega-lite@4.0.0?noext\",\n",
       "      \"vega-embed\": \"https://cdn.jsdelivr.net/npm//vega-embed@6?noext\",\n",
       "    };\n",
       "\n",
       "    function loadScript(lib) {\n",
       "      return new Promise(function(resolve, reject) {\n",
       "        var s = document.createElement('script');\n",
       "        s.src = paths[lib];\n",
       "        s.async = true;\n",
       "        s.onload = () => resolve(paths[lib]);\n",
       "        s.onerror = () => reject(`Error loading script: ${paths[lib]}`);\n",
       "        document.getElementsByTagName(\"head\")[0].appendChild(s);\n",
       "      });\n",
       "    }\n",
       "\n",
       "    function showError(err) {\n",
       "      outputDiv.innerHTML = `<div class=\"error\" style=\"color:red;\">${err}</div>`;\n",
       "      throw err;\n",
       "    }\n",
       "\n",
       "    function displayChart(vegaEmbed) {\n",
       "      vegaEmbed(outputDiv, spec, embedOpt)\n",
       "        .catch(err => showError(`Javascript Error: ${err.message}<br>This usually means there's a typo in your chart specification. See the javascript console for the full traceback.`));\n",
       "    }\n",
       "\n",
       "    if(typeof define === \"function\" && define.amd) {\n",
       "      requirejs.config({paths});\n",
       "      require([\"vega-embed\"], displayChart, err => showError(`Error loading script: ${err.message}`));\n",
       "    } else if (typeof vegaEmbed === \"function\") {\n",
       "      displayChart(vegaEmbed);\n",
       "    } else {\n",
       "      loadScript(\"vega\")\n",
       "        .then(() => loadScript(\"vega-lite\"))\n",
       "        .then(() => loadScript(\"vega-embed\"))\n",
       "        .catch(showError)\n",
       "        .then(() => displayChart(vegaEmbed));\n",
       "    }\n",
       "  })({\"config\": {\"view\": {\"continuousWidth\": 400, \"continuousHeight\": 300}}, \"data\": {\"name\": \"data-b77a63fe97000b911aeffb5d46ffdb5d\"}, \"mark\": \"line\", \"encoding\": {\"color\": {\"type\": \"nominal\", \"field\": \"Language\"}, \"x\": {\"type\": \"temporal\", \"field\": \"Date\", \"title\": null}, \"y\": {\"type\": \"quantitative\", \"field\": \"Interest\"}}, \"title\": \"Google Trends interest over time\", \"$schema\": \"https://vega.github.io/schema/vega-lite/v4.0.0.json\", \"datasets\": {\"data-b77a63fe97000b911aeffb5d46ffdb5d\": [{\"Date\": \"2004-01-01T00:00:00\", \"Language\": \"Python\", \"Interest\": 32}, {\"Date\": \"2004-02-01T00:00:00\", \"Language\": \"Python\", \"Interest\": 32}, {\"Date\": \"2004-03-01T00:00:00\", \"Language\": \"Python\", \"Interest\": 32}, {\"Date\": \"2004-04-01T00:00:00\", \"Language\": \"Python\", \"Interest\": 32}, {\"Date\": \"2004-05-01T00:00:00\", \"Language\": \"Python\", \"Interest\": 32}, {\"Date\": \"2004-06-01T00:00:00\", \"Language\": \"Python\", \"Interest\": 32}, {\"Date\": \"2004-07-01T00:00:00\", \"Language\": \"Python\", \"Interest\": 32}, {\"Date\": \"2004-08-01T00:00:00\", \"Language\": \"Python\", \"Interest\": 33}, {\"Date\": \"2004-09-01T00:00:00\", \"Language\": \"Python\", \"Interest\": 32}, {\"Date\": \"2004-10-01T00:00:00\", \"Language\": \"Python\", \"Interest\": 32}, {\"Date\": \"2004-11-01T00:00:00\", \"Language\": \"Python\", \"Interest\": 29}, {\"Date\": \"2004-12-01T00:00:00\", \"Language\": \"Python\", \"Interest\": 30}, {\"Date\": \"2005-01-01T00:00:00\", \"Language\": \"Python\", \"Interest\": 31}, {\"Date\": \"2005-02-01T00:00:00\", \"Language\": \"Python\", \"Interest\": 32}, {\"Date\": \"2005-03-01T00:00:00\", \"Language\": \"Python\", \"Interest\": 31}, {\"Date\": \"2005-04-01T00:00:00\", \"Language\": \"Python\", \"Interest\": 30}, {\"Date\": \"2005-05-01T00:00:00\", \"Language\": \"Python\", \"Interest\": 33}, {\"Date\": \"2005-06-01T00:00:00\", \"Language\": \"Python\", \"Interest\": 32}, {\"Date\": \"2005-07-01T00:00:00\", \"Language\": \"Python\", \"Interest\": 32}, {\"Date\": \"2005-08-01T00:00:00\", \"Language\": \"Python\", \"Interest\": 31}, {\"Date\": \"2005-09-01T00:00:00\", \"Language\": \"Python\", \"Interest\": 30}, {\"Date\": \"2005-10-01T00:00:00\", \"Language\": \"Python\", \"Interest\": 35}, {\"Date\": \"2005-11-01T00:00:00\", \"Language\": \"Python\", \"Interest\": 31}, {\"Date\": \"2005-12-01T00:00:00\", \"Language\": \"Python\", \"Interest\": 29}, {\"Date\": \"2006-01-01T00:00:00\", \"Language\": \"Python\", \"Interest\": 30}, {\"Date\": \"2006-02-01T00:00:00\", \"Language\": \"Python\", \"Interest\": 30}, {\"Date\": \"2006-03-01T00:00:00\", \"Language\": \"Python\", \"Interest\": 29}, {\"Date\": \"2006-04-01T00:00:00\", \"Language\": \"Python\", \"Interest\": 29}, {\"Date\": \"2006-05-01T00:00:00\", \"Language\": \"Python\", \"Interest\": 28}, {\"Date\": \"2006-06-01T00:00:00\", \"Language\": \"Python\", \"Interest\": 28}, {\"Date\": \"2006-07-01T00:00:00\", \"Language\": \"Python\", \"Interest\": 29}, {\"Date\": \"2006-08-01T00:00:00\", \"Language\": \"Python\", \"Interest\": 29}, {\"Date\": \"2006-09-01T00:00:00\", \"Language\": \"Python\", \"Interest\": 31}, {\"Date\": \"2006-10-01T00:00:00\", \"Language\": \"Python\", \"Interest\": 29}, {\"Date\": \"2006-11-01T00:00:00\", \"Language\": \"Python\", \"Interest\": 29}, {\"Date\": \"2006-12-01T00:00:00\", \"Language\": \"Python\", \"Interest\": 28}, {\"Date\": \"2007-01-01T00:00:00\", \"Language\": \"Python\", \"Interest\": 29}, {\"Date\": \"2007-02-01T00:00:00\", \"Language\": \"Python\", \"Interest\": 28}, {\"Date\": \"2007-03-01T00:00:00\", \"Language\": \"Python\", \"Interest\": 30}, {\"Date\": \"2007-04-01T00:00:00\", \"Language\": \"Python\", \"Interest\": 28}, {\"Date\": \"2007-05-01T00:00:00\", \"Language\": \"Python\", \"Interest\": 29}, {\"Date\": \"2007-06-01T00:00:00\", \"Language\": \"Python\", \"Interest\": 28}, {\"Date\": \"2007-07-01T00:00:00\", \"Language\": \"Python\", \"Interest\": 29}, {\"Date\": \"2007-08-01T00:00:00\", \"Language\": \"Python\", \"Interest\": 29}, {\"Date\": \"2007-09-01T00:00:00\", \"Language\": \"Python\", \"Interest\": 28}, {\"Date\": \"2007-10-01T00:00:00\", \"Language\": \"Python\", \"Interest\": 29}, {\"Date\": \"2007-11-01T00:00:00\", \"Language\": \"Python\", \"Interest\": 28}, {\"Date\": \"2007-12-01T00:00:00\", \"Language\": \"Python\", \"Interest\": 27}, {\"Date\": \"2008-01-01T00:00:00\", \"Language\": \"Python\", \"Interest\": 26}, {\"Date\": \"2008-02-01T00:00:00\", \"Language\": \"Python\", \"Interest\": 26}, {\"Date\": \"2008-03-01T00:00:00\", \"Language\": \"Python\", \"Interest\": 26}, {\"Date\": \"2008-04-01T00:00:00\", \"Language\": \"Python\", \"Interest\": 29}, {\"Date\": \"2008-05-01T00:00:00\", \"Language\": \"Python\", \"Interest\": 28}, {\"Date\": \"2008-06-01T00:00:00\", \"Language\": \"Python\", \"Interest\": 27}, {\"Date\": \"2008-07-01T00:00:00\", \"Language\": \"Python\", \"Interest\": 27}, {\"Date\": \"2008-08-01T00:00:00\", \"Language\": \"Python\", \"Interest\": 27}, {\"Date\": \"2008-09-01T00:00:00\", \"Language\": \"Python\", \"Interest\": 28}, {\"Date\": \"2008-10-01T00:00:00\", \"Language\": \"Python\", \"Interest\": 28}, {\"Date\": \"2008-11-01T00:00:00\", \"Language\": \"Python\", \"Interest\": 27}, {\"Date\": \"2008-12-01T00:00:00\", \"Language\": \"Python\", \"Interest\": 27}, {\"Date\": \"2009-01-01T00:00:00\", \"Language\": \"Python\", \"Interest\": 27}, {\"Date\": \"2009-02-01T00:00:00\", \"Language\": \"Python\", \"Interest\": 29}, {\"Date\": \"2009-03-01T00:00:00\", \"Language\": \"Python\", \"Interest\": 30}, {\"Date\": \"2009-04-01T00:00:00\", \"Language\": \"Python\", \"Interest\": 29}, {\"Date\": \"2009-05-01T00:00:00\", \"Language\": \"Python\", \"Interest\": 27}, {\"Date\": \"2009-06-01T00:00:00\", \"Language\": \"Python\", \"Interest\": 28}, {\"Date\": \"2009-07-01T00:00:00\", \"Language\": \"Python\", \"Interest\": 28}, {\"Date\": \"2009-08-01T00:00:00\", \"Language\": \"Python\", \"Interest\": 28}, {\"Date\": \"2009-09-01T00:00:00\", \"Language\": \"Python\", \"Interest\": 28}, {\"Date\": \"2009-10-01T00:00:00\", \"Language\": \"Python\", \"Interest\": 29}, {\"Date\": \"2009-11-01T00:00:00\", \"Language\": \"Python\", \"Interest\": 28}, {\"Date\": \"2009-12-01T00:00:00\", \"Language\": \"Python\", \"Interest\": 25}, {\"Date\": \"2010-01-01T00:00:00\", \"Language\": \"Python\", \"Interest\": 26}, {\"Date\": \"2010-02-01T00:00:00\", \"Language\": \"Python\", \"Interest\": 27}, {\"Date\": \"2010-03-01T00:00:00\", \"Language\": \"Python\", \"Interest\": 29}, {\"Date\": \"2010-04-01T00:00:00\", \"Language\": \"Python\", \"Interest\": 28}, {\"Date\": \"2010-05-01T00:00:00\", \"Language\": \"Python\", \"Interest\": 27}, {\"Date\": \"2010-06-01T00:00:00\", \"Language\": \"Python\", \"Interest\": 27}, {\"Date\": \"2010-07-01T00:00:00\", \"Language\": \"Python\", \"Interest\": 25}, {\"Date\": \"2010-08-01T00:00:00\", \"Language\": \"Python\", \"Interest\": 25}, {\"Date\": \"2010-09-01T00:00:00\", \"Language\": \"Python\", \"Interest\": 26}, {\"Date\": \"2010-10-01T00:00:00\", \"Language\": \"Python\", \"Interest\": 28}, {\"Date\": \"2010-11-01T00:00:00\", \"Language\": \"Python\", \"Interest\": 27}, {\"Date\": \"2010-12-01T00:00:00\", \"Language\": \"Python\", \"Interest\": 26}, {\"Date\": \"2011-01-01T00:00:00\", \"Language\": \"Python\", \"Interest\": 26}, {\"Date\": \"2011-02-01T00:00:00\", \"Language\": \"Python\", \"Interest\": 27}, {\"Date\": \"2011-03-01T00:00:00\", \"Language\": \"Python\", \"Interest\": 28}, {\"Date\": \"2011-04-01T00:00:00\", \"Language\": \"Python\", \"Interest\": 28}, {\"Date\": \"2011-05-01T00:00:00\", \"Language\": \"Python\", \"Interest\": 27}, {\"Date\": \"2011-06-01T00:00:00\", \"Language\": \"Python\", \"Interest\": 27}, {\"Date\": \"2011-07-01T00:00:00\", \"Language\": \"Python\", \"Interest\": 27}, {\"Date\": \"2011-08-01T00:00:00\", \"Language\": \"Python\", \"Interest\": 27}, {\"Date\": \"2011-09-01T00:00:00\", \"Language\": \"Python\", \"Interest\": 27}, {\"Date\": \"2011-10-01T00:00:00\", \"Language\": \"Python\", \"Interest\": 28}, {\"Date\": \"2011-11-01T00:00:00\", \"Language\": \"Python\", \"Interest\": 28}, {\"Date\": \"2011-12-01T00:00:00\", \"Language\": \"Python\", \"Interest\": 26}, {\"Date\": \"2012-01-01T00:00:00\", \"Language\": \"Python\", \"Interest\": 26}, {\"Date\": \"2012-02-01T00:00:00\", \"Language\": \"Python\", \"Interest\": 29}, {\"Date\": \"2012-03-01T00:00:00\", \"Language\": \"Python\", \"Interest\": 29}, {\"Date\": \"2012-04-01T00:00:00\", \"Language\": \"Python\", \"Interest\": 28}, {\"Date\": \"2012-05-01T00:00:00\", \"Language\": \"Python\", \"Interest\": 28}, {\"Date\": \"2012-06-01T00:00:00\", \"Language\": \"Python\", \"Interest\": 27}, {\"Date\": \"2012-07-01T00:00:00\", \"Language\": \"Python\", \"Interest\": 28}, {\"Date\": \"2012-08-01T00:00:00\", \"Language\": \"Python\", \"Interest\": 28}, {\"Date\": \"2012-09-01T00:00:00\", \"Language\": \"Python\", \"Interest\": 29}, {\"Date\": \"2012-10-01T00:00:00\", \"Language\": \"Python\", \"Interest\": 31}, {\"Date\": \"2012-11-01T00:00:00\", \"Language\": \"Python\", \"Interest\": 30}, {\"Date\": \"2012-12-01T00:00:00\", \"Language\": \"Python\", \"Interest\": 26}, {\"Date\": \"2013-01-01T00:00:00\", \"Language\": \"Python\", \"Interest\": 29}, {\"Date\": \"2013-02-01T00:00:00\", \"Language\": \"Python\", \"Interest\": 32}, {\"Date\": \"2013-03-01T00:00:00\", \"Language\": \"Python\", \"Interest\": 32}, {\"Date\": \"2013-04-01T00:00:00\", \"Language\": \"Python\", \"Interest\": 32}, {\"Date\": \"2013-05-01T00:00:00\", \"Language\": \"Python\", \"Interest\": 31}, {\"Date\": \"2013-06-01T00:00:00\", \"Language\": \"Python\", \"Interest\": 30}, {\"Date\": \"2013-07-01T00:00:00\", \"Language\": \"Python\", \"Interest\": 31}, {\"Date\": \"2013-08-01T00:00:00\", \"Language\": \"Python\", \"Interest\": 32}, {\"Date\": \"2013-09-01T00:00:00\", \"Language\": \"Python\", \"Interest\": 32}, {\"Date\": \"2013-10-01T00:00:00\", \"Language\": \"Python\", \"Interest\": 35}, {\"Date\": \"2013-11-01T00:00:00\", \"Language\": \"Python\", \"Interest\": 36}, {\"Date\": \"2013-12-01T00:00:00\", \"Language\": \"Python\", \"Interest\": 31}, {\"Date\": \"2014-01-01T00:00:00\", \"Language\": \"Python\", \"Interest\": 33}, {\"Date\": \"2014-02-01T00:00:00\", \"Language\": \"Python\", \"Interest\": 35}, {\"Date\": \"2014-03-01T00:00:00\", \"Language\": \"Python\", \"Interest\": 36}, {\"Date\": \"2014-04-01T00:00:00\", \"Language\": \"Python\", \"Interest\": 36}, {\"Date\": \"2014-05-01T00:00:00\", \"Language\": \"Python\", \"Interest\": 35}, {\"Date\": \"2014-06-01T00:00:00\", \"Language\": \"Python\", \"Interest\": 33}, {\"Date\": \"2014-07-01T00:00:00\", \"Language\": \"Python\", \"Interest\": 34}, {\"Date\": \"2014-08-01T00:00:00\", \"Language\": \"Python\", \"Interest\": 31}, {\"Date\": \"2014-09-01T00:00:00\", \"Language\": \"Python\", \"Interest\": 36}, {\"Date\": \"2014-10-01T00:00:00\", \"Language\": \"Python\", \"Interest\": 38}, {\"Date\": \"2014-11-01T00:00:00\", \"Language\": \"Python\", \"Interest\": 37}, {\"Date\": \"2014-12-01T00:00:00\", \"Language\": \"Python\", \"Interest\": 34}, {\"Date\": \"2015-01-01T00:00:00\", \"Language\": \"Python\", \"Interest\": 35}, {\"Date\": \"2015-02-01T00:00:00\", \"Language\": \"Python\", \"Interest\": 39}, {\"Date\": \"2015-03-01T00:00:00\", \"Language\": \"Python\", \"Interest\": 40}, {\"Date\": \"2015-04-01T00:00:00\", \"Language\": \"Python\", \"Interest\": 40}, {\"Date\": \"2015-05-01T00:00:00\", \"Language\": \"Python\", \"Interest\": 37}, {\"Date\": \"2015-06-01T00:00:00\", \"Language\": \"Python\", \"Interest\": 40}, {\"Date\": \"2015-07-01T00:00:00\", \"Language\": \"Python\", \"Interest\": 38}, {\"Date\": \"2015-08-01T00:00:00\", \"Language\": \"Python\", \"Interest\": 37}, {\"Date\": \"2015-09-01T00:00:00\", \"Language\": \"Python\", \"Interest\": 42}, {\"Date\": \"2015-10-01T00:00:00\", \"Language\": \"Python\", \"Interest\": 45}, {\"Date\": \"2015-11-01T00:00:00\", \"Language\": \"Python\", \"Interest\": 43}, {\"Date\": \"2015-12-01T00:00:00\", \"Language\": \"Python\", \"Interest\": 40}, {\"Date\": \"2016-01-01T00:00:00\", \"Language\": \"Python\", \"Interest\": 45}, {\"Date\": \"2016-02-01T00:00:00\", \"Language\": \"Python\", \"Interest\": 51}, {\"Date\": \"2016-03-01T00:00:00\", \"Language\": \"Python\", \"Interest\": 52}, {\"Date\": \"2016-04-01T00:00:00\", \"Language\": \"Python\", \"Interest\": 52}, {\"Date\": \"2016-05-01T00:00:00\", \"Language\": \"Python\", \"Interest\": 51}, {\"Date\": \"2016-06-01T00:00:00\", \"Language\": \"Python\", \"Interest\": 51}, {\"Date\": \"2016-07-01T00:00:00\", \"Language\": \"Python\", \"Interest\": 47}, {\"Date\": \"2016-08-01T00:00:00\", \"Language\": \"Python\", \"Interest\": 47}, {\"Date\": \"2016-09-01T00:00:00\", \"Language\": \"Python\", \"Interest\": 54}, {\"Date\": \"2016-10-01T00:00:00\", \"Language\": \"Python\", \"Interest\": 56}, {\"Date\": \"2016-11-01T00:00:00\", \"Language\": \"Python\", \"Interest\": 59}, {\"Date\": \"2016-12-01T00:00:00\", \"Language\": \"Python\", \"Interest\": 54}, {\"Date\": \"2017-01-01T00:00:00\", \"Language\": \"Python\", \"Interest\": 58}, {\"Date\": \"2017-02-01T00:00:00\", \"Language\": \"Python\", \"Interest\": 67}, {\"Date\": \"2017-03-01T00:00:00\", \"Language\": \"Python\", \"Interest\": 71}, {\"Date\": \"2017-04-01T00:00:00\", \"Language\": \"Python\", \"Interest\": 66}, {\"Date\": \"2017-05-01T00:00:00\", \"Language\": \"Python\", \"Interest\": 65}, {\"Date\": \"2017-06-01T00:00:00\", \"Language\": \"Python\", \"Interest\": 65}, {\"Date\": \"2017-07-01T00:00:00\", \"Language\": \"Python\", \"Interest\": 62}, {\"Date\": \"2017-08-01T00:00:00\", \"Language\": \"Python\", \"Interest\": 63}, {\"Date\": \"2017-09-01T00:00:00\", \"Language\": \"Python\", \"Interest\": 70}, {\"Date\": \"2017-10-01T00:00:00\", \"Language\": \"Python\", \"Interest\": 74}, {\"Date\": \"2017-11-01T00:00:00\", \"Language\": \"Python\", \"Interest\": 76}, {\"Date\": \"2017-12-01T00:00:00\", \"Language\": \"Python\", \"Interest\": 68}, {\"Date\": \"2018-01-01T00:00:00\", \"Language\": \"Python\", \"Interest\": 71}, {\"Date\": \"2018-02-01T00:00:00\", \"Language\": \"Python\", \"Interest\": 78}, {\"Date\": \"2018-03-01T00:00:00\", \"Language\": \"Python\", \"Interest\": 77}, {\"Date\": \"2018-04-01T00:00:00\", \"Language\": \"Python\", \"Interest\": 79}, {\"Date\": \"2018-05-01T00:00:00\", \"Language\": \"Python\", \"Interest\": 76}, {\"Date\": \"2018-06-01T00:00:00\", \"Language\": \"Python\", \"Interest\": 76}, {\"Date\": \"2018-07-01T00:00:00\", \"Language\": \"Python\", \"Interest\": 75}, {\"Date\": \"2018-08-01T00:00:00\", \"Language\": \"Python\", \"Interest\": 76}, {\"Date\": \"2018-09-01T00:00:00\", \"Language\": \"Python\", \"Interest\": 80}, {\"Date\": \"2018-10-01T00:00:00\", \"Language\": \"Python\", \"Interest\": 88}, {\"Date\": \"2018-11-01T00:00:00\", \"Language\": \"Python\", \"Interest\": 84}, {\"Date\": \"2018-12-01T00:00:00\", \"Language\": \"Python\", \"Interest\": 74}, {\"Date\": \"2019-01-01T00:00:00\", \"Language\": \"Python\", \"Interest\": 79}, {\"Date\": \"2019-02-01T00:00:00\", \"Language\": \"Python\", \"Interest\": 88}, {\"Date\": \"2019-03-01T00:00:00\", \"Language\": \"Python\", \"Interest\": 87}, {\"Date\": \"2019-04-01T00:00:00\", \"Language\": \"Python\", \"Interest\": 90}, {\"Date\": \"2019-05-01T00:00:00\", \"Language\": \"Python\", \"Interest\": 86}, {\"Date\": \"2019-06-01T00:00:00\", \"Language\": \"Python\", \"Interest\": 88}, {\"Date\": \"2019-07-01T00:00:00\", \"Language\": \"Python\", \"Interest\": 91}, {\"Date\": \"2019-08-01T00:00:00\", \"Language\": \"Python\", \"Interest\": 88}, {\"Date\": \"2019-09-01T00:00:00\", \"Language\": \"Python\", \"Interest\": 100}, {\"Date\": \"2019-10-01T00:00:00\", \"Language\": \"Python\", \"Interest\": 100}, {\"Date\": \"2019-11-01T00:00:00\", \"Language\": \"Python\", \"Interest\": 100}, {\"Date\": \"2019-12-01T00:00:00\", \"Language\": \"Python\", \"Interest\": 97}, {\"Date\": \"2004-01-01T00:00:00\", \"Language\": \"Matlab\", \"Interest\": 32}, {\"Date\": \"2004-02-01T00:00:00\", \"Language\": \"Matlab\", \"Interest\": 40}, {\"Date\": \"2004-03-01T00:00:00\", \"Language\": \"Matlab\", \"Interest\": 40}, {\"Date\": \"2004-04-01T00:00:00\", \"Language\": \"Matlab\", \"Interest\": 41}, {\"Date\": \"2004-05-01T00:00:00\", \"Language\": \"Matlab\", \"Interest\": 36}, {\"Date\": \"2004-06-01T00:00:00\", \"Language\": \"Matlab\", \"Interest\": 34}, {\"Date\": \"2004-07-01T00:00:00\", \"Language\": \"Matlab\", \"Interest\": 31}, {\"Date\": \"2004-08-01T00:00:00\", \"Language\": \"Matlab\", \"Interest\": 28}, {\"Date\": \"2004-09-01T00:00:00\", \"Language\": \"Matlab\", \"Interest\": 35}, {\"Date\": \"2004-10-01T00:00:00\", \"Language\": \"Matlab\", \"Interest\": 39}, {\"Date\": \"2004-11-01T00:00:00\", \"Language\": \"Matlab\", \"Interest\": 37}, {\"Date\": \"2004-12-01T00:00:00\", \"Language\": \"Matlab\", \"Interest\": 30}, {\"Date\": \"2005-01-01T00:00:00\", \"Language\": \"Matlab\", \"Interest\": 29}, {\"Date\": \"2005-02-01T00:00:00\", \"Language\": \"Matlab\", \"Interest\": 33}, {\"Date\": \"2005-03-01T00:00:00\", \"Language\": \"Matlab\", \"Interest\": 34}, {\"Date\": \"2005-04-01T00:00:00\", \"Language\": \"Matlab\", \"Interest\": 35}, {\"Date\": \"2005-05-01T00:00:00\", \"Language\": \"Matlab\", \"Interest\": 32}, {\"Date\": \"2005-06-01T00:00:00\", \"Language\": \"Matlab\", \"Interest\": 29}, {\"Date\": \"2005-07-01T00:00:00\", \"Language\": \"Matlab\", \"Interest\": 24}, {\"Date\": \"2005-08-01T00:00:00\", \"Language\": \"Matlab\", \"Interest\": 22}, {\"Date\": \"2005-09-01T00:00:00\", \"Language\": \"Matlab\", \"Interest\": 29}, {\"Date\": \"2005-10-01T00:00:00\", \"Language\": \"Matlab\", \"Interest\": 33}, {\"Date\": \"2005-11-01T00:00:00\", \"Language\": \"Matlab\", \"Interest\": 32}, {\"Date\": \"2005-12-01T00:00:00\", \"Language\": \"Matlab\", \"Interest\": 25}, {\"Date\": \"2006-01-01T00:00:00\", \"Language\": \"Matlab\", \"Interest\": 24}, {\"Date\": \"2006-02-01T00:00:00\", \"Language\": \"Matlab\", \"Interest\": 29}, {\"Date\": \"2006-03-01T00:00:00\", \"Language\": \"Matlab\", \"Interest\": 30}, {\"Date\": \"2006-04-01T00:00:00\", \"Language\": \"Matlab\", \"Interest\": 29}, {\"Date\": \"2006-05-01T00:00:00\", \"Language\": \"Matlab\", \"Interest\": 28}, {\"Date\": \"2006-06-01T00:00:00\", \"Language\": \"Matlab\", \"Interest\": 24}, {\"Date\": \"2006-07-01T00:00:00\", \"Language\": \"Matlab\", \"Interest\": 20}, {\"Date\": \"2006-08-01T00:00:00\", \"Language\": \"Matlab\", \"Interest\": 19}, {\"Date\": \"2006-09-01T00:00:00\", \"Language\": \"Matlab\", \"Interest\": 24}, {\"Date\": \"2006-10-01T00:00:00\", \"Language\": \"Matlab\", \"Interest\": 28}, {\"Date\": \"2006-11-01T00:00:00\", \"Language\": \"Matlab\", \"Interest\": 28}, {\"Date\": \"2006-12-01T00:00:00\", \"Language\": \"Matlab\", \"Interest\": 22}, {\"Date\": \"2007-01-01T00:00:00\", \"Language\": \"Matlab\", \"Interest\": 22}, {\"Date\": \"2007-02-01T00:00:00\", \"Language\": \"Matlab\", \"Interest\": 24}, {\"Date\": \"2007-03-01T00:00:00\", \"Language\": \"Matlab\", \"Interest\": 26}, {\"Date\": \"2007-04-01T00:00:00\", \"Language\": \"Matlab\", \"Interest\": 26}, {\"Date\": \"2007-05-01T00:00:00\", \"Language\": \"Matlab\", \"Interest\": 25}, {\"Date\": \"2007-06-01T00:00:00\", \"Language\": \"Matlab\", \"Interest\": 22}, {\"Date\": \"2007-07-01T00:00:00\", \"Language\": \"Matlab\", \"Interest\": 19}, {\"Date\": \"2007-08-01T00:00:00\", \"Language\": \"Matlab\", \"Interest\": 18}, {\"Date\": \"2007-09-01T00:00:00\", \"Language\": \"Matlab\", \"Interest\": 23}, {\"Date\": \"2007-10-01T00:00:00\", \"Language\": \"Matlab\", \"Interest\": 26}, {\"Date\": \"2007-11-01T00:00:00\", \"Language\": \"Matlab\", \"Interest\": 27}, {\"Date\": \"2007-12-01T00:00:00\", \"Language\": \"Matlab\", \"Interest\": 21}, {\"Date\": \"2008-01-01T00:00:00\", \"Language\": \"Matlab\", \"Interest\": 20}, {\"Date\": \"2008-02-01T00:00:00\", \"Language\": \"Matlab\", \"Interest\": 22}, {\"Date\": \"2008-03-01T00:00:00\", \"Language\": \"Matlab\", \"Interest\": 24}, {\"Date\": \"2008-04-01T00:00:00\", \"Language\": \"Matlab\", \"Interest\": 26}, {\"Date\": \"2008-05-01T00:00:00\", \"Language\": \"Matlab\", \"Interest\": 24}, {\"Date\": \"2008-06-01T00:00:00\", \"Language\": \"Matlab\", \"Interest\": 21}, {\"Date\": \"2008-07-01T00:00:00\", \"Language\": \"Matlab\", \"Interest\": 18}, {\"Date\": \"2008-08-01T00:00:00\", \"Language\": \"Matlab\", \"Interest\": 16}, {\"Date\": \"2008-09-01T00:00:00\", \"Language\": \"Matlab\", \"Interest\": 22}, {\"Date\": \"2008-10-01T00:00:00\", \"Language\": \"Matlab\", \"Interest\": 26}, {\"Date\": \"2008-11-01T00:00:00\", \"Language\": \"Matlab\", \"Interest\": 25}, {\"Date\": \"2008-12-01T00:00:00\", \"Language\": \"Matlab\", \"Interest\": 21}, {\"Date\": \"2009-01-01T00:00:00\", \"Language\": \"Matlab\", \"Interest\": 20}, {\"Date\": \"2009-02-01T00:00:00\", \"Language\": \"Matlab\", \"Interest\": 24}, {\"Date\": \"2009-03-01T00:00:00\", \"Language\": \"Matlab\", \"Interest\": 26}, {\"Date\": \"2009-04-01T00:00:00\", \"Language\": \"Matlab\", \"Interest\": 27}, {\"Date\": \"2009-05-01T00:00:00\", \"Language\": \"Matlab\", \"Interest\": 24}, {\"Date\": \"2009-06-01T00:00:00\", \"Language\": \"Matlab\", \"Interest\": 22}, {\"Date\": \"2009-07-01T00:00:00\", \"Language\": \"Matlab\", \"Interest\": 19}, {\"Date\": \"2009-08-01T00:00:00\", \"Language\": \"Matlab\", \"Interest\": 18}, {\"Date\": \"2009-09-01T00:00:00\", \"Language\": \"Matlab\", \"Interest\": 23}, {\"Date\": \"2009-10-01T00:00:00\", \"Language\": \"Matlab\", \"Interest\": 27}, {\"Date\": \"2009-11-01T00:00:00\", \"Language\": \"Matlab\", \"Interest\": 28}, {\"Date\": \"2009-12-01T00:00:00\", \"Language\": \"Matlab\", \"Interest\": 23}, {\"Date\": \"2010-01-01T00:00:00\", \"Language\": \"Matlab\", \"Interest\": 22}, {\"Date\": \"2010-02-01T00:00:00\", \"Language\": \"Matlab\", \"Interest\": 23}, {\"Date\": \"2010-03-01T00:00:00\", \"Language\": \"Matlab\", \"Interest\": 28}, {\"Date\": \"2010-04-01T00:00:00\", \"Language\": \"Matlab\", \"Interest\": 28}, {\"Date\": \"2010-05-01T00:00:00\", \"Language\": \"Matlab\", \"Interest\": 26}, {\"Date\": \"2010-06-01T00:00:00\", \"Language\": \"Matlab\", \"Interest\": 23}, {\"Date\": \"2010-07-01T00:00:00\", \"Language\": \"Matlab\", \"Interest\": 18}, {\"Date\": \"2010-08-01T00:00:00\", \"Language\": \"Matlab\", \"Interest\": 17}, {\"Date\": \"2010-09-01T00:00:00\", \"Language\": \"Matlab\", \"Interest\": 23}, {\"Date\": \"2010-10-01T00:00:00\", \"Language\": \"Matlab\", \"Interest\": 27}, {\"Date\": \"2010-11-01T00:00:00\", \"Language\": \"Matlab\", \"Interest\": 27}, {\"Date\": \"2010-12-01T00:00:00\", \"Language\": \"Matlab\", \"Interest\": 21}, {\"Date\": \"2011-01-01T00:00:00\", \"Language\": \"Matlab\", \"Interest\": 20}, {\"Date\": \"2011-02-01T00:00:00\", \"Language\": \"Matlab\", \"Interest\": 24}, {\"Date\": \"2011-03-01T00:00:00\", \"Language\": \"Matlab\", \"Interest\": 26}, {\"Date\": \"2011-04-01T00:00:00\", \"Language\": \"Matlab\", \"Interest\": 26}, {\"Date\": \"2011-05-01T00:00:00\", \"Language\": \"Matlab\", \"Interest\": 24}, {\"Date\": \"2011-06-01T00:00:00\", \"Language\": \"Matlab\", \"Interest\": 21}, {\"Date\": \"2011-07-01T00:00:00\", \"Language\": \"Matlab\", \"Interest\": 18}, {\"Date\": \"2011-08-01T00:00:00\", \"Language\": \"Matlab\", \"Interest\": 17}, {\"Date\": \"2011-09-01T00:00:00\", \"Language\": \"Matlab\", \"Interest\": 22}, {\"Date\": \"2011-10-01T00:00:00\", \"Language\": \"Matlab\", \"Interest\": 25}, {\"Date\": \"2011-11-01T00:00:00\", \"Language\": \"Matlab\", \"Interest\": 27}, {\"Date\": \"2011-12-01T00:00:00\", \"Language\": \"Matlab\", \"Interest\": 21}, {\"Date\": \"2012-01-01T00:00:00\", \"Language\": \"Matlab\", \"Interest\": 20}, {\"Date\": \"2012-02-01T00:00:00\", \"Language\": \"Matlab\", \"Interest\": 24}, {\"Date\": \"2012-03-01T00:00:00\", \"Language\": \"Matlab\", \"Interest\": 26}, {\"Date\": \"2012-04-01T00:00:00\", \"Language\": \"Matlab\", \"Interest\": 25}, {\"Date\": \"2012-05-01T00:00:00\", \"Language\": \"Matlab\", \"Interest\": 24}, {\"Date\": \"2012-06-01T00:00:00\", \"Language\": \"Matlab\", \"Interest\": 20}, {\"Date\": \"2012-07-01T00:00:00\", \"Language\": \"Matlab\", \"Interest\": 17}, {\"Date\": \"2012-08-01T00:00:00\", \"Language\": \"Matlab\", \"Interest\": 17}, {\"Date\": \"2012-09-01T00:00:00\", \"Language\": \"Matlab\", \"Interest\": 22}, {\"Date\": \"2012-10-01T00:00:00\", \"Language\": \"Matlab\", \"Interest\": 25}, {\"Date\": \"2012-11-01T00:00:00\", \"Language\": \"Matlab\", \"Interest\": 25}, {\"Date\": \"2012-12-01T00:00:00\", \"Language\": \"Matlab\", \"Interest\": 19}, {\"Date\": \"2013-01-01T00:00:00\", \"Language\": \"Matlab\", \"Interest\": 19}, {\"Date\": \"2013-02-01T00:00:00\", \"Language\": \"Matlab\", \"Interest\": 22}, {\"Date\": \"2013-03-01T00:00:00\", \"Language\": \"Matlab\", \"Interest\": 23}, {\"Date\": \"2013-04-01T00:00:00\", \"Language\": \"Matlab\", \"Interest\": 25}, {\"Date\": \"2013-05-01T00:00:00\", \"Language\": \"Matlab\", \"Interest\": 22}, {\"Date\": \"2013-06-01T00:00:00\", \"Language\": \"Matlab\", \"Interest\": 19}, {\"Date\": \"2013-07-01T00:00:00\", \"Language\": \"Matlab\", \"Interest\": 17}, {\"Date\": \"2013-08-01T00:00:00\", \"Language\": \"Matlab\", \"Interest\": 16}, {\"Date\": \"2013-09-01T00:00:00\", \"Language\": \"Matlab\", \"Interest\": 22}, {\"Date\": \"2013-10-01T00:00:00\", \"Language\": \"Matlab\", \"Interest\": 25}, {\"Date\": \"2013-11-01T00:00:00\", \"Language\": \"Matlab\", \"Interest\": 26}, {\"Date\": \"2013-12-01T00:00:00\", \"Language\": \"Matlab\", \"Interest\": 20}, {\"Date\": \"2014-01-01T00:00:00\", \"Language\": \"Matlab\", \"Interest\": 20}, {\"Date\": \"2014-02-01T00:00:00\", \"Language\": \"Matlab\", \"Interest\": 24}, {\"Date\": \"2014-03-01T00:00:00\", \"Language\": \"Matlab\", \"Interest\": 25}, {\"Date\": \"2014-04-01T00:00:00\", \"Language\": \"Matlab\", \"Interest\": 26}, {\"Date\": \"2014-05-01T00:00:00\", \"Language\": \"Matlab\", \"Interest\": 23}, {\"Date\": \"2014-06-01T00:00:00\", \"Language\": \"Matlab\", \"Interest\": 19}, {\"Date\": \"2014-07-01T00:00:00\", \"Language\": \"Matlab\", \"Interest\": 17}, {\"Date\": \"2014-08-01T00:00:00\", \"Language\": \"Matlab\", \"Interest\": 16}, {\"Date\": \"2014-09-01T00:00:00\", \"Language\": \"Matlab\", \"Interest\": 22}, {\"Date\": \"2014-10-01T00:00:00\", \"Language\": \"Matlab\", \"Interest\": 26}, {\"Date\": \"2014-11-01T00:00:00\", \"Language\": \"Matlab\", \"Interest\": 26}, {\"Date\": \"2014-12-01T00:00:00\", \"Language\": \"Matlab\", \"Interest\": 20}, {\"Date\": \"2015-01-01T00:00:00\", \"Language\": \"Matlab\", \"Interest\": 19}, {\"Date\": \"2015-02-01T00:00:00\", \"Language\": \"Matlab\", \"Interest\": 24}, {\"Date\": \"2015-03-01T00:00:00\", \"Language\": \"Matlab\", \"Interest\": 25}, {\"Date\": \"2015-04-01T00:00:00\", \"Language\": \"Matlab\", \"Interest\": 25}, {\"Date\": \"2015-05-01T00:00:00\", \"Language\": \"Matlab\", \"Interest\": 22}, {\"Date\": \"2015-06-01T00:00:00\", \"Language\": \"Matlab\", \"Interest\": 19}, {\"Date\": \"2015-07-01T00:00:00\", \"Language\": \"Matlab\", \"Interest\": 17}, {\"Date\": \"2015-08-01T00:00:00\", \"Language\": \"Matlab\", \"Interest\": 16}, {\"Date\": \"2015-09-01T00:00:00\", \"Language\": \"Matlab\", \"Interest\": 21}, {\"Date\": \"2015-10-01T00:00:00\", \"Language\": \"Matlab\", \"Interest\": 25}, {\"Date\": \"2015-11-01T00:00:00\", \"Language\": \"Matlab\", \"Interest\": 26}, {\"Date\": \"2015-12-01T00:00:00\", \"Language\": \"Matlab\", \"Interest\": 20}, {\"Date\": \"2016-01-01T00:00:00\", \"Language\": \"Matlab\", \"Interest\": 20}, {\"Date\": \"2016-02-01T00:00:00\", \"Language\": \"Matlab\", \"Interest\": 25}, {\"Date\": \"2016-03-01T00:00:00\", \"Language\": \"Matlab\", \"Interest\": 26}, {\"Date\": \"2016-04-01T00:00:00\", \"Language\": \"Matlab\", \"Interest\": 27}, {\"Date\": \"2016-05-01T00:00:00\", \"Language\": \"Matlab\", \"Interest\": 24}, {\"Date\": \"2016-06-01T00:00:00\", \"Language\": \"Matlab\", \"Interest\": 20}, {\"Date\": \"2016-07-01T00:00:00\", \"Language\": \"Matlab\", \"Interest\": 16}, {\"Date\": \"2016-08-01T00:00:00\", \"Language\": \"Matlab\", \"Interest\": 16}, {\"Date\": \"2016-09-01T00:00:00\", \"Language\": \"Matlab\", \"Interest\": 21}, {\"Date\": \"2016-10-01T00:00:00\", \"Language\": \"Matlab\", \"Interest\": 25}, {\"Date\": \"2016-11-01T00:00:00\", \"Language\": \"Matlab\", \"Interest\": 26}, {\"Date\": \"2016-12-01T00:00:00\", \"Language\": \"Matlab\", \"Interest\": 21}, {\"Date\": \"2017-01-01T00:00:00\", \"Language\": \"Matlab\", \"Interest\": 20}, {\"Date\": \"2017-02-01T00:00:00\", \"Language\": \"Matlab\", \"Interest\": 25}, {\"Date\": \"2017-03-01T00:00:00\", \"Language\": \"Matlab\", \"Interest\": 27}, {\"Date\": \"2017-04-01T00:00:00\", \"Language\": \"Matlab\", \"Interest\": 25}, {\"Date\": \"2017-05-01T00:00:00\", \"Language\": \"Matlab\", \"Interest\": 23}, {\"Date\": \"2017-06-01T00:00:00\", \"Language\": \"Matlab\", \"Interest\": 18}, {\"Date\": \"2017-07-01T00:00:00\", \"Language\": \"Matlab\", \"Interest\": 16}, {\"Date\": \"2017-08-01T00:00:00\", \"Language\": \"Matlab\", \"Interest\": 15}, {\"Date\": \"2017-09-01T00:00:00\", \"Language\": \"Matlab\", \"Interest\": 20}, {\"Date\": \"2017-10-01T00:00:00\", \"Language\": \"Matlab\", \"Interest\": 24}, {\"Date\": \"2017-11-01T00:00:00\", \"Language\": \"Matlab\", \"Interest\": 25}, {\"Date\": \"2017-12-01T00:00:00\", \"Language\": \"Matlab\", \"Interest\": 19}, {\"Date\": \"2018-01-01T00:00:00\", \"Language\": \"Matlab\", \"Interest\": 18}, {\"Date\": \"2018-02-01T00:00:00\", \"Language\": \"Matlab\", \"Interest\": 21}, {\"Date\": \"2018-03-01T00:00:00\", \"Language\": \"Matlab\", \"Interest\": 22}, {\"Date\": \"2018-04-01T00:00:00\", \"Language\": \"Matlab\", \"Interest\": 23}, {\"Date\": \"2018-05-01T00:00:00\", \"Language\": \"Matlab\", \"Interest\": 20}, {\"Date\": \"2018-06-01T00:00:00\", \"Language\": \"Matlab\", \"Interest\": 17}, {\"Date\": \"2018-07-01T00:00:00\", \"Language\": \"Matlab\", \"Interest\": 16}, {\"Date\": \"2018-08-01T00:00:00\", \"Language\": \"Matlab\", \"Interest\": 15}, {\"Date\": \"2018-09-01T00:00:00\", \"Language\": \"Matlab\", \"Interest\": 19}, {\"Date\": \"2018-10-01T00:00:00\", \"Language\": \"Matlab\", \"Interest\": 23}, {\"Date\": \"2018-11-01T00:00:00\", \"Language\": \"Matlab\", \"Interest\": 22}, {\"Date\": \"2018-12-01T00:00:00\", \"Language\": \"Matlab\", \"Interest\": 17}, {\"Date\": \"2019-01-01T00:00:00\", \"Language\": \"Matlab\", \"Interest\": 17}, {\"Date\": \"2019-02-01T00:00:00\", \"Language\": \"Matlab\", \"Interest\": 20}, {\"Date\": \"2019-03-01T00:00:00\", \"Language\": \"Matlab\", \"Interest\": 20}, {\"Date\": \"2019-04-01T00:00:00\", \"Language\": \"Matlab\", \"Interest\": 21}, {\"Date\": \"2019-05-01T00:00:00\", \"Language\": \"Matlab\", \"Interest\": 19}, {\"Date\": \"2019-06-01T00:00:00\", \"Language\": \"Matlab\", \"Interest\": 17}, {\"Date\": \"2019-07-01T00:00:00\", \"Language\": \"Matlab\", \"Interest\": 16}, {\"Date\": \"2019-08-01T00:00:00\", \"Language\": \"Matlab\", \"Interest\": 15}, {\"Date\": \"2019-09-01T00:00:00\", \"Language\": \"Matlab\", \"Interest\": 19}, {\"Date\": \"2019-10-01T00:00:00\", \"Language\": \"Matlab\", \"Interest\": 21}, {\"Date\": \"2019-11-01T00:00:00\", \"Language\": \"Matlab\", \"Interest\": 21}, {\"Date\": \"2019-12-01T00:00:00\", \"Language\": \"Matlab\", \"Interest\": 20}]}}, {\"mode\": \"vega-lite\"});\n",
       "</script>"
      ],
      "text/plain": [
       "alt.Chart(...)"
      ]
     },
     "execution_count": 1,
     "metadata": {},
     "output_type": "execute_result"
    }
   ],
   "source": [
    "import pandas as pd\n",
    "import altair as alt\n",
    "\n",
    "%load_ext lab_black\n",
    "\n",
    "df = pd.read_csv(\"../data/google-trends.csv\", parse_dates=[\"Date\"]).melt(\n",
    "    id_vars=\"Date\", var_name=\"Language\", value_name=\"Interest\"\n",
    ")\n",
    "\n",
    "alt.Chart(df).mark_line().encode(\n",
    "    alt.X(\"Date\", title=None), alt.Y(\"Interest\"), alt.Color(\"Language\")\n",
    ").properties(title=\"Google Trends interest over time\")"
   ]
  },
  {
   "cell_type": "code",
   "execution_count": 2,
   "metadata": {},
   "outputs": [
    {
     "data": {
      "text/html": [
       "\n",
       "<div id=\"altair-viz-2\"></div>\n",
       "<script type=\"text/javascript\">\n",
       "  (function(spec, embedOpt){\n",
       "    const outputDiv = document.getElementById(\"altair-viz-2\");\n",
       "    const paths = {\n",
       "      \"vega\": \"https://cdn.jsdelivr.net/npm//vega@5?noext\",\n",
       "      \"vega-lib\": \"https://cdn.jsdelivr.net/npm//vega-lib?noext\",\n",
       "      \"vega-lite\": \"https://cdn.jsdelivr.net/npm//vega-lite@4.0.0?noext\",\n",
       "      \"vega-embed\": \"https://cdn.jsdelivr.net/npm//vega-embed@6?noext\",\n",
       "    };\n",
       "\n",
       "    function loadScript(lib) {\n",
       "      return new Promise(function(resolve, reject) {\n",
       "        var s = document.createElement('script');\n",
       "        s.src = paths[lib];\n",
       "        s.async = true;\n",
       "        s.onload = () => resolve(paths[lib]);\n",
       "        s.onerror = () => reject(`Error loading script: ${paths[lib]}`);\n",
       "        document.getElementsByTagName(\"head\")[0].appendChild(s);\n",
       "      });\n",
       "    }\n",
       "\n",
       "    function showError(err) {\n",
       "      outputDiv.innerHTML = `<div class=\"error\" style=\"color:red;\">${err}</div>`;\n",
       "      throw err;\n",
       "    }\n",
       "\n",
       "    function displayChart(vegaEmbed) {\n",
       "      vegaEmbed(outputDiv, spec, embedOpt)\n",
       "        .catch(err => showError(`Javascript Error: ${err.message}<br>This usually means there's a typo in your chart specification. See the javascript console for the full traceback.`));\n",
       "    }\n",
       "\n",
       "    if(typeof define === \"function\" && define.amd) {\n",
       "      requirejs.config({paths});\n",
       "      require([\"vega-embed\"], displayChart, err => showError(`Error loading script: ${err.message}`));\n",
       "    } else if (typeof vegaEmbed === \"function\") {\n",
       "      displayChart(vegaEmbed);\n",
       "    } else {\n",
       "      loadScript(\"vega\")\n",
       "        .then(() => loadScript(\"vega-lite\"))\n",
       "        .then(() => loadScript(\"vega-embed\"))\n",
       "        .catch(showError)\n",
       "        .then(() => displayChart(vegaEmbed));\n",
       "    }\n",
       "  })({\"config\": {\"view\": {\"continuousWidth\": 400, \"continuousHeight\": 300}}, \"data\": {\"name\": \"data-d4b396f1395e95178241ea4f084085e7\"}, \"mark\": \"rect\", \"encoding\": {\"color\": {\"type\": \"quantitative\", \"field\": \"Interest\"}, \"x\": {\"type\": \"temporal\", \"field\": \"Date\", \"timeUnit\": \"month\"}, \"y\": {\"type\": \"temporal\", \"field\": \"Date\", \"timeUnit\": \"year\"}}, \"title\": \"Matlab is seasonal\", \"$schema\": \"https://vega.github.io/schema/vega-lite/v4.0.0.json\", \"datasets\": {\"data-d4b396f1395e95178241ea4f084085e7\": [{\"Date\": \"2004-01-01T00:00:00\", \"Language\": \"Matlab\", \"Interest\": 32}, {\"Date\": \"2004-02-01T00:00:00\", \"Language\": \"Matlab\", \"Interest\": 40}, {\"Date\": \"2004-03-01T00:00:00\", \"Language\": \"Matlab\", \"Interest\": 40}, {\"Date\": \"2004-04-01T00:00:00\", \"Language\": \"Matlab\", \"Interest\": 41}, {\"Date\": \"2004-05-01T00:00:00\", \"Language\": \"Matlab\", \"Interest\": 36}, {\"Date\": \"2004-06-01T00:00:00\", \"Language\": \"Matlab\", \"Interest\": 34}, {\"Date\": \"2004-07-01T00:00:00\", \"Language\": \"Matlab\", \"Interest\": 31}, {\"Date\": \"2004-08-01T00:00:00\", \"Language\": \"Matlab\", \"Interest\": 28}, {\"Date\": \"2004-09-01T00:00:00\", \"Language\": \"Matlab\", \"Interest\": 35}, {\"Date\": \"2004-10-01T00:00:00\", \"Language\": \"Matlab\", \"Interest\": 39}, {\"Date\": \"2004-11-01T00:00:00\", \"Language\": \"Matlab\", \"Interest\": 37}, {\"Date\": \"2004-12-01T00:00:00\", \"Language\": \"Matlab\", \"Interest\": 30}, {\"Date\": \"2005-01-01T00:00:00\", \"Language\": \"Matlab\", \"Interest\": 29}, {\"Date\": \"2005-02-01T00:00:00\", \"Language\": \"Matlab\", \"Interest\": 33}, {\"Date\": \"2005-03-01T00:00:00\", \"Language\": \"Matlab\", \"Interest\": 34}, {\"Date\": \"2005-04-01T00:00:00\", \"Language\": \"Matlab\", \"Interest\": 35}, {\"Date\": \"2005-05-01T00:00:00\", \"Language\": \"Matlab\", \"Interest\": 32}, {\"Date\": \"2005-06-01T00:00:00\", \"Language\": \"Matlab\", \"Interest\": 29}, {\"Date\": \"2005-07-01T00:00:00\", \"Language\": \"Matlab\", \"Interest\": 24}, {\"Date\": \"2005-08-01T00:00:00\", \"Language\": \"Matlab\", \"Interest\": 22}, {\"Date\": \"2005-09-01T00:00:00\", \"Language\": \"Matlab\", \"Interest\": 29}, {\"Date\": \"2005-10-01T00:00:00\", \"Language\": \"Matlab\", \"Interest\": 33}, {\"Date\": \"2005-11-01T00:00:00\", \"Language\": \"Matlab\", \"Interest\": 32}, {\"Date\": \"2005-12-01T00:00:00\", \"Language\": \"Matlab\", \"Interest\": 25}, {\"Date\": \"2006-01-01T00:00:00\", \"Language\": \"Matlab\", \"Interest\": 24}, {\"Date\": \"2006-02-01T00:00:00\", \"Language\": \"Matlab\", \"Interest\": 29}, {\"Date\": \"2006-03-01T00:00:00\", \"Language\": \"Matlab\", \"Interest\": 30}, {\"Date\": \"2006-04-01T00:00:00\", \"Language\": \"Matlab\", \"Interest\": 29}, {\"Date\": \"2006-05-01T00:00:00\", \"Language\": \"Matlab\", \"Interest\": 28}, {\"Date\": \"2006-06-01T00:00:00\", \"Language\": \"Matlab\", \"Interest\": 24}, {\"Date\": \"2006-07-01T00:00:00\", \"Language\": \"Matlab\", \"Interest\": 20}, {\"Date\": \"2006-08-01T00:00:00\", \"Language\": \"Matlab\", \"Interest\": 19}, {\"Date\": \"2006-09-01T00:00:00\", \"Language\": \"Matlab\", \"Interest\": 24}, {\"Date\": \"2006-10-01T00:00:00\", \"Language\": \"Matlab\", \"Interest\": 28}, {\"Date\": \"2006-11-01T00:00:00\", \"Language\": \"Matlab\", \"Interest\": 28}, {\"Date\": \"2006-12-01T00:00:00\", \"Language\": \"Matlab\", \"Interest\": 22}, {\"Date\": \"2007-01-01T00:00:00\", \"Language\": \"Matlab\", \"Interest\": 22}, {\"Date\": \"2007-02-01T00:00:00\", \"Language\": \"Matlab\", \"Interest\": 24}, {\"Date\": \"2007-03-01T00:00:00\", \"Language\": \"Matlab\", \"Interest\": 26}, {\"Date\": \"2007-04-01T00:00:00\", \"Language\": \"Matlab\", \"Interest\": 26}, {\"Date\": \"2007-05-01T00:00:00\", \"Language\": \"Matlab\", \"Interest\": 25}, {\"Date\": \"2007-06-01T00:00:00\", \"Language\": \"Matlab\", \"Interest\": 22}, {\"Date\": \"2007-07-01T00:00:00\", \"Language\": \"Matlab\", \"Interest\": 19}, {\"Date\": \"2007-08-01T00:00:00\", \"Language\": \"Matlab\", \"Interest\": 18}, {\"Date\": \"2007-09-01T00:00:00\", \"Language\": \"Matlab\", \"Interest\": 23}, {\"Date\": \"2007-10-01T00:00:00\", \"Language\": \"Matlab\", \"Interest\": 26}, {\"Date\": \"2007-11-01T00:00:00\", \"Language\": \"Matlab\", \"Interest\": 27}, {\"Date\": \"2007-12-01T00:00:00\", \"Language\": \"Matlab\", \"Interest\": 21}, {\"Date\": \"2008-01-01T00:00:00\", \"Language\": \"Matlab\", \"Interest\": 20}, {\"Date\": \"2008-02-01T00:00:00\", \"Language\": \"Matlab\", \"Interest\": 22}, {\"Date\": \"2008-03-01T00:00:00\", \"Language\": \"Matlab\", \"Interest\": 24}, {\"Date\": \"2008-04-01T00:00:00\", \"Language\": \"Matlab\", \"Interest\": 26}, {\"Date\": \"2008-05-01T00:00:00\", \"Language\": \"Matlab\", \"Interest\": 24}, {\"Date\": \"2008-06-01T00:00:00\", \"Language\": \"Matlab\", \"Interest\": 21}, {\"Date\": \"2008-07-01T00:00:00\", \"Language\": \"Matlab\", \"Interest\": 18}, {\"Date\": \"2008-08-01T00:00:00\", \"Language\": \"Matlab\", \"Interest\": 16}, {\"Date\": \"2008-09-01T00:00:00\", \"Language\": \"Matlab\", \"Interest\": 22}, {\"Date\": \"2008-10-01T00:00:00\", \"Language\": \"Matlab\", \"Interest\": 26}, {\"Date\": \"2008-11-01T00:00:00\", \"Language\": \"Matlab\", \"Interest\": 25}, {\"Date\": \"2008-12-01T00:00:00\", \"Language\": \"Matlab\", \"Interest\": 21}, {\"Date\": \"2009-01-01T00:00:00\", \"Language\": \"Matlab\", \"Interest\": 20}, {\"Date\": \"2009-02-01T00:00:00\", \"Language\": \"Matlab\", \"Interest\": 24}, {\"Date\": \"2009-03-01T00:00:00\", \"Language\": \"Matlab\", \"Interest\": 26}, {\"Date\": \"2009-04-01T00:00:00\", \"Language\": \"Matlab\", \"Interest\": 27}, {\"Date\": \"2009-05-01T00:00:00\", \"Language\": \"Matlab\", \"Interest\": 24}, {\"Date\": \"2009-06-01T00:00:00\", \"Language\": \"Matlab\", \"Interest\": 22}, {\"Date\": \"2009-07-01T00:00:00\", \"Language\": \"Matlab\", \"Interest\": 19}, {\"Date\": \"2009-08-01T00:00:00\", \"Language\": \"Matlab\", \"Interest\": 18}, {\"Date\": \"2009-09-01T00:00:00\", \"Language\": \"Matlab\", \"Interest\": 23}, {\"Date\": \"2009-10-01T00:00:00\", \"Language\": \"Matlab\", \"Interest\": 27}, {\"Date\": \"2009-11-01T00:00:00\", \"Language\": \"Matlab\", \"Interest\": 28}, {\"Date\": \"2009-12-01T00:00:00\", \"Language\": \"Matlab\", \"Interest\": 23}, {\"Date\": \"2010-01-01T00:00:00\", \"Language\": \"Matlab\", \"Interest\": 22}, {\"Date\": \"2010-02-01T00:00:00\", \"Language\": \"Matlab\", \"Interest\": 23}, {\"Date\": \"2010-03-01T00:00:00\", \"Language\": \"Matlab\", \"Interest\": 28}, {\"Date\": \"2010-04-01T00:00:00\", \"Language\": \"Matlab\", \"Interest\": 28}, {\"Date\": \"2010-05-01T00:00:00\", \"Language\": \"Matlab\", \"Interest\": 26}, {\"Date\": \"2010-06-01T00:00:00\", \"Language\": \"Matlab\", \"Interest\": 23}, {\"Date\": \"2010-07-01T00:00:00\", \"Language\": \"Matlab\", \"Interest\": 18}, {\"Date\": \"2010-08-01T00:00:00\", \"Language\": \"Matlab\", \"Interest\": 17}, {\"Date\": \"2010-09-01T00:00:00\", \"Language\": \"Matlab\", \"Interest\": 23}, {\"Date\": \"2010-10-01T00:00:00\", \"Language\": \"Matlab\", \"Interest\": 27}, {\"Date\": \"2010-11-01T00:00:00\", \"Language\": \"Matlab\", \"Interest\": 27}, {\"Date\": \"2010-12-01T00:00:00\", \"Language\": \"Matlab\", \"Interest\": 21}, {\"Date\": \"2011-01-01T00:00:00\", \"Language\": \"Matlab\", \"Interest\": 20}, {\"Date\": \"2011-02-01T00:00:00\", \"Language\": \"Matlab\", \"Interest\": 24}, {\"Date\": \"2011-03-01T00:00:00\", \"Language\": \"Matlab\", \"Interest\": 26}, {\"Date\": \"2011-04-01T00:00:00\", \"Language\": \"Matlab\", \"Interest\": 26}, {\"Date\": \"2011-05-01T00:00:00\", \"Language\": \"Matlab\", \"Interest\": 24}, {\"Date\": \"2011-06-01T00:00:00\", \"Language\": \"Matlab\", \"Interest\": 21}, {\"Date\": \"2011-07-01T00:00:00\", \"Language\": \"Matlab\", \"Interest\": 18}, {\"Date\": \"2011-08-01T00:00:00\", \"Language\": \"Matlab\", \"Interest\": 17}, {\"Date\": \"2011-09-01T00:00:00\", \"Language\": \"Matlab\", \"Interest\": 22}, {\"Date\": \"2011-10-01T00:00:00\", \"Language\": \"Matlab\", \"Interest\": 25}, {\"Date\": \"2011-11-01T00:00:00\", \"Language\": \"Matlab\", \"Interest\": 27}, {\"Date\": \"2011-12-01T00:00:00\", \"Language\": \"Matlab\", \"Interest\": 21}, {\"Date\": \"2012-01-01T00:00:00\", \"Language\": \"Matlab\", \"Interest\": 20}, {\"Date\": \"2012-02-01T00:00:00\", \"Language\": \"Matlab\", \"Interest\": 24}, {\"Date\": \"2012-03-01T00:00:00\", \"Language\": \"Matlab\", \"Interest\": 26}, {\"Date\": \"2012-04-01T00:00:00\", \"Language\": \"Matlab\", \"Interest\": 25}, {\"Date\": \"2012-05-01T00:00:00\", \"Language\": \"Matlab\", \"Interest\": 24}, {\"Date\": \"2012-06-01T00:00:00\", \"Language\": \"Matlab\", \"Interest\": 20}, {\"Date\": \"2012-07-01T00:00:00\", \"Language\": \"Matlab\", \"Interest\": 17}, {\"Date\": \"2012-08-01T00:00:00\", \"Language\": \"Matlab\", \"Interest\": 17}, {\"Date\": \"2012-09-01T00:00:00\", \"Language\": \"Matlab\", \"Interest\": 22}, {\"Date\": \"2012-10-01T00:00:00\", \"Language\": \"Matlab\", \"Interest\": 25}, {\"Date\": \"2012-11-01T00:00:00\", \"Language\": \"Matlab\", \"Interest\": 25}, {\"Date\": \"2012-12-01T00:00:00\", \"Language\": \"Matlab\", \"Interest\": 19}, {\"Date\": \"2013-01-01T00:00:00\", \"Language\": \"Matlab\", \"Interest\": 19}, {\"Date\": \"2013-02-01T00:00:00\", \"Language\": \"Matlab\", \"Interest\": 22}, {\"Date\": \"2013-03-01T00:00:00\", \"Language\": \"Matlab\", \"Interest\": 23}, {\"Date\": \"2013-04-01T00:00:00\", \"Language\": \"Matlab\", \"Interest\": 25}, {\"Date\": \"2013-05-01T00:00:00\", \"Language\": \"Matlab\", \"Interest\": 22}, {\"Date\": \"2013-06-01T00:00:00\", \"Language\": \"Matlab\", \"Interest\": 19}, {\"Date\": \"2013-07-01T00:00:00\", \"Language\": \"Matlab\", \"Interest\": 17}, {\"Date\": \"2013-08-01T00:00:00\", \"Language\": \"Matlab\", \"Interest\": 16}, {\"Date\": \"2013-09-01T00:00:00\", \"Language\": \"Matlab\", \"Interest\": 22}, {\"Date\": \"2013-10-01T00:00:00\", \"Language\": \"Matlab\", \"Interest\": 25}, {\"Date\": \"2013-11-01T00:00:00\", \"Language\": \"Matlab\", \"Interest\": 26}, {\"Date\": \"2013-12-01T00:00:00\", \"Language\": \"Matlab\", \"Interest\": 20}, {\"Date\": \"2014-01-01T00:00:00\", \"Language\": \"Matlab\", \"Interest\": 20}, {\"Date\": \"2014-02-01T00:00:00\", \"Language\": \"Matlab\", \"Interest\": 24}, {\"Date\": \"2014-03-01T00:00:00\", \"Language\": \"Matlab\", \"Interest\": 25}, {\"Date\": \"2014-04-01T00:00:00\", \"Language\": \"Matlab\", \"Interest\": 26}, {\"Date\": \"2014-05-01T00:00:00\", \"Language\": \"Matlab\", \"Interest\": 23}, {\"Date\": \"2014-06-01T00:00:00\", \"Language\": \"Matlab\", \"Interest\": 19}, {\"Date\": \"2014-07-01T00:00:00\", \"Language\": \"Matlab\", \"Interest\": 17}, {\"Date\": \"2014-08-01T00:00:00\", \"Language\": \"Matlab\", \"Interest\": 16}, {\"Date\": \"2014-09-01T00:00:00\", \"Language\": \"Matlab\", \"Interest\": 22}, {\"Date\": \"2014-10-01T00:00:00\", \"Language\": \"Matlab\", \"Interest\": 26}, {\"Date\": \"2014-11-01T00:00:00\", \"Language\": \"Matlab\", \"Interest\": 26}, {\"Date\": \"2014-12-01T00:00:00\", \"Language\": \"Matlab\", \"Interest\": 20}, {\"Date\": \"2015-01-01T00:00:00\", \"Language\": \"Matlab\", \"Interest\": 19}, {\"Date\": \"2015-02-01T00:00:00\", \"Language\": \"Matlab\", \"Interest\": 24}, {\"Date\": \"2015-03-01T00:00:00\", \"Language\": \"Matlab\", \"Interest\": 25}, {\"Date\": \"2015-04-01T00:00:00\", \"Language\": \"Matlab\", \"Interest\": 25}, {\"Date\": \"2015-05-01T00:00:00\", \"Language\": \"Matlab\", \"Interest\": 22}, {\"Date\": \"2015-06-01T00:00:00\", \"Language\": \"Matlab\", \"Interest\": 19}, {\"Date\": \"2015-07-01T00:00:00\", \"Language\": \"Matlab\", \"Interest\": 17}, {\"Date\": \"2015-08-01T00:00:00\", \"Language\": \"Matlab\", \"Interest\": 16}, {\"Date\": \"2015-09-01T00:00:00\", \"Language\": \"Matlab\", \"Interest\": 21}, {\"Date\": \"2015-10-01T00:00:00\", \"Language\": \"Matlab\", \"Interest\": 25}, {\"Date\": \"2015-11-01T00:00:00\", \"Language\": \"Matlab\", \"Interest\": 26}, {\"Date\": \"2015-12-01T00:00:00\", \"Language\": \"Matlab\", \"Interest\": 20}, {\"Date\": \"2016-01-01T00:00:00\", \"Language\": \"Matlab\", \"Interest\": 20}, {\"Date\": \"2016-02-01T00:00:00\", \"Language\": \"Matlab\", \"Interest\": 25}, {\"Date\": \"2016-03-01T00:00:00\", \"Language\": \"Matlab\", \"Interest\": 26}, {\"Date\": \"2016-04-01T00:00:00\", \"Language\": \"Matlab\", \"Interest\": 27}, {\"Date\": \"2016-05-01T00:00:00\", \"Language\": \"Matlab\", \"Interest\": 24}, {\"Date\": \"2016-06-01T00:00:00\", \"Language\": \"Matlab\", \"Interest\": 20}, {\"Date\": \"2016-07-01T00:00:00\", \"Language\": \"Matlab\", \"Interest\": 16}, {\"Date\": \"2016-08-01T00:00:00\", \"Language\": \"Matlab\", \"Interest\": 16}, {\"Date\": \"2016-09-01T00:00:00\", \"Language\": \"Matlab\", \"Interest\": 21}, {\"Date\": \"2016-10-01T00:00:00\", \"Language\": \"Matlab\", \"Interest\": 25}, {\"Date\": \"2016-11-01T00:00:00\", \"Language\": \"Matlab\", \"Interest\": 26}, {\"Date\": \"2016-12-01T00:00:00\", \"Language\": \"Matlab\", \"Interest\": 21}, {\"Date\": \"2017-01-01T00:00:00\", \"Language\": \"Matlab\", \"Interest\": 20}, {\"Date\": \"2017-02-01T00:00:00\", \"Language\": \"Matlab\", \"Interest\": 25}, {\"Date\": \"2017-03-01T00:00:00\", \"Language\": \"Matlab\", \"Interest\": 27}, {\"Date\": \"2017-04-01T00:00:00\", \"Language\": \"Matlab\", \"Interest\": 25}, {\"Date\": \"2017-05-01T00:00:00\", \"Language\": \"Matlab\", \"Interest\": 23}, {\"Date\": \"2017-06-01T00:00:00\", \"Language\": \"Matlab\", \"Interest\": 18}, {\"Date\": \"2017-07-01T00:00:00\", \"Language\": \"Matlab\", \"Interest\": 16}, {\"Date\": \"2017-08-01T00:00:00\", \"Language\": \"Matlab\", \"Interest\": 15}, {\"Date\": \"2017-09-01T00:00:00\", \"Language\": \"Matlab\", \"Interest\": 20}, {\"Date\": \"2017-10-01T00:00:00\", \"Language\": \"Matlab\", \"Interest\": 24}, {\"Date\": \"2017-11-01T00:00:00\", \"Language\": \"Matlab\", \"Interest\": 25}, {\"Date\": \"2017-12-01T00:00:00\", \"Language\": \"Matlab\", \"Interest\": 19}, {\"Date\": \"2018-01-01T00:00:00\", \"Language\": \"Matlab\", \"Interest\": 18}, {\"Date\": \"2018-02-01T00:00:00\", \"Language\": \"Matlab\", \"Interest\": 21}, {\"Date\": \"2018-03-01T00:00:00\", \"Language\": \"Matlab\", \"Interest\": 22}, {\"Date\": \"2018-04-01T00:00:00\", \"Language\": \"Matlab\", \"Interest\": 23}, {\"Date\": \"2018-05-01T00:00:00\", \"Language\": \"Matlab\", \"Interest\": 20}, {\"Date\": \"2018-06-01T00:00:00\", \"Language\": \"Matlab\", \"Interest\": 17}, {\"Date\": \"2018-07-01T00:00:00\", \"Language\": \"Matlab\", \"Interest\": 16}, {\"Date\": \"2018-08-01T00:00:00\", \"Language\": \"Matlab\", \"Interest\": 15}, {\"Date\": \"2018-09-01T00:00:00\", \"Language\": \"Matlab\", \"Interest\": 19}, {\"Date\": \"2018-10-01T00:00:00\", \"Language\": \"Matlab\", \"Interest\": 23}, {\"Date\": \"2018-11-01T00:00:00\", \"Language\": \"Matlab\", \"Interest\": 22}, {\"Date\": \"2018-12-01T00:00:00\", \"Language\": \"Matlab\", \"Interest\": 17}, {\"Date\": \"2019-01-01T00:00:00\", \"Language\": \"Matlab\", \"Interest\": 17}, {\"Date\": \"2019-02-01T00:00:00\", \"Language\": \"Matlab\", \"Interest\": 20}, {\"Date\": \"2019-03-01T00:00:00\", \"Language\": \"Matlab\", \"Interest\": 20}, {\"Date\": \"2019-04-01T00:00:00\", \"Language\": \"Matlab\", \"Interest\": 21}, {\"Date\": \"2019-05-01T00:00:00\", \"Language\": \"Matlab\", \"Interest\": 19}, {\"Date\": \"2019-06-01T00:00:00\", \"Language\": \"Matlab\", \"Interest\": 17}, {\"Date\": \"2019-07-01T00:00:00\", \"Language\": \"Matlab\", \"Interest\": 16}, {\"Date\": \"2019-08-01T00:00:00\", \"Language\": \"Matlab\", \"Interest\": 15}, {\"Date\": \"2019-09-01T00:00:00\", \"Language\": \"Matlab\", \"Interest\": 19}, {\"Date\": \"2019-10-01T00:00:00\", \"Language\": \"Matlab\", \"Interest\": 21}, {\"Date\": \"2019-11-01T00:00:00\", \"Language\": \"Matlab\", \"Interest\": 21}, {\"Date\": \"2019-12-01T00:00:00\", \"Language\": \"Matlab\", \"Interest\": 20}]}}, {\"mode\": \"vega-lite\"});\n",
       "</script>"
      ],
      "text/plain": [
       "alt.Chart(...)"
      ]
     },
     "execution_count": 2,
     "metadata": {},
     "output_type": "execute_result"
    }
   ],
   "source": [
    "alt.Chart(df.query('Language == \"Matlab\"')).mark_rect().encode(\n",
    "    alt.X(\"month(Date)\"), alt.Y(\"year(Date)\"), alt.Color(\"Interest\"),\n",
    ").properties(title=\"Matlab is seasonal\")"
   ]
  },
  {
   "cell_type": "markdown",
   "metadata": {},
   "source": [
    "This great popularity has three advantages for you:\n",
    "\n",
    "1. With more than [210,000 packages](https://pypi.org/), someone has probably already made a package for your application. These range from processing PDF files to building and hosting an interactive website to working with highly optimized mathematical and scientific functions.\n",
    "2. You can easily find answers to your problems on Google or [Stackoverflow](https://stackoverflow.com/)\n",
    "3. More people can understand your code and collaborate"
   ]
  },
  {
   "cell_type": "markdown",
   "metadata": {},
   "source": [
    "### Python is open and free"
   ]
  },
  {
   "cell_type": "markdown",
   "metadata": {},
   "source": [
    "MATLAB is proprietary, closed-source software. For most people, a licence to use MATLAB is quite expensive, which means that if you have code in MATLAB, then only people who can afford a licence will be able to run it. Plus, users are charged for each additional toolbox they want to install to extend the basic functionality of MATLAB. Aside from the cost, the MATLAB language is developed exclusively by Mathworks. If Mathworks were ever to go out of business, then MATLAB would no longer be able to be developed and might eventually stop functioning.\n",
    "\n",
    "Your Academic Matlab setup will cost your employer (or you) __USD 17,840 / user / year__ ($\\approx$ CAD 23,500) once graduated.\n",
    "\n",
    "| Product                                 | Cost/user/year |\n",
    "|-----------------------------------------|----------------|\n",
    "| Bioinformatics                          | 400            |\n",
    "| Control System                          | 400            |\n",
    "| Curve fitting                           | 400            |\n",
    "| Data acquisition                        | 400            |\n",
    "| Image Processing Toolbox                | 400            |\n",
    "| Instrument Control Toolbox              | 400            |\n",
    "| Parallel Computing Toolbox              | 400            |\n",
    "| Signal Processing Toolbox               | 400            |\n",
    "| Statistics and Machine Learning Toolbox | 400            |\n",
    "| Symbolic Math Toolbox                   | 400            |\n",
    "| Global Optimization Toolbox             | 400            |\n",
    "| System Identification Toolbox           | 400            |\n",
    "| Optimization Toolbox                    | 500            |\n",
    "| Simulink Control Design                 | 500            |\n",
    "| Deep Learning Toolbox                   | 500            |\n",
    "| Partial Differential Equation Toolbox   | 500            |\n",
    "| Wavelet Toolbox                         | 500            |\n",
    "| DSP System                              | 540            |\n",
    "| Computer Vision Toolbox                 | 540            |\n",
    "| Econometrics Toolbox                    | 740            |\n",
    "| Financial Toolbox                       | 740            |\n",
    "| MATLAB Compiler                         | 800            |\n",
    "| MATLAB Compiler SDK                     | 800            |\n",
    "| Matlab                                  | 860            |\n",
    "| Simscape                                | 860            |\n",
    "| Simscape Multibody                      | 860            |\n",
    "| Stateflow                               | 1200           |\n",
    "| Simulink                                | 1300           |\n",
    "| SimBiology                              | 1300           |\n",
    "| __TOTAL__                               | __17,840__     |"
   ]
  },
  {
   "cell_type": "markdown",
   "metadata": {},
   "source": [
    "In science using open-source software has some pretty big benefits.\n",
    "\n",
    "Paul Romer, the 2018 Nobel Laureate in Economics, is a recent convert to Python. By his estimation, switching to open-source software in general, and Python in particular, brought greater integrity and accountability to his research.\n",
    "This was because all of the code could be shared and run by any interested reader.\n",
    "\n",
    "For all of these reasons, and many more, Python is an excellent choice to replace MATLAB as your programming language of choice."
   ]
  },
  {
   "cell_type": "markdown",
   "metadata": {},
   "source": [
    "## Running Python code"
   ]
  },
  {
   "cell_type": "markdown",
   "metadata": {},
   "source": [
    "### Python distribution\n",
    "\n",
    "<img style=\"float: right; width: 200px\" src=\"https://s3.amazonaws.com/conda-dev/conda_logo.svg?sanitize=true\">\n",
    "\n",
    "We recommend [Miniconda](https://docs.conda.io/en/latest/miniconda.html) to use python and manage libraries.\n",
    "\n",
    "Miniconda is a Python distribution that comes with Conda, which we will then use to install everything we need.\n",
    "If you have not done so already, please download and install Miniconda or use [Binder]() to avoid installation troubleshoot."
   ]
  },
  {
   "cell_type": "markdown",
   "metadata": {},
   "source": [
    "### Integrated Development Environment\n",
    "\n",
    "We recommend:\n",
    "\n",
    "- [Jupyter lab](https://github.com/jupyterlab/jupyterlab) for analysis\n",
    "\n",
    "- [PyCharm](https://www.jetbrains.com/pycharm/) for software development (writing complex functions, packages, etc.)\n",
    "\n",
    "<img style=\"float: left; width: 300px\" src=\"https://upload.wikimedia.org/wikipedia/commons/3/38/Jupyter_logo.svg?sanitize=true\">\n",
    "\n",
    "<img style=\"float: center; width: 100px\" src=\"https://upload.wikimedia.org/wikipedia/commons/a/a1/PyCharm_Logo.svg?sanitize=true\">"
   ]
  },
  {
   "cell_type": "markdown",
   "metadata": {},
   "source": [
    "### Complete setup for this course\n",
    "\n",
    "1. Download and Install [Miniconda](https://docs.conda.io/en/latest/miniconda.html) with Python 3\n",
    "2. Clone [this repo](https://github.com/pyomeca/tutorials)\n",
    "3. Install the dependencies with:\n",
    "\n",
    "```bash\n",
    "conda install jupyterlab -c conda-forge # install jupyter lab\n",
    "cd tutorials                            # go into tutorials directory\n",
    "conda env create                        # install dependencies\n",
    "conda activate tutorials                # activate the course environment\n",
    "jupyter lab                             # open jupyter lab\n",
    "```"
   ]
  },
  {
   "cell_type": "markdown",
   "metadata": {},
   "source": [
    "<!--NAVIGATION-->\n",
    "< [Preface](00.00-preface.ipynb) | [Contents](index.ipynb) | [Python fundamentals](01.01-python-base.ipynb) >"
   ]
  }
 ],
 "metadata": {
  "kernelspec": {
   "display_name": "Python 3",
   "language": "python",
   "name": "conda-env-tutorials-py"
  },
  "language_info": {
   "codemirror_mode": {
    "name": "ipython",
    "version": 3
   },
   "file_extension": ".py",
   "mimetype": "text/x-python",
   "name": "python",
   "nbconvert_exporter": "python",
   "pygments_lexer": "ipython3",
   "version": "3.8.1"
  },
  "pycharm": {
   "stem_cell": {
    "cell_type": "raw",
    "metadata": {
     "collapsed": false
    },
    "source": []
   }
  },
  "toc-autonumbering": true
 },
 "nbformat": 4,
 "nbformat_minor": 4
}
