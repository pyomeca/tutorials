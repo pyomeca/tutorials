{
 "cells": [
  {
   "cell_type": "markdown",
   "metadata": {},
   "source": [
    "<!--BOOK_INFORMATION-->\n",
    "<img style=\"float: right; width: 100px\" src=\"https://raw.github.com/pyomeca/design/master/logo/logo_cropped_doc.svg?sanitize=true\">\n",
    "<font size=\"+3\">Effective computation in Biomechanics</font>\n",
    "\n",
    "<font size=\"+2\">Romain Martinez</font> <a href=\"https://github.com/romainmartinez\"><img src=\"https://img.shields.io/badge/github-romainmartinez-green?logo=github&style=social\" /></a>"
   ]
  },
  {
   "cell_type": "markdown",
   "metadata": {},
   "source": [
    "<!--NAVIGATION-->\n",
    "< [Programming tips and tricks](01.04-tips-and-tricks.ipynb) | [Contents](index.ipynb) | [Introduction to statistics and machine learning](03.00-stats-and-machine-learning.ipynb) >"
   ]
  },
  {
   "cell_type": "markdown",
   "metadata": {},
   "source": [
    "# Introduction to musculoskeletal modelling\n",
    "\n",
    "- voir BMC\n",
    "- qu'est-ce que la modelisation\n",
    "- approche inverse\n",
    "    - pyosim\n",
    "- approche direct\n",
    "- exemple complet"
   ]
  },
  {
   "cell_type": "markdown",
   "metadata": {},
   "source": [
    "<!--NAVIGATION-->\n",
    "< [Programming tips and tricks](01.04-tips-and-tricks.ipynb) | [Contents](index.ipynb) | [Introduction to statistics and machine learning](03.00-stats-and-machine-learning.ipynb) >"
   ]
  }
 ],
 "metadata": {
  "kernelspec": {
   "display_name": "Python 3",
   "language": "python",
   "name": "conda-env-tutorials-py"
  },
  "language_info": {
   "codemirror_mode": {
    "name": "ipython",
    "version": 3
   },
   "file_extension": ".py",
   "mimetype": "text/x-python",
   "name": "python",
   "nbconvert_exporter": "python",
   "pygments_lexer": "ipython3",
   "version": "3.8.1"
  }
 },
 "nbformat": 4,
 "nbformat_minor": 4
}
