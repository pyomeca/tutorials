{
 "cells": [
  {
   "cell_type": "markdown",
   "metadata": {},
   "source": [
    "<!--BOOK_INFORMATION-->\n",
    "<img style=\"float: right; width: 100px\" src=\"https://raw.github.com/pyomeca/design/master/logo/logo_cropped_doc.svg?sanitize=true\">\n",
    "<font size=\"+3\">Effective computation in Biomechanics</font>\n",
    "\n",
    "<font size=\"+2\">Romain Martinez</font> <a href=\"https://github.com/romainmartinez\"><img src=\"https://img.shields.io/badge/github-romainmartinez-green?logo=github&style=social\" /></a>"
   ]
  },
  {
   "cell_type": "markdown",
   "metadata": {},
   "source": [
    "<!--NAVIGATION-->\n",
    "< [Programming tips and tricks](01.04-tips-and-tricks.ipynb) | [Contents](index.ipynb) | [Introduction to statistics and machine learning](03.00-stats-and-machine-learning.ipynb) >"
   ]
  },
  {
   "cell_type": "markdown",
   "metadata": {},
   "source": [
    "# Introduction to musculoskeletal modelling\n",
    "\n",
    "As there are a lot of theoretical notions, online slides are available on this link: [![Netlify Status](https://api.netlify.com/api/v1/badges/4244e50a-0d6c-4cb5-bdae-9e9974730f66/deploy-status)](https://mrtnz-modelisation.netlify.com/#1)"
   ]
  },
  {
   "cell_type": "markdown",
   "metadata": {},
   "source": [
    "<!--NAVIGATION-->\n",
    "< [Programming tips and tricks](01.04-tips-and-tricks.ipynb) | [Contents](index.ipynb) | [Introduction to statistics and machine learning](03.00-stats-and-machine-learning.ipynb) >"
   ]
  }
 ],
 "metadata": {
  "kernelspec": {
   "display_name": "Python 3",
   "language": "python",
   "name": "conda-root-py"
  },
  "language_info": {
   "codemirror_mode": {
    "name": "ipython",
    "version": 3
   },
   "file_extension": ".py",
   "mimetype": "text/x-python",
   "name": "python",
   "nbconvert_exporter": "python",
   "pygments_lexer": "ipython3",
   "version": "3.7.4"
  }
 },
 "nbformat": 4,
 "nbformat_minor": 4
}
