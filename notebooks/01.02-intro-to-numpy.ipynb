{
 "cells": [
  {
   "cell_type": "markdown",
   "metadata": {},
   "source": [
    "<!--BOOK_INFORMATION-->\n",
    "<img style=\"float: right; width: 100px\" src=\"https://raw.github.com/pyomeca/design/master/logo/logo_cropped_doc.svg?sanitize=true\">\n",
    "<font size=\"+3\">Effective computation in Biomechanics</font>\n",
    "\n",
    "<font size=\"+2\">Romain Martinez</font> <a href=\"https://github.com/romainmartinez\"><img src=\"https://img.shields.io/badge/github-romainmartinez-green?logo=github&style=social\" /></a>"
   ]
  },
  {
   "cell_type": "markdown",
   "metadata": {},
   "source": [
    "<!--NAVIGATION-->\n",
    "< [Python fundamentals](01.01-python-base.ipynb) | [Contents](index.ipynb) | [Biomechanical analysis with Pyomeca](01.03-intro-to-pyomeca.ipynb) >"
   ]
  },
  {
   "cell_type": "markdown",
   "metadata": {},
   "source": [
    "# Scientific computing with Numpy\n",
    "\n",
    "<img style=\"float: right; width: 300px\" src=\"https://upload.wikimedia.org/wikipedia/commons/1/1a/NumPy_logo.svg?sanitize=true\">\n",
    "\n",
    "[Numpy](https://numpy.org/) is probably the most fundamental package for scientific computing in Python.\n",
    "\n",
    "It provides a highly efficient interface to create and interact with multidimensional arrays.\n",
    "\n",
    "Nearly every other scientific package uses or integrates with NumPy in some way.\n",
    "\n",
    "The performance-sensitive parts of NumPy are all written in the C language, so they are very fast."
   ]
  },
  {
   "cell_type": "markdown",
   "metadata": {},
   "source": [
    "## Numpy arrays"
   ]
  },
  {
   "cell_type": "markdown",
   "metadata": {},
   "source": [
    "The fundamental object of NumPy is its `numpy.array`, an $n$-dimensional array that is also present in some form in array-oriented languages such as MATLAB."
   ]
  },
  {
   "cell_type": "code",
   "execution_count": 1,
   "metadata": {},
   "outputs": [],
   "source": [
    "import numpy as np  # we import numpy as \"np\" to avoid typing \"numpy\" each time\n",
    "\n",
    "%load_ext lab_black\n",
    "\n",
    "vector = np.array([10, 11, 12])"
   ]
  },
  {
   "cell_type": "code",
   "execution_count": 2,
   "metadata": {},
   "outputs": [
    {
     "name": "stdout",
     "output_type": "stream",
     "text": [
      "<class 'numpy.ndarray'>\n"
     ]
    }
   ],
   "source": [
    "print(type(vector))"
   ]
  },
  {
   "cell_type": "code",
   "execution_count": 3,
   "metadata": {},
   "outputs": [
    {
     "data": {
      "text/plain": [
       "(3,)"
      ]
     },
     "execution_count": 3,
     "metadata": {},
     "output_type": "execute_result"
    }
   ],
   "source": [
    "vector.shape"
   ]
  },
  {
   "cell_type": "markdown",
   "metadata": {},
   "source": [
    "Let’s start things off by forming a 3-dimensional array with 36 consecutive numbers"
   ]
  },
  {
   "cell_type": "code",
   "execution_count": 4,
   "metadata": {},
   "outputs": [
    {
     "data": {
      "text/plain": [
       "array([[[ 0,  1,  2],\n",
       "        [ 3,  4,  5],\n",
       "        [ 6,  7,  8],\n",
       "        [ 9, 10, 11]],\n",
       "\n",
       "       [[12, 13, 14],\n",
       "        [15, 16, 17],\n",
       "        [18, 19, 20],\n",
       "        [21, 22, 23]],\n",
       "\n",
       "       [[24, 25, 26],\n",
       "        [27, 28, 29],\n",
       "        [30, 31, 32],\n",
       "        [33, 34, 35]]])"
      ]
     },
     "execution_count": 4,
     "metadata": {},
     "output_type": "execute_result"
    }
   ],
   "source": [
    "matrix = np.arange(36).reshape(3, 4, 3)\n",
    "matrix"
   ]
  },
  {
   "cell_type": "markdown",
   "metadata": {},
   "source": [
    "Picturing high-dimensional arrays in two dimensions can be difficult.\n",
    "\n",
    "One intuitive way to think about an array’s shape is to simply say:\n",
    "\n",
    "> matrix is a 3 by 4 by 3 array"
   ]
  },
  {
   "cell_type": "code",
   "execution_count": 5,
   "metadata": {},
   "outputs": [
    {
     "data": {
      "text/plain": [
       "(3, 4, 3)"
      ]
     },
     "execution_count": 5,
     "metadata": {},
     "output_type": "execute_result"
    }
   ],
   "source": [
    "matrix.shape"
   ]
  },
  {
   "cell_type": "code",
   "execution_count": 6,
   "metadata": {},
   "outputs": [
    {
     "name": "stdout",
     "output_type": "stream",
     "text": [
      "matrix.ndim=3\n",
      "matrix.shape=(3, 4, 3)\n",
      "matrix.size=36\n",
      "matrix.dtype=dtype('int64')\n"
     ]
    }
   ],
   "source": [
    "print(f\"{matrix.ndim=}\")\n",
    "print(f\"{matrix.shape=}\")\n",
    "print(f\"{matrix.size=}\")\n",
    "print(f\"{matrix.dtype=}\")"
   ]
  },
  {
   "cell_type": "markdown",
   "metadata": {},
   "source": [
    "Visually, `matrix` could be thought of as a container of three 4x3 grids (or a rectangular prism) and would look like this:\n",
    "\n",
    "<img src=\"https://files.realpython.com/media/arr3d.7442cd4e11c6.jpg\" width=700px>\n",
    "\n",
    "Data with greater than two dimensions are tough to picture, but they are __everywhere__ in biomechanics, so better get used to it!"
   ]
  },
  {
   "cell_type": "markdown",
   "metadata": {},
   "source": [
    "### Creating a 4x3 array"
   ]
  },
  {
   "cell_type": "code",
   "execution_count": 7,
   "metadata": {},
   "outputs": [
    {
     "data": {
      "text/plain": [
       "array([[ 0,  1,  2],\n",
       "       [ 3,  4,  5],\n",
       "       [ 6,  7,  8],\n",
       "       [ 9, 10, 11]])"
      ]
     },
     "execution_count": 7,
     "metadata": {},
     "output_type": "execute_result"
    }
   ],
   "source": [
    "np.array([[0, 1, 2], [3, 4, 5], [6, 7, 8], [9, 10, 11]])  # from a list"
   ]
  },
  {
   "cell_type": "code",
   "execution_count": 8,
   "metadata": {},
   "outputs": [
    {
     "data": {
      "text/plain": [
       "array([[ 0,  1,  2],\n",
       "       [ 3,  4,  5],\n",
       "       [ 6,  7,  8],\n",
       "       [ 9, 10, 11]])"
      ]
     },
     "execution_count": 8,
     "metadata": {},
     "output_type": "execute_result"
    }
   ],
   "source": [
    "np.arange(12).reshape(4, 3)  # with consecutive numbers"
   ]
  },
  {
   "cell_type": "code",
   "execution_count": 9,
   "metadata": {},
   "outputs": [
    {
     "data": {
      "text/plain": [
       "array([[0., 0., 0.],\n",
       "       [0., 0., 0.],\n",
       "       [0., 0., 0.],\n",
       "       [0., 0., 0.]])"
      ]
     },
     "execution_count": 9,
     "metadata": {},
     "output_type": "execute_result"
    }
   ],
   "source": [
    "np.zeros((4, 3))  # with zeros"
   ]
  },
  {
   "cell_type": "code",
   "execution_count": 10,
   "metadata": {},
   "outputs": [
    {
     "data": {
      "text/plain": [
       "array([[1., 1., 1.],\n",
       "       [1., 1., 1.],\n",
       "       [1., 1., 1.],\n",
       "       [1., 1., 1.]])"
      ]
     },
     "execution_count": 10,
     "metadata": {},
     "output_type": "execute_result"
    }
   ],
   "source": [
    "np.ones((4, 3))  # with ones"
   ]
  },
  {
   "cell_type": "code",
   "execution_count": 11,
   "metadata": {},
   "outputs": [
    {
     "data": {
      "text/plain": [
       "array([[1., 1., 1.],\n",
       "       [1., 1., 1.],\n",
       "       [1., 1., 1.],\n",
       "       [1., 1., 1.]])"
      ]
     },
     "execution_count": 11,
     "metadata": {},
     "output_type": "execute_result"
    }
   ],
   "source": [
    "np.empty((4, 3))  # with last value used"
   ]
  },
  {
   "cell_type": "code",
   "execution_count": 12,
   "metadata": {},
   "outputs": [
    {
     "data": {
      "text/plain": [
       "array([[0.60735616, 0.87319008, 0.9659621 ],\n",
       "       [0.18343821, 0.95529461, 0.82921231],\n",
       "       [0.04650347, 0.47699624, 0.95430011],\n",
       "       [0.69373147, 0.70725343, 0.33456704]])"
      ]
     },
     "execution_count": 12,
     "metadata": {},
     "output_type": "execute_result"
    }
   ],
   "source": [
    "np.random.rand(4, 3)  # with random numbers"
   ]
  },
  {
   "cell_type": "markdown",
   "metadata": {
    "toc-hr-collapsed": false
   },
   "source": [
    "### Array indexing\n",
    "\n",
    "More details in the [indexing](https://docs.scipy.org/doc/numpy/reference/arrays.indexing.html) section of the documentation."
   ]
  },
  {
   "cell_type": "markdown",
   "metadata": {},
   "source": [
    "#### Integer indexing"
   ]
  },
  {
   "cell_type": "code",
   "execution_count": 13,
   "metadata": {},
   "outputs": [
    {
     "data": {
      "text/plain": [
       "array([[ 0,  1,  2],\n",
       "       [ 3,  4,  5],\n",
       "       [ 6,  7,  8],\n",
       "       [ 9, 10, 11]])"
      ]
     },
     "execution_count": 13,
     "metadata": {},
     "output_type": "execute_result"
    }
   ],
   "source": [
    "array = np.arange(12).reshape(4, 3)\n",
    "array"
   ]
  },
  {
   "cell_type": "code",
   "execution_count": 14,
   "metadata": {},
   "outputs": [
    {
     "data": {
      "text/plain": [
       "array([1, 5])"
      ]
     },
     "execution_count": 14,
     "metadata": {},
     "output_type": "execute_result"
    }
   ],
   "source": [
    "# first row second column & second row third column\n",
    "array[[0, 1], [1, 2]]"
   ]
  },
  {
   "cell_type": "markdown",
   "metadata": {},
   "source": [
    "#### Slicing"
   ]
  },
  {
   "cell_type": "code",
   "execution_count": 15,
   "metadata": {},
   "outputs": [
    {
     "data": {
      "text/plain": [
       "array([[0, 1, 2],\n",
       "       [3, 4, 5]])"
      ]
     },
     "execution_count": 15,
     "metadata": {},
     "output_type": "execute_result"
    }
   ],
   "source": [
    "# first two rows\n",
    "array[:2, :]"
   ]
  },
  {
   "cell_type": "code",
   "execution_count": 16,
   "metadata": {},
   "outputs": [
    {
     "data": {
      "text/plain": [
       "array([10, 11])"
      ]
     },
     "execution_count": 16,
     "metadata": {},
     "output_type": "execute_result"
    }
   ],
   "source": [
    "# last row and columns 1 & 2\n",
    "array[-1, 1:3]"
   ]
  },
  {
   "cell_type": "markdown",
   "metadata": {},
   "source": [
    "**Warning**: a slice of an array is a view into the same data, so modifying it will **modify the original array**."
   ]
  },
  {
   "cell_type": "markdown",
   "metadata": {},
   "source": [
    "#### Boolean indexing"
   ]
  },
  {
   "cell_type": "code",
   "execution_count": 17,
   "metadata": {},
   "outputs": [
    {
     "data": {
      "text/plain": [
       "array([[False, False, False],\n",
       "       [False, False, False],\n",
       "       [ True,  True,  True],\n",
       "       [ True,  True,  True]])"
      ]
     },
     "execution_count": 17,
     "metadata": {},
     "output_type": "execute_result"
    }
   ],
   "source": [
    "array > 5"
   ]
  },
  {
   "cell_type": "code",
   "execution_count": 18,
   "metadata": {},
   "outputs": [
    {
     "data": {
      "text/plain": [
       "array([ 6,  7,  8,  9, 10, 11])"
      ]
     },
     "execution_count": 18,
     "metadata": {},
     "output_type": "execute_result"
    }
   ],
   "source": [
    "array[array > 5]"
   ]
  },
  {
   "cell_type": "markdown",
   "metadata": {},
   "source": [
    "## Array math\n",
    "\n",
    "More details in the [mathematical functions](https://docs.scipy.org/doc/numpy/reference/routines.math.html) section of the official documentation."
   ]
  },
  {
   "cell_type": "code",
   "execution_count": 19,
   "metadata": {},
   "outputs": [],
   "source": [
    "x = np.array([[1, 2], [3, 4]])\n",
    "y = np.array([[5, 6], [7, 8]])"
   ]
  },
  {
   "cell_type": "code",
   "execution_count": 20,
   "metadata": {},
   "outputs": [
    {
     "data": {
      "text/plain": [
       "array([[ 6,  8],\n",
       "       [10, 12]])"
      ]
     },
     "execution_count": 20,
     "metadata": {},
     "output_type": "execute_result"
    }
   ],
   "source": [
    "x + y\n",
    "# or np.add(x, y)"
   ]
  },
  {
   "cell_type": "code",
   "execution_count": 21,
   "metadata": {},
   "outputs": [
    {
     "data": {
      "text/plain": [
       "array([[-4, -4],\n",
       "       [-4, -4]])"
      ]
     },
     "execution_count": 21,
     "metadata": {},
     "output_type": "execute_result"
    }
   ],
   "source": [
    "x - y\n",
    "# or np.substract(x, y)"
   ]
  },
  {
   "cell_type": "code",
   "execution_count": 22,
   "metadata": {},
   "outputs": [
    {
     "data": {
      "text/plain": [
       "array([[ 5, 12],\n",
       "       [21, 32]])"
      ]
     },
     "execution_count": 22,
     "metadata": {},
     "output_type": "execute_result"
    }
   ],
   "source": [
    "x * y\n",
    "# or np.multiply(x, y)"
   ]
  },
  {
   "cell_type": "code",
   "execution_count": 23,
   "metadata": {},
   "outputs": [
    {
     "data": {
      "text/plain": [
       "array([[0.2       , 0.33333333],\n",
       "       [0.42857143, 0.5       ]])"
      ]
     },
     "execution_count": 23,
     "metadata": {},
     "output_type": "execute_result"
    }
   ],
   "source": [
    "x / y\n",
    "# or np.divide(x, y)"
   ]
  },
  {
   "cell_type": "code",
   "execution_count": 24,
   "metadata": {},
   "outputs": [
    {
     "data": {
      "text/plain": [
       "array([[1.        , 1.41421356],\n",
       "       [1.73205081, 2.        ]])"
      ]
     },
     "execution_count": 24,
     "metadata": {},
     "output_type": "execute_result"
    }
   ],
   "source": [
    "np.sqrt(x)"
   ]
  },
  {
   "cell_type": "markdown",
   "metadata": {},
   "source": [
    "**Warning**: unlike MATLAB, `*` is elementwise multiplication, not matrix multiplication.\n",
    "\n",
    "We instead use the dot function to compute inner products of vectors, to multiply a vector by a matrix, and to multiply matrices."
   ]
  },
  {
   "cell_type": "code",
   "execution_count": 25,
   "metadata": {},
   "outputs": [
    {
     "data": {
      "text/plain": [
       "array([[19, 22],\n",
       "       [43, 50]])"
      ]
     },
     "execution_count": 25,
     "metadata": {},
     "output_type": "execute_result"
    }
   ],
   "source": [
    "x @ y\n",
    "# or np.dot(x, y)"
   ]
  },
  {
   "cell_type": "code",
   "execution_count": 26,
   "metadata": {},
   "outputs": [
    {
     "data": {
      "text/plain": [
       "array([4, 6])"
      ]
     },
     "execution_count": 26,
     "metadata": {},
     "output_type": "execute_result"
    }
   ],
   "source": [
    "np.sum(x, axis=0)\n",
    "# or x.sum(axis=0)"
   ]
  },
  {
   "cell_type": "code",
   "execution_count": 27,
   "metadata": {},
   "outputs": [
    {
     "data": {
      "text/plain": [
       "array([3, 7])"
      ]
     },
     "execution_count": 27,
     "metadata": {},
     "output_type": "execute_result"
    }
   ],
   "source": [
    "np.sum(x, axis=1)\n",
    "# or x.sum(axis=1)"
   ]
  },
  {
   "cell_type": "markdown",
   "metadata": {},
   "source": [
    "## Reshaping"
   ]
  },
  {
   "cell_type": "code",
   "execution_count": 28,
   "metadata": {},
   "outputs": [
    {
     "data": {
      "text/plain": [
       "array([[1, 2],\n",
       "       [3, 4]])"
      ]
     },
     "execution_count": 28,
     "metadata": {},
     "output_type": "execute_result"
    }
   ],
   "source": [
    "x"
   ]
  },
  {
   "cell_type": "code",
   "execution_count": 29,
   "metadata": {},
   "outputs": [
    {
     "data": {
      "text/plain": [
       "array([[1, 3],\n",
       "       [2, 4]])"
      ]
     },
     "execution_count": 29,
     "metadata": {},
     "output_type": "execute_result"
    }
   ],
   "source": [
    "x.T"
   ]
  },
  {
   "cell_type": "code",
   "execution_count": 30,
   "metadata": {},
   "outputs": [
    {
     "data": {
      "text/plain": [
       "array([1, 2, 3, 4])"
      ]
     },
     "execution_count": 30,
     "metadata": {},
     "output_type": "execute_result"
    }
   ],
   "source": [
    "x.reshape(-1)"
   ]
  },
  {
   "cell_type": "markdown",
   "metadata": {},
   "source": [
    "## Your turn\n",
    "\n",
    "Here are some EMG data from the anterior deltoid during a box lifting task:"
   ]
  },
  {
   "cell_type": "code",
   "execution_count": 31,
   "metadata": {},
   "outputs": [
    {
     "data": {
      "text/html": [
       "\n",
       "<div id=\"altair-viz-1\"></div>\n",
       "<script type=\"text/javascript\">\n",
       "  (function(spec, embedOpt){\n",
       "    const outputDiv = document.getElementById(\"altair-viz-1\");\n",
       "    const paths = {\n",
       "      \"vega\": \"https://cdn.jsdelivr.net/npm//vega@5?noext\",\n",
       "      \"vega-lib\": \"https://cdn.jsdelivr.net/npm//vega-lib?noext\",\n",
       "      \"vega-lite\": \"https://cdn.jsdelivr.net/npm//vega-lite@4.0.0?noext\",\n",
       "      \"vega-embed\": \"https://cdn.jsdelivr.net/npm//vega-embed@6?noext\",\n",
       "    };\n",
       "\n",
       "    function loadScript(lib) {\n",
       "      return new Promise(function(resolve, reject) {\n",
       "        var s = document.createElement('script');\n",
       "        s.src = paths[lib];\n",
       "        s.async = true;\n",
       "        s.onload = () => resolve(paths[lib]);\n",
       "        s.onerror = () => reject(`Error loading script: ${paths[lib]}`);\n",
       "        document.getElementsByTagName(\"head\")[0].appendChild(s);\n",
       "      });\n",
       "    }\n",
       "\n",
       "    function showError(err) {\n",
       "      outputDiv.innerHTML = `<div class=\"error\" style=\"color:red;\">${err}</div>`;\n",
       "      throw err;\n",
       "    }\n",
       "\n",
       "    function displayChart(vegaEmbed) {\n",
       "      vegaEmbed(outputDiv, spec, embedOpt)\n",
       "        .catch(err => showError(`Javascript Error: ${err.message}<br>This usually means there's a typo in your chart specification. See the javascript console for the full traceback.`));\n",
       "    }\n",
       "\n",
       "    if(typeof define === \"function\" && define.amd) {\n",
       "      requirejs.config({paths});\n",
       "      require([\"vega-embed\"], displayChart, err => showError(`Error loading script: ${err.message}`));\n",
       "    } else if (typeof vegaEmbed === \"function\") {\n",
       "      displayChart(vegaEmbed);\n",
       "    } else {\n",
       "      loadScript(\"vega\")\n",
       "        .then(() => loadScript(\"vega-lite\"))\n",
       "        .then(() => loadScript(\"vega-embed\"))\n",
       "        .catch(showError)\n",
       "        .then(() => displayChart(vegaEmbed));\n",
       "    }\n",
       "  })({\"config\": {\"view\": {\"continuousWidth\": 400, \"continuousHeight\": 300}}, \"layer\": [{\"data\": {\"name\": \"data-324d69dc23d9d903c9db8d34284cafa3\"}, \"mark\": \"line\", \"encoding\": {\"x\": {\"type\": \"quantitative\", \"field\": \"index\"}, \"y\": {\"type\": \"quantitative\", \"field\": \"delt_ant\"}}}, {\"data\": {\"name\": \"data-e45d9ae3b38f4f39478171af26345ded\"}, \"mark\": {\"type\": \"point\", \"color\": \"red\"}, \"encoding\": {\"x\": {\"type\": \"quantitative\", \"field\": \"index\"}, \"y\": {\"type\": \"quantitative\", \"field\": \"delt_ant\"}}}, {\"data\": {\"name\": \"data-324d69dc23d9d903c9db8d34284cafa3\"}, \"mark\": {\"type\": \"rule\", \"color\": \"firebrick\", \"size\": 2}, \"encoding\": {\"y\": {\"type\": \"quantitative\", \"aggregate\": \"mean\", \"field\": \"delt_ant\"}}}, {\"data\": {\"name\": \"data-e45d9ae3b38f4f39478171af26345ded\"}, \"mark\": {\"type\": \"errorband\", \"extent\": \"stdev\"}, \"encoding\": {\"y\": {\"type\": \"quantitative\", \"field\": \"delt_ant\"}}}], \"$schema\": \"https://vega.github.io/schema/vega-lite/v4.0.0.json\", \"datasets\": {\"data-324d69dc23d9d903c9db8d34284cafa3\": [{\"index\": 0, \"delt_ant\": 0.00884590063007292, \"filename\": \"12kg_H2_3\"}, {\"index\": 1, \"delt_ant\": 0.26119656527719604, \"filename\": \"12kg_H2_3\"}, {\"index\": 2, \"delt_ant\": 0.1675044503389327, \"filename\": \"12kg_H2_3\"}, {\"index\": 3, \"delt_ant\": 0.14710137995877584, \"filename\": \"12kg_H2_3\"}, {\"index\": 4, \"delt_ant\": 0.29131862871904946, \"filename\": \"12kg_H2_3\"}, {\"index\": 5, \"delt_ant\": 0.03416608224408255, \"filename\": \"12kg_H2_3\"}, {\"index\": 6, \"delt_ant\": 1.8110061028086963, \"filename\": \"12kg_H2_3\"}, {\"index\": 7, \"delt_ant\": 4.844863079542573, \"filename\": \"12kg_H2_3\"}, {\"index\": 8, \"delt_ant\": 4.690389049664889, \"filename\": \"12kg_H2_3\"}, {\"index\": 9, \"delt_ant\": 3.547944710694607, \"filename\": \"12kg_H2_3\"}, {\"index\": 10, \"delt_ant\": 3.843630052700724, \"filename\": \"12kg_H2_3\"}, {\"index\": 11, \"delt_ant\": 7.271176956940549, \"filename\": \"12kg_H2_3\"}, {\"index\": 12, \"delt_ant\": 9.735353789060994, \"filename\": \"12kg_H2_3\"}, {\"index\": 13, \"delt_ant\": 10.518202815893638, \"filename\": \"12kg_H2_3\"}, {\"index\": 14, \"delt_ant\": 12.326187964962491, \"filename\": \"12kg_H2_3\"}, {\"index\": 15, \"delt_ant\": 13.021741859153195, \"filename\": \"12kg_H2_3\"}, {\"index\": 16, \"delt_ant\": 9.589065519255913, \"filename\": \"12kg_H2_3\"}, {\"index\": 17, \"delt_ant\": 9.95432608775382, \"filename\": \"12kg_H2_3\"}, {\"index\": 18, \"delt_ant\": 10.290697455090449, \"filename\": \"12kg_H2_3\"}, {\"index\": 19, \"delt_ant\": 9.093542483561118, \"filename\": \"12kg_H2_3\"}, {\"index\": 20, \"delt_ant\": 7.443393099165503, \"filename\": \"12kg_H2_3\"}, {\"index\": 21, \"delt_ant\": 7.43048480982853, \"filename\": \"12kg_H2_3\"}, {\"index\": 22, \"delt_ant\": 7.442752652379634, \"filename\": \"12kg_H2_3\"}, {\"index\": 23, \"delt_ant\": 6.5717599818521055, \"filename\": \"12kg_H2_3\"}, {\"index\": 24, \"delt_ant\": 8.830462045672704, \"filename\": \"12kg_H2_3\"}, {\"index\": 25, \"delt_ant\": 15.298827077119489, \"filename\": \"12kg_H2_3\"}, {\"index\": 26, \"delt_ant\": 24.197933109374805, \"filename\": \"12kg_H2_3\"}, {\"index\": 27, \"delt_ant\": 30.12150767424961, \"filename\": \"12kg_H2_3\"}, {\"index\": 28, \"delt_ant\": 24.02390346546472, \"filename\": \"12kg_H2_3\"}, {\"index\": 29, \"delt_ant\": 20.404676424290226, \"filename\": \"12kg_H2_3\"}, {\"index\": 30, \"delt_ant\": 15.72063401808064, \"filename\": \"12kg_H2_3\"}, {\"index\": 31, \"delt_ant\": 14.94806236607312, \"filename\": \"12kg_H2_3\"}, {\"index\": 32, \"delt_ant\": 16.051978816244507, \"filename\": \"12kg_H2_3\"}, {\"index\": 33, \"delt_ant\": 14.917963939957476, \"filename\": \"12kg_H2_3\"}, {\"index\": 34, \"delt_ant\": 12.609092878983107, \"filename\": \"12kg_H2_3\"}, {\"index\": 35, \"delt_ant\": 14.46688596255812, \"filename\": \"12kg_H2_3\"}, {\"index\": 36, \"delt_ant\": 15.520764195554486, \"filename\": \"12kg_H2_3\"}, {\"index\": 37, \"delt_ant\": 17.61721307998722, \"filename\": \"12kg_H2_3\"}, {\"index\": 38, \"delt_ant\": 22.282552163003462, \"filename\": \"12kg_H2_3\"}, {\"index\": 39, \"delt_ant\": 24.58905937027235, \"filename\": \"12kg_H2_3\"}, {\"index\": 40, \"delt_ant\": 22.57900463348493, \"filename\": \"12kg_H2_3\"}, {\"index\": 41, \"delt_ant\": 27.060663153160824, \"filename\": \"12kg_H2_3\"}, {\"index\": 42, \"delt_ant\": 27.014407991944104, \"filename\": \"12kg_H2_3\"}, {\"index\": 43, \"delt_ant\": 34.17064130735672, \"filename\": \"12kg_H2_3\"}, {\"index\": 44, \"delt_ant\": 38.81903380149743, \"filename\": \"12kg_H2_3\"}, {\"index\": 45, \"delt_ant\": 30.40780488542345, \"filename\": \"12kg_H2_3\"}, {\"index\": 46, \"delt_ant\": 31.732666842574936, \"filename\": \"12kg_H2_3\"}, {\"index\": 47, \"delt_ant\": 39.94648933551224, \"filename\": \"12kg_H2_3\"}, {\"index\": 48, \"delt_ant\": 33.57442889514584, \"filename\": \"12kg_H2_3\"}, {\"index\": 49, \"delt_ant\": 37.80480063187027, \"filename\": \"12kg_H2_3\"}, {\"index\": 50, \"delt_ant\": 42.00911332717375, \"filename\": \"12kg_H2_3\"}, {\"index\": 51, \"delt_ant\": 35.23646165460967, \"filename\": \"12kg_H2_3\"}, {\"index\": 52, \"delt_ant\": 39.370569834741204, \"filename\": \"12kg_H2_3\"}, {\"index\": 53, \"delt_ant\": 58.93703313065436, \"filename\": \"12kg_H2_3\"}, {\"index\": 54, \"delt_ant\": 61.64358994208812, \"filename\": \"12kg_H2_3\"}, {\"index\": 55, \"delt_ant\": 55.64585101462677, \"filename\": \"12kg_H2_3\"}, {\"index\": 56, \"delt_ant\": 54.38832543457558, \"filename\": \"12kg_H2_3\"}, {\"index\": 57, \"delt_ant\": 53.33754527981733, \"filename\": \"12kg_H2_3\"}, {\"index\": 58, \"delt_ant\": 51.055053738089924, \"filename\": \"12kg_H2_3\"}, {\"index\": 59, \"delt_ant\": 58.88022997302858, \"filename\": \"12kg_H2_3\"}, {\"index\": 60, \"delt_ant\": 51.1818432869532, \"filename\": \"12kg_H2_3\"}, {\"index\": 61, \"delt_ant\": 38.74264251561206, \"filename\": \"12kg_H2_3\"}, {\"index\": 62, \"delt_ant\": 36.1948491744616, \"filename\": \"12kg_H2_3\"}, {\"index\": 63, \"delt_ant\": 43.009146989070025, \"filename\": \"12kg_H2_3\"}, {\"index\": 64, \"delt_ant\": 50.51561960802324, \"filename\": \"12kg_H2_3\"}, {\"index\": 65, \"delt_ant\": 42.946671011816356, \"filename\": \"12kg_H2_3\"}, {\"index\": 66, \"delt_ant\": 36.13259729240874, \"filename\": \"12kg_H2_3\"}, {\"index\": 67, \"delt_ant\": 29.744222104061627, \"filename\": \"12kg_H2_3\"}, {\"index\": 68, \"delt_ant\": 35.64436835738421, \"filename\": \"12kg_H2_3\"}, {\"index\": 69, \"delt_ant\": 37.51968944357374, \"filename\": \"12kg_H2_3\"}, {\"index\": 70, \"delt_ant\": 25.764768314981318, \"filename\": \"12kg_H2_3\"}, {\"index\": 71, \"delt_ant\": 21.324836249103306, \"filename\": \"12kg_H2_3\"}, {\"index\": 72, \"delt_ant\": 16.16646086489561, \"filename\": \"12kg_H2_3\"}, {\"index\": 73, \"delt_ant\": 14.327872059041875, \"filename\": \"12kg_H2_3\"}, {\"index\": 74, \"delt_ant\": 14.568811033123096, \"filename\": \"12kg_H2_3\"}, {\"index\": 75, \"delt_ant\": 8.672648753522317, \"filename\": \"12kg_H2_3\"}, {\"index\": 76, \"delt_ant\": 4.7067410119407045, \"filename\": \"12kg_H2_3\"}, {\"index\": 77, \"delt_ant\": 6.338157556090506, \"filename\": \"12kg_H2_3\"}, {\"index\": 78, \"delt_ant\": 6.583184250168504, \"filename\": \"12kg_H2_3\"}, {\"index\": 79, \"delt_ant\": 5.312059133880461, \"filename\": \"12kg_H2_3\"}, {\"index\": 80, \"delt_ant\": 5.253548836812727, \"filename\": \"12kg_H2_3\"}, {\"index\": 81, \"delt_ant\": 4.464876677436621, \"filename\": \"12kg_H2_3\"}, {\"index\": 82, \"delt_ant\": 4.899704170185711, \"filename\": \"12kg_H2_3\"}, {\"index\": 83, \"delt_ant\": 3.1865757744897096, \"filename\": \"12kg_H2_3\"}, {\"index\": 84, \"delt_ant\": 2.4649372554221487, \"filename\": \"12kg_H2_3\"}, {\"index\": 85, \"delt_ant\": 1.022921536294789, \"filename\": \"12kg_H2_3\"}, {\"index\": 86, \"delt_ant\": 0.4411455452292698, \"filename\": \"12kg_H2_3\"}, {\"index\": 87, \"delt_ant\": 0.4265129689556782, \"filename\": \"12kg_H2_3\"}, {\"index\": 88, \"delt_ant\": 0.3208146193740365, \"filename\": \"12kg_H2_3\"}, {\"index\": 89, \"delt_ant\": 0.2728557645192249, \"filename\": \"12kg_H2_3\"}, {\"index\": 90, \"delt_ant\": 0.2367539757140953, \"filename\": \"12kg_H2_3\"}, {\"index\": 91, \"delt_ant\": 0.32110495892064195, \"filename\": \"12kg_H2_3\"}, {\"index\": 92, \"delt_ant\": 0.2980993058362593, \"filename\": \"12kg_H2_3\"}, {\"index\": 93, \"delt_ant\": 0.22155578551864213, \"filename\": \"12kg_H2_3\"}, {\"index\": 94, \"delt_ant\": 0.18814903467982624, \"filename\": \"12kg_H2_3\"}, {\"index\": 95, \"delt_ant\": 0.18577811021497653, \"filename\": \"12kg_H2_3\"}, {\"index\": 96, \"delt_ant\": 0.16880430844930294, \"filename\": \"12kg_H2_3\"}, {\"index\": 97, \"delt_ant\": 0.18771838321261294, \"filename\": \"12kg_H2_3\"}, {\"index\": 98, \"delt_ant\": 0.19888399151294814, \"filename\": \"12kg_H2_3\"}, {\"index\": 99, \"delt_ant\": 0.20440835258966086, \"filename\": \"12kg_H2_3\"}, {\"index\": 100, \"delt_ant\": 0.21637315454810865, \"filename\": \"12kg_H2_3\"}], \"data-e45d9ae3b38f4f39478171af26345ded\": [{\"index\": 26, \"delt_ant\": 24.197933109374805, \"filename\": \"12kg_H2_3\"}, {\"index\": 27, \"delt_ant\": 30.12150767424961, \"filename\": \"12kg_H2_3\"}, {\"index\": 28, \"delt_ant\": 24.02390346546472, \"filename\": \"12kg_H2_3\"}, {\"index\": 29, \"delt_ant\": 20.404676424290226, \"filename\": \"12kg_H2_3\"}, {\"index\": 38, \"delt_ant\": 22.282552163003462, \"filename\": \"12kg_H2_3\"}, {\"index\": 39, \"delt_ant\": 24.58905937027235, \"filename\": \"12kg_H2_3\"}, {\"index\": 40, \"delt_ant\": 22.57900463348493, \"filename\": \"12kg_H2_3\"}, {\"index\": 41, \"delt_ant\": 27.060663153160824, \"filename\": \"12kg_H2_3\"}, {\"index\": 42, \"delt_ant\": 27.014407991944104, \"filename\": \"12kg_H2_3\"}, {\"index\": 43, \"delt_ant\": 34.17064130735672, \"filename\": \"12kg_H2_3\"}, {\"index\": 44, \"delt_ant\": 38.81903380149743, \"filename\": \"12kg_H2_3\"}, {\"index\": 45, \"delt_ant\": 30.40780488542345, \"filename\": \"12kg_H2_3\"}, {\"index\": 46, \"delt_ant\": 31.732666842574936, \"filename\": \"12kg_H2_3\"}, {\"index\": 47, \"delt_ant\": 39.94648933551224, \"filename\": \"12kg_H2_3\"}, {\"index\": 48, \"delt_ant\": 33.57442889514584, \"filename\": \"12kg_H2_3\"}, {\"index\": 49, \"delt_ant\": 37.80480063187027, \"filename\": \"12kg_H2_3\"}, {\"index\": 50, \"delt_ant\": 42.00911332717375, \"filename\": \"12kg_H2_3\"}, {\"index\": 51, \"delt_ant\": 35.23646165460967, \"filename\": \"12kg_H2_3\"}, {\"index\": 52, \"delt_ant\": 39.370569834741204, \"filename\": \"12kg_H2_3\"}, {\"index\": 53, \"delt_ant\": 58.93703313065436, \"filename\": \"12kg_H2_3\"}, {\"index\": 54, \"delt_ant\": 61.64358994208812, \"filename\": \"12kg_H2_3\"}, {\"index\": 55, \"delt_ant\": 55.64585101462677, \"filename\": \"12kg_H2_3\"}, {\"index\": 56, \"delt_ant\": 54.38832543457558, \"filename\": \"12kg_H2_3\"}, {\"index\": 57, \"delt_ant\": 53.33754527981733, \"filename\": \"12kg_H2_3\"}, {\"index\": 58, \"delt_ant\": 51.055053738089924, \"filename\": \"12kg_H2_3\"}, {\"index\": 59, \"delt_ant\": 58.88022997302858, \"filename\": \"12kg_H2_3\"}, {\"index\": 60, \"delt_ant\": 51.1818432869532, \"filename\": \"12kg_H2_3\"}, {\"index\": 61, \"delt_ant\": 38.74264251561206, \"filename\": \"12kg_H2_3\"}, {\"index\": 62, \"delt_ant\": 36.1948491744616, \"filename\": \"12kg_H2_3\"}, {\"index\": 63, \"delt_ant\": 43.009146989070025, \"filename\": \"12kg_H2_3\"}, {\"index\": 64, \"delt_ant\": 50.51561960802324, \"filename\": \"12kg_H2_3\"}, {\"index\": 65, \"delt_ant\": 42.946671011816356, \"filename\": \"12kg_H2_3\"}, {\"index\": 66, \"delt_ant\": 36.13259729240874, \"filename\": \"12kg_H2_3\"}, {\"index\": 67, \"delt_ant\": 29.744222104061627, \"filename\": \"12kg_H2_3\"}, {\"index\": 68, \"delt_ant\": 35.64436835738421, \"filename\": \"12kg_H2_3\"}, {\"index\": 69, \"delt_ant\": 37.51968944357374, \"filename\": \"12kg_H2_3\"}, {\"index\": 70, \"delt_ant\": 25.764768314981318, \"filename\": \"12kg_H2_3\"}, {\"index\": 71, \"delt_ant\": 21.324836249103306, \"filename\": \"12kg_H2_3\"}]}}, {\"mode\": \"vega-lite\"});\n",
       "</script>"
      ],
      "text/plain": [
       "alt.LayerChart(...)"
      ]
     },
     "execution_count": 31,
     "metadata": {},
     "output_type": "execute_result"
    }
   ],
   "source": [
    "import pandas as pd\n",
    "import altair as alt\n",
    "\n",
    "emg_dataframe = pd.read_csv(\"../data/emgs.csv\").query('filename == \"12kg_H2_3\"')\n",
    "\n",
    "base = alt.Chart(emg_dataframe)\n",
    "line = base.mark_line().encode(x=\"index\", y=\"delt_ant\")\n",
    "rule = base.mark_rule(color=\"firebrick\", size=2).encode(y=\"mean(delt_ant)\")\n",
    "\n",
    "above_base = alt.Chart(emg_dataframe.query(\"delt_ant > delt_ant.mean()\"))\n",
    "points = above_base.mark_point(color=\"red\").encode(x=\"index\", y=\"delt_ant\")\n",
    "rect = above_base.mark_errorband(extent=\"stdev\").encode(y=\"delt_ant\")\n",
    "\n",
    "line + points + rule + rect"
   ]
  },
  {
   "cell_type": "code",
   "execution_count": 32,
   "metadata": {},
   "outputs": [],
   "source": [
    "emg = emg_dataframe[\"delt_ant\"].values"
   ]
  },
  {
   "cell_type": "markdown",
   "metadata": {},
   "source": [
    "From the `emg` Numpy array:\n",
    "1. Selects only points that are above the average of the EMG signal (red points).\n",
    "2. From these points, calculate how many points are within plus or minus one standard deviation of the mean (red points outside the blue area)."
   ]
  },
  {
   "cell_type": "markdown",
   "metadata": {},
   "source": [
    "<!--NAVIGATION-->\n",
    "< [Python fundamentals](01.01-python-base.ipynb) | [Contents](index.ipynb) | [Biomechanical analysis with Pyomeca](01.03-intro-to-pyomeca.ipynb) >"
   ]
  }
 ],
 "metadata": {
  "kernelspec": {
   "display_name": "Python [conda env:tutorials]",
   "language": "python",
   "name": "conda-env-tutorials-py"
  },
  "language_info": {
   "codemirror_mode": {
    "name": "ipython",
    "version": 3
   },
   "file_extension": ".py",
   "mimetype": "text/x-python",
   "name": "python",
   "nbconvert_exporter": "python",
   "pygments_lexer": "ipython3",
   "version": "3.8.1"
  }
 },
 "nbformat": 4,
 "nbformat_minor": 4
}
