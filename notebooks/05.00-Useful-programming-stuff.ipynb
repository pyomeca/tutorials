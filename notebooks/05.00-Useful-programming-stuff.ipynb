{
 "cells": [
  {
   "cell_type": "markdown",
   "metadata": {},
   "source": [
    "<!--BOOK_INFORMATION-->\n",
    "<img style=\"float: right; width: 100px\" src=\"https://raw.github.com/pyomeca/design/master/logo/logo_cropped.svg?sanitize=true\">\n",
    "\n",
    "# Effective computation in Biomechanics\n",
    "## with [pyomeca](https://github.com/pyomeca/pyomeca)\n",
    "Romain Martinez (martinez.staps@gmail.com | [GitHub](https://github.com/romainmartinez))"
   ]
  },
  {
   "cell_type": "markdown",
   "metadata": {},
   "source": [
    "<!--NAVIGATION-->\n",
    "< [Statistical Parametric Mapping (SPM)](04.01-Intro-to-SPM.ipynb) | [Contents](Index.ipynb) |"
   ]
  },
  {
   "cell_type": "markdown",
   "metadata": {},
   "source": [
    "# Useful programming stuff\n",
    "\n",
    "github\n",
    "pandoc\n",
    "python IDE"
   ]
  },
  {
   "cell_type": "markdown",
   "metadata": {},
   "source": [
    "## Python IDE\n",
    "\n",
    "We recommend:\n",
    "\n",
    "- [Jupyter lab](https://github.com/jupyterlab/jupyterlab) for analysis\n",
    "\n",
    "- [PyCharm](https://www.jetbrains.com/pycharm/) for software development (writing complex functions, packages, etc.)\n",
    "\n",
    "<img style=\"float: left; width: 300px\" src=\"https://upload.wikimedia.org/wikipedia/commons/3/38/Jupyter_logo.svg?sanitize=true\">\n",
    "\n",
    "<img style=\"float: center; width: 100px\" src=\"https://upload.wikimedia.org/wikipedia/commons/a/a1/PyCharm_Logo.svg?sanitize=true\">\n",
    "\n"
   ]
  },
  {
   "cell_type": "markdown",
   "metadata": {},
   "source": [
    "## Git & GitHub"
   ]
  },
  {
   "cell_type": "markdown",
   "metadata": {},
   "source": [
    "### Create a GitHub account\n",
    "\n",
    "Start by creating an account on [GitHub](https://github.com/join), Then create a test repo.\n",
    "\n",
    "If you have a university email account, you can request a [Student Developer Pack](https://education.github.com/pack) to be able to create private repo accounts."
   ]
  },
  {
   "cell_type": "markdown",
   "metadata": {},
   "source": [
    "### Use git on your machine\n",
    "\n",
    "We recommend learning and familiarizing yourself with git on graphical interfaces, such as [GitKraken](https://www.gitkraken.com/) or [GitHub-Desktop](https://desktop.github.com/).\n",
    "\n",
    "Once you are comfortable, try using git from the terminal, your workflow will be much faster."
   ]
  },
  {
   "cell_type": "markdown",
   "metadata": {},
   "source": [
    "### Why use git?\n",
    "\n",
    "- no more:\n",
    "```\n",
    ".\n",
    "├── inverse_kinematics_1.py\n",
    "├── inverse_kinematics_1_NEW.py\n",
    "├── inverse_kinematics_1_NOT_WORKING.py\n",
    "├── inverse_kinematics_1_old.py\n",
    "├── inverse_kinematics_2.py\n",
    "├── inverse_kinematics_2_v2.py\n",
    "└── inverse_kinematics.py\n",
    "```\n",
    "\n",
    "\n",
    "- you have access to all your commit history\n",
    "\n",
    "- you can try out new features or analysis, without risking breaking your code (as you can always go back)\n",
    "\n",
    "- working in collaboration with others is greatly simplified"
   ]
  },
  {
   "cell_type": "markdown",
   "metadata": {},
   "source": [
    "<!--NAVIGATION-->\n",
    "< [Statistical Parametric Mapping (SPM)](04.01-Intro-to-SPM.ipynb) | [Contents](Index.ipynb) |"
   ]
  }
 ],
 "metadata": {
  "kernelspec": {
   "display_name": "Python 3",
   "language": "python",
   "name": "conda-env-tutorials-py"
  },
  "language_info": {
   "codemirror_mode": {
    "name": "ipython",
    "version": 3
   },
   "file_extension": ".py",
   "mimetype": "text/x-python",
   "name": "python",
   "nbconvert_exporter": "python",
   "pygments_lexer": "ipython3",
   "version": "3.7.0"
  }
 },
 "nbformat": 4,
 "nbformat_minor": 2
}
