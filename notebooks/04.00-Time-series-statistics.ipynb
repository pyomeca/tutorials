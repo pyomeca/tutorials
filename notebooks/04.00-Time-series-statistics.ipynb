{
 "cells": [
  {
   "cell_type": "markdown",
   "metadata": {},
   "source": [
    "<!--BOOK_INFORMATION-->\n",
    "<img style=\"float: right; width: 100px\" src=\"https://raw.github.com/pyomeca/design/master/logo/logo_cropped.svg?sanitize=true\">\n",
    "\n",
    "# Effective computation in Biomechanics\n",
    "## with [pyomeca](https://github.com/pyomeca/pyomeca)\n",
    "Romain Martinez (martinez.staps@gmail.com | [GitHub](https://github.com/romainmartinez))"
   ]
  },
  {
   "cell_type": "markdown",
   "metadata": {},
   "source": [
    "<!--NAVIGATION-->\n",
    "< [Data visualization](03.00-Effective-viz.ipynb) | [Contents](Index.ipynb) | [Statistical Parametric Mapping (SPM)](04.01-Intro-to-SPM.ipynb) >"
   ]
  },
  {
   "cell_type": "markdown",
   "metadata": {},
   "source": [
    "# Advanced statistical analysis of biomechanical time series"
   ]
  },
  {
   "cell_type": "markdown",
   "metadata": {},
   "source": [
    "### Research hypothesis\n",
    "\n",
    "Attempt to explain some observation (generally by linking it to other observations).\n",
    "\n",
    "> You have a coin that you suspect is weighted toward heads. You therefore attempt to explain this with the following hypothesis: \"this coin is weighted toward heads\".\n",
    "\n",
    "### Null hypothesis\n",
    "\n",
    "In statistics, there is never just one hypothesis.There is your hypothesis AND there's something called the Null Hypothesis. \n",
    "\n",
    "The Null Hypothesis states that there is actually *no relationship* between the observations you're trying to link.\n",
    "\n",
    "> Your null hypothesis is then that the coin is fair.\n",
    "\n",
    "### What's the point of having a null hypothesis?\n",
    "\n",
    "All that we know is based on observation, and since we can't observe everything that there is, we can't say with complete certainty that any explanation of an observation is \"true\".\n",
    "However, we can say that any given hypothesis has a higher or lower probability of being true than other hypotheses.\n",
    "Through beating as many alternative explanations as possible, we can increase our confidence that our successful explanation is true, but we can't ever say that it is 100% true.\n",
    "\n",
    "> We know that we can't ever prove 100% that this coin always gives heads. However, we can at least show that our hypothesis (H1) has a higher probability of being true than the null hypothesis (H0).\n",
    "\n",
    "### p-value\n",
    "\n",
    "So, we start tracking every observation we possibly can.\n",
    "\n",
    "Once we have a good size of observations, we run the result through a statistic called \"p-value\".\n",
    "\n",
    "The number that comes out at the end is the probability of getting the same results if the null hypothesis is true.\n",
    "\n",
    "The p-value doesn't say that your hypothesis is correct, and it doesn't say the null hypothesis is incorrect.\n",
    "The p-value merely states the probability that you could get the same results as you observed due to random chance.\n",
    "\n",
    "> You flip it 100 times and get more heads than tails. The p-value won’t tell you whether the coin is fair, but it will tell you the probability that you’d get at least as many heads as you did if the coin was fair. That’s it — _nothing more_.\n",
    "\n",
    "### p-value < 0.05\n",
    "\n",
    "Typically in science we consider a p-value of 0.05 to be significant.\n",
    "Meaning that unless the probability of getting the same results due to random chance is 5% or less, we generally don't pursue the alternate hypothesis and instead stick with the null hypothesis: the observations are unrelated."
   ]
  },
  {
   "cell_type": "markdown",
   "metadata": {},
   "source": [
    "### Why do we use p-value$<0.05$?\n",
    "\n",
    "The criterion of $p-value<0.05$ forms the basis of statistics, and yet there is very little justification for it.\n",
    "\n",
    "It probably comes down to the fact that before computers, scientists had to compare their test statistics against tables of \"critical values\".\n",
    "\n",
    "[Fisher](https://fr.wikipedia.org/wiki/Ronald_Aylmer_Fisher), the father of frequentist statistics, produced these tables but to save space produced these tables only for particular values ($0.05, 0.01, 0.001$).\n",
    "\n",
    "Even Fisher acknowledged that the use of a fixed level of significance was silly:\n",
    "\n",
    "> No scientific worker has a fixed level of significance at which from year to year, and in all circumstances, he rejects hypotheses; he rather gives his mind to each particular case in light of his evidence and his ideas.\n",
    "> (Fisher, 1956)\n",
    "\n",
    "Report [effect size](https://en.wikipedia.org/wiki/Effect_size) (Cohen's $d$, Pearson's $r$ and the odds ratio) help assessing whether an effect is meaningful within the research context."
   ]
  },
  {
   "cell_type": "markdown",
   "metadata": {},
   "source": [
    "### A warning note on p-hacking\n",
    "\n",
    "Research paper are more likely to be published if they contain significant results. This is one of the reasons behind the replication crisis in science, because\n",
    "\n",
    "1. p-value alone does not work:\n",
    "\n",
    "> “The dominant method used is the p-value,” said Michael Evans, a statistician at the University of Toronto, “and the p-value is well known not to work very well.”\n",
    "\n",
    "> “We believe that the p < .05 bar is too easy to pass and sometimes serves as an excuse for lower quality research,”the editors wrote in their announcement. Instead of p-values, the journal will require “strong descriptive statistics, including effect sizes.” (Basic and Applied Social Psychology announced that it will no longer publish p-values)\n",
    "\n",
    "2. It is easy to lie with p-values ([hack your way to scientific glory](https://fivethirtyeight.com/features/science-isnt-broken/#part1)) and [not even scientists can explain _p-values_.](https://fivethirtyeight.com/features/not-even-scientists-can-easily-explain-p-values/)"
   ]
  },
  {
   "cell_type": "markdown",
   "metadata": {},
   "source": [
    "## How to choose a test ?\n",
    "Hypothesis testing cheat sheet\n",
    "\n",
    "\n",
    "- **How many variables** (dependent variables)?\n",
    "  - 1: univariate test (_t-test, ANOVA)_\n",
    "  - more than 1: multivariate test (_Hotelling's T2 test, MANOVA_)\n",
    "  \n",
    "  \n",
    "- **How many factors** (independent variables)?\n",
    "  - 1 factor with 2 levels (_t-test or Hotelling's_)\n",
    "  - 1 factor with more than 2 levels (_one-way ANOVA,  one-way MANOVA_)\n",
    "  - 2 factors with more than 2 levels (_two-ways ANOVA_)\n",
    "  \n",
    "  \n",
    "- **Same sample**?\n",
    "  - same sample (_paired tests_)\n",
    "  - different sample (_other tests_)\n",
    " "
   ]
  },
  {
   "cell_type": "markdown",
   "metadata": {},
   "source": [
    "![Flow chart](https://raw.githubusercontent.com/pyomeca/tutorials/master/notebooks/images/flow.svg?sanitize=true)"
   ]
  },
  {
   "cell_type": "markdown",
   "metadata": {},
   "source": [
    "Research question examples:\n",
    "\n",
    "- paired t-test: the effect of a foot orthosis on knee contact forces\n",
    "\n",
    "- two sample t-test: the effect of violin expertise (2 levels) on the sum of shoulder muscle activations\n",
    "\n",
    "- one-way ANOVA: the effect of foot orthosis design (3 levels) on knee contact forces\n",
    "\n",
    "- two-ways ANOVA: the effect of expertise (2 levels) and box weight (3 levels) on the glenohumeral contact forces during manual handling tasks\n",
    "\n",
    "- paired Hotelling's T2: the effect of a foot orthosis on ankle, knee and hip contact forces\n",
    "\n",
    "- one-way MANOVA: the effect of foot orthosis design (3 levels) on ankle, knee and hip contact forces\n",
    "    \n"
   ]
  },
  {
   "cell_type": "markdown",
   "metadata": {},
   "source": [
    "<!--NAVIGATION-->\n",
    "< [Data visualization](03.00-Effective-viz.ipynb) | [Contents](Index.ipynb) | [Statistical Parametric Mapping (SPM)](04.01-Intro-to-SPM.ipynb) >"
   ]
  }
 ],
 "metadata": {
  "kernelspec": {
   "display_name": "Python 3",
   "language": "python",
   "name": "conda-env-tutorials-py"
  },
  "language_info": {
   "codemirror_mode": {
    "name": "ipython",
    "version": 3
   },
   "file_extension": ".py",
   "mimetype": "text/x-python",
   "name": "python",
   "nbconvert_exporter": "python",
   "pygments_lexer": "ipython3",
   "version": "3.7.0"
  },
  "toc-autonumbering": false
 },
 "nbformat": 4,
 "nbformat_minor": 2
}
