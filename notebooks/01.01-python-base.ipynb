{
 "cells": [
  {
   "cell_type": "markdown",
   "metadata": {},
   "source": [
    "<!--BOOK_INFORMATION-->\n",
    "<img style=\"float: right; width: 100px\" src=\"https://raw.github.com/pyomeca/design/master/logo/logo_cropped_doc.svg?sanitize=true\">\n",
    "<font size=\"+3\">Effective computation in Biomechanics</font>\n",
    "\n",
    "<font size=\"+2\">Romain Martinez</font> <a href=\"https://github.com/romainmartinez\"><img src=\"https://img.shields.io/badge/github-romainmartinez-green?logo=github&style=social\" /></a>"
   ]
  },
  {
   "cell_type": "markdown",
   "metadata": {},
   "source": [
    "<!--NAVIGATION-->\n",
    "< [Introduction to Python](01.00-why-python.ipynb) | [Contents](index.ipynb) | [Scientific computing with Numpy](01.02-intro-to-numpy.ipynb) >"
   ]
  },
  {
   "cell_type": "markdown",
   "metadata": {},
   "source": [
    "# Python fundamentals"
   ]
  },
  {
   "cell_type": "code",
   "execution_count": null,
   "metadata": {},
   "outputs": [],
   "source": [
    "%load_ext lab_black"
   ]
  },
  {
   "cell_type": "markdown",
   "metadata": {},
   "source": [
    "## Data types\n",
    "\n",
    "| Type       | Example     | Description                           |\n",
    "|------------|-------------|---------------------------------------|\n",
    "| `int`      | `x = 1`     | Integers (whole numbers)              |\n",
    "| `float`    | `x = 1.0`   | Floating-point numbers (real numbers) |\n",
    "| `bool`     | `x = True`  | Boolean: True/False values            |\n",
    "| `str`      | `x = \"abc\"` | String: characters or text            |\n",
    "| `NoneType` | `x = None`  | Special object indicating nulls       |"
   ]
  },
  {
   "cell_type": "markdown",
   "metadata": {},
   "source": [
    "### Numbers"
   ]
  },
  {
   "cell_type": "code",
   "execution_count": 2,
   "metadata": {},
   "outputs": [
    {
     "name": "stdout",
     "output_type": "stream",
     "text": [
      "<class 'int'>\n",
      "4\n",
      "2\n",
      "9\n",
      "9\n"
     ]
    }
   ],
   "source": [
    "# int\n",
    "x = 3\n",
    "\n",
    "print(type(x))\n",
    "print(x + 1)\n",
    "print(x - 1)\n",
    "print(x * 3)\n",
    "print(x ** 2)"
   ]
  },
  {
   "cell_type": "code",
   "execution_count": 3,
   "metadata": {},
   "outputs": [],
   "source": [
    "# float\n",
    "y = 3.14\n",
    "\n",
    "# print type\n",
    "\n",
    "\n",
    "# add x"
   ]
  },
  {
   "cell_type": "markdown",
   "metadata": {},
   "source": [
    "### Strings"
   ]
  },
  {
   "cell_type": "code",
   "execution_count": 4,
   "metadata": {},
   "outputs": [
    {
     "name": "stdout",
     "output_type": "stream",
     "text": [
      "<class 'str'>\n",
      "5\n",
      "helloworld\n",
      "HELLO\n"
     ]
    }
   ],
   "source": [
    "hello = \"hello\"\n",
    "world = \"world\"\n",
    "\n",
    "print(type(hello))\n",
    "print(len(hello))\n",
    "print(hello + world)\n",
    "print(hello.upper())"
   ]
  },
  {
   "cell_type": "markdown",
   "metadata": {},
   "source": [
    "### Booleans"
   ]
  },
  {
   "cell_type": "code",
   "execution_count": 5,
   "metadata": {},
   "outputs": [
    {
     "name": "stdout",
     "output_type": "stream",
     "text": [
      "<class 'bool'>\n",
      "False\n"
     ]
    }
   ],
   "source": [
    "# note the capitalization\n",
    "print(type(False))\n",
    "print(True == False)"
   ]
  },
  {
   "cell_type": "markdown",
   "metadata": {},
   "source": [
    "## Containers\n",
    "\n",
    "| Type    | Example                        | Description                  |\n",
    "|---------|--------------------------------|------------------------------|\n",
    "| `list`  | `x = [1, 2, 3]`                | Ordered collection           |\n",
    "| `tuple` | `x = (1, 2, 3)`                | Immutable ordered collection |\n",
    "| `dict`  | `x = {\"a\": 1, \"b\": 2, \"c\": 3}` | Unordered key-value mapping  |"
   ]
  },
  {
   "cell_type": "markdown",
   "metadata": {},
   "source": [
    "### Lists"
   ]
  },
  {
   "cell_type": "code",
   "execution_count": 6,
   "metadata": {},
   "outputs": [
    {
     "name": "stdout",
     "output_type": "stream",
     "text": [
      "<class 'list'>\n",
      "15\n",
      "20\n"
     ]
    }
   ],
   "source": [
    "l = [15, 16, 17, 18, 19, 20]\n",
    "\n",
    "print(type(l))\n",
    "\n",
    "# python is zero indexed\n",
    "print(l[0])  # Get first element\n",
    "print(l[-1])  # Get last element"
   ]
  },
  {
   "cell_type": "code",
   "execution_count": 7,
   "metadata": {},
   "outputs": [
    {
     "name": "stdout",
     "output_type": "stream",
     "text": [
      "[17, 18]\n",
      "[17, 18, 19, 20]\n",
      "[15, 16]\n"
     ]
    }
   ],
   "source": [
    "# slicing\n",
    "print(l[2:4])  # Get a slice from index 2 to 4 (exclusive)\n",
    "print(l[2:])  # Get a slice from index 2 to the end\n",
    "print(l[:2])  # Get a slice from the start to index 2 (exclusive)"
   ]
  },
  {
   "cell_type": "code",
   "execution_count": 8,
   "metadata": {},
   "outputs": [],
   "source": [
    "pets = [\"cat\", \"dog\", \"bird\"]\n",
    "\n",
    "# return the last two elements\n",
    "\n",
    "\n",
    "# return all elements except the last one"
   ]
  },
  {
   "cell_type": "markdown",
   "metadata": {},
   "source": [
    "### Dictionaries"
   ]
  },
  {
   "cell_type": "code",
   "execution_count": 9,
   "metadata": {},
   "outputs": [
    {
     "data": {
      "text/plain": [
       "'cute'"
      ]
     },
     "execution_count": 9,
     "metadata": {},
     "output_type": "execute_result"
    }
   ],
   "source": [
    "d = {\"cat\": \"cute\", \"dog\": \"furry\"}\n",
    "d[\"cat\"]"
   ]
  },
  {
   "cell_type": "code",
   "execution_count": 10,
   "metadata": {},
   "outputs": [
    {
     "name": "stdout",
     "output_type": "stream",
     "text": [
      "{'cat': 'cute', 'dog': 'furry', 'fish': 'useless'}\n"
     ]
    }
   ],
   "source": [
    "d[\"fish\"] = \"useless\"\n",
    "print(d)"
   ]
  },
  {
   "cell_type": "markdown",
   "metadata": {},
   "source": [
    "## Loops"
   ]
  },
  {
   "cell_type": "code",
   "execution_count": 11,
   "metadata": {},
   "outputs": [
    {
     "name": "stdout",
     "output_type": "stream",
     "text": [
      "2018\n",
      "2019\n",
      "2020\n"
     ]
    }
   ],
   "source": [
    "# basic for loop\n",
    "years = [2018, 2019, 2020]\n",
    "for year in years:\n",
    "    print(year)"
   ]
  },
  {
   "cell_type": "code",
   "execution_count": 12,
   "metadata": {},
   "outputs": [
    {
     "name": "stdout",
     "output_type": "stream",
     "text": [
      "0 2018\n",
      "1 2019\n",
      "2 2020\n"
     ]
    }
   ],
   "source": [
    "# for loop with index\n",
    "for i, year in enumerate(years):\n",
    "    print(i, year)"
   ]
  },
  {
   "cell_type": "code",
   "execution_count": 13,
   "metadata": {},
   "outputs": [
    {
     "name": "stdout",
     "output_type": "stream",
     "text": [
      "We are not in 2018\n",
      "We are in 2019!\n",
      "We are not in 2020\n"
     ]
    }
   ],
   "source": [
    "# for loop with conditional\n",
    "for year in years:\n",
    "    if year == 2019:\n",
    "        print(f\"We are in {year}!\")\n",
    "    else:\n",
    "        print(f\"We are not in {year}\")"
   ]
  },
  {
   "cell_type": "markdown",
   "metadata": {},
   "source": [
    "## Function"
   ]
  },
  {
   "cell_type": "code",
   "execution_count": 14,
   "metadata": {},
   "outputs": [],
   "source": [
    "def sign(x):\n",
    "    if x > 0:\n",
    "        sign = \"positive\"\n",
    "    elif x < 0:\n",
    "        sign = \"negative\"\n",
    "    else:\n",
    "        sign = \"zero\"\n",
    "    return sign"
   ]
  },
  {
   "cell_type": "code",
   "execution_count": 15,
   "metadata": {},
   "outputs": [
    {
     "name": "stdout",
     "output_type": "stream",
     "text": [
      "-10 negative\n",
      "-9 negative\n",
      "-8 negative\n",
      "-7 negative\n",
      "-6 negative\n",
      "-5 negative\n",
      "-4 negative\n",
      "-3 negative\n",
      "-2 negative\n",
      "-1 negative\n",
      "0 zero\n",
      "1 positive\n",
      "2 positive\n",
      "3 positive\n",
      "4 positive\n",
      "5 positive\n",
      "6 positive\n",
      "7 positive\n",
      "8 positive\n",
      "9 positive\n",
      "10 positive\n"
     ]
    }
   ],
   "source": [
    "for i in range(-10, 11):\n",
    "    print(i, sign(i))"
   ]
  },
  {
   "cell_type": "code",
   "execution_count": 16,
   "metadata": {},
   "outputs": [],
   "source": [
    "# optional keyword argument\n",
    "def hello(name, loud=False):\n",
    "    if loud:\n",
    "        return f\"Hello, {name}\".upper()\n",
    "    else:\n",
    "        return f\"Hello, {name}\""
   ]
  },
  {
   "cell_type": "code",
   "execution_count": 17,
   "metadata": {},
   "outputs": [
    {
     "data": {
      "text/plain": [
       "'Hello, Paul'"
      ]
     },
     "execution_count": 17,
     "metadata": {},
     "output_type": "execute_result"
    }
   ],
   "source": [
    "hello(\"Paul\")"
   ]
  },
  {
   "cell_type": "code",
   "execution_count": 18,
   "metadata": {},
   "outputs": [
    {
     "data": {
      "text/plain": [
       "'HELLO, PAUL'"
      ]
     },
     "execution_count": 18,
     "metadata": {},
     "output_type": "execute_result"
    }
   ],
   "source": [
    "hello(\"Paul\", loud=True)"
   ]
  },
  {
   "cell_type": "markdown",
   "metadata": {},
   "source": [
    "## Classes"
   ]
  },
  {
   "cell_type": "code",
   "execution_count": 19,
   "metadata": {},
   "outputs": [],
   "source": [
    "class Greeter:\n",
    "    # constructor\n",
    "    def __init__(self, name):\n",
    "        self.name = name\n",
    "\n",
    "    def greet(self, loud=False):\n",
    "        string = f\"hello {self.name}\"\n",
    "        if loud:\n",
    "            print(string.upper(), \"!\")\n",
    "        else:\n",
    "            print(string)"
   ]
  },
  {
   "cell_type": "code",
   "execution_count": 20,
   "metadata": {},
   "outputs": [],
   "source": [
    "g = Greeter(name=\"Fred\")"
   ]
  },
  {
   "cell_type": "code",
   "execution_count": 21,
   "metadata": {},
   "outputs": [
    {
     "name": "stdout",
     "output_type": "stream",
     "text": [
      "hello Fred\n"
     ]
    }
   ],
   "source": [
    "g.greet()"
   ]
  },
  {
   "cell_type": "code",
   "execution_count": 22,
   "metadata": {},
   "outputs": [
    {
     "name": "stdout",
     "output_type": "stream",
     "text": [
      "HELLO FRED !\n"
     ]
    }
   ],
   "source": [
    "g.greet(loud=True)"
   ]
  },
  {
   "cell_type": "markdown",
   "metadata": {},
   "source": [
    "## Your turn"
   ]
  },
  {
   "cell_type": "markdown",
   "metadata": {},
   "source": [
    "From the following __list__ of dictionaries, print each participant name and age.\n",
    "\n",
    "If the participant's age if over 35, assign a new field in the participant's dictionary `group` to `B` and `A` otherwise.\n",
    "\n",
    "Finally, print the number of participants in each group"
   ]
  },
  {
   "cell_type": "code",
   "execution_count": 23,
   "metadata": {},
   "outputs": [],
   "source": [
    "participants = [\n",
    "    {\"name\": \"Marc Jaubert\", \"age\": 24},\n",
    "    {\"name\": \"Loïc Pomeroy\", \"age\": 32},\n",
    "    {\"name\": \"Émeric Ponce\", \"age\": 39},\n",
    "    {\"name\": \"Auguste Rapace\", \"age\": 45},\n",
    "    {\"name\": \"Valéry Baume\", \"age\": 26},\n",
    "    {\"name\": \"Hugues Badeaux\", \"age\": 23},\n",
    "    {\"name\": \"Baudouin Pascal\", \"age\": 46},\n",
    "    {\"name\": \"Gaspard Joguet\", \"age\": 38},\n",
    "    {\"name\": \"Hubert Emmanuelli\", \"age\": 35},\n",
    "    {\"name\": \"Laurent Mignard\", \"age\": 21},\n",
    "]"
   ]
  },
  {
   "cell_type": "markdown",
   "metadata": {},
   "source": [
    "<!--NAVIGATION-->\n",
    "< [Introduction to Python](01.00-why-python.ipynb) | [Contents](index.ipynb) | [Scientific computing with Numpy](01.02-intro-to-numpy.ipynb) >"
   ]
  }
 ],
 "metadata": {
  "kernelspec": {
   "display_name": "Python 3",
   "language": "python",
   "name": "conda-env-tutorials-py"
  },
  "language_info": {
   "codemirror_mode": {
    "name": "ipython",
    "version": 3
   },
   "file_extension": ".py",
   "mimetype": "text/x-python",
   "name": "python",
   "nbconvert_exporter": "python",
   "pygments_lexer": "ipython3",
   "version": "3.8.1"
  },
  "pycharm": {
   "stem_cell": {
    "cell_type": "raw",
    "metadata": {
     "collapsed": false
    },
    "source": []
   }
  }
 },
 "nbformat": 4,
 "nbformat_minor": 4
}
