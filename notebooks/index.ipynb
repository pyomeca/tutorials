{
 "cells": [
  {
   "cell_type": "markdown",
   "metadata": {},
   "source": [
    "<!--BOOK_INFORMATION-->\n",
    "<img style=\"float: right; width: 100px\" src=\"https://raw.github.com/pyomeca/design/master/logo/logo_cropped_doc.svg?sanitize=true\">\n",
    "<h1>Effective computation in Biomechanics</h1>\n",
    "<h3>Romain Martinez</h3> <a href=\"https://github.com/romainmartinez\"><img src=\"https://img.shields.io/badge/github-romainmartinez-green?logo=github&style=social\" /></a>\n"
   ]
  },
  {
   "cell_type": "markdown",
   "metadata": {},
   "source": [
    "<!--INDEX_COMMENT-->\n",
    "## Table of Contents\n",
    "\n",
    "### [0. Preface](00.00-preface.ipynb)\n",
    "\n",
    "### [1. Introduction to Python](01.00-why-python.ipynb)\n",
    "- [Python fundamentals](01.01-python-base.ipynb)\n",
    "- [Scientific computing with Numpy](01.02-intro-to-numpy.ipynb)\n",
    "- [Biomechanical analysis with Pyomeca](01.03-intro-to-pyomeca.ipynb)\n",
    "- [Data visualization](01.04-visualization.ipynb)\n",
    "- [Programming tips and tricks](01.05-tips-and-tricks.ipynb)\n",
    "\n",
    "### [2. Introduction to musculoskeletal modelling](02.00-musculoskeletal-modelling.ipynb)\n",
    "\n",
    "### [3. Introduction to statistics and machine learning](03.00-stats-and-machine-learning.ipynb)"
   ]
  }
 ],
 "metadata": {
  "kernelspec": {
   "display_name": "Python [conda env:tutorials]",
   "language": "python",
   "name": "conda-env-tutorials-py"
  },
  "language_info": {
   "codemirror_mode": {
    "name": "ipython",
    "version": 3
   },
   "file_extension": ".py",
   "mimetype": "text/x-python",
   "name": "python",
   "nbconvert_exporter": "python",
   "pygments_lexer": "ipython3",
   "version": "3.8.1"
  }
 },
 "nbformat": 4,
 "nbformat_minor": 4
}
