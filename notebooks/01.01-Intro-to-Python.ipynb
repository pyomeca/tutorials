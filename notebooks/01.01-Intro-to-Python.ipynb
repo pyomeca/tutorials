{
 "cells": [
  {
   "cell_type": "markdown",
   "metadata": {},
   "source": [
    "<!--BOOK_INFORMATION-->\n",
    "<img style=\"float: right; width: 100px\" src=\"https://raw.github.com/pyomeca/design/master/logo/logo_cropped.svg?sanitize=true\">\n",
    "\n",
    "# Effective computation in Biomechanics\n",
    "## with [pyomeca](https://github.com/pyomeca/pyomeca)\n",
    "Romain Martinez (martinez.staps@gmail.com | [GitHub](https://github.com/romainmartinez))"
   ]
  },
  {
   "cell_type": "markdown",
   "metadata": {},
   "source": [
    "<!--NAVIGATION-->\n",
    "< [Why we chose python?](01.00-Why-Python.ipynb) | [Contents](Index.ipynb) | [Introduction to Numpy](01.02-Intro-to-Numpy.ipynb) >"
   ]
  },
  {
   "cell_type": "markdown",
   "metadata": {
    "toc-hr-collapsed": false
   },
   "source": [
    "# Introduction to Python"
   ]
  },
  {
   "cell_type": "markdown",
   "metadata": {
    "toc-hr-collapsed": false
   },
   "source": [
    "## Data types"
   ]
  },
  {
   "cell_type": "markdown",
   "metadata": {},
   "source": [
    "### Numbers"
   ]
  },
  {
   "cell_type": "code",
   "execution_count": 1,
   "metadata": {},
   "outputs": [
    {
     "name": "stdout",
     "output_type": "stream",
     "text": [
      "<class 'int'>\n",
      "4\n",
      "2\n",
      "9\n",
      "9\n"
     ]
    }
   ],
   "source": [
    "# int\n",
    "x = 3\n",
    "\n",
    "print(type(x))\n",
    "print(x + 1)\n",
    "print(x - 1)\n",
    "print(x * 3)\n",
    "print(x ** 2)"
   ]
  },
  {
   "cell_type": "code",
   "execution_count": 2,
   "metadata": {},
   "outputs": [
    {
     "name": "stdout",
     "output_type": "stream",
     "text": [
      "<class 'float'>\n",
      "3.6\n",
      "1.6\n",
      "7.800000000000001\n",
      "6.760000000000001\n"
     ]
    }
   ],
   "source": [
    "# float\n",
    "y = 2.6\n",
    "\n",
    "print(type(y))\n",
    "print(y + 1)\n",
    "print(y - 1)\n",
    "print(y * 3)\n",
    "print(y ** 2)"
   ]
  },
  {
   "cell_type": "markdown",
   "metadata": {},
   "source": [
    "### Booleans"
   ]
  },
  {
   "cell_type": "code",
   "execution_count": 3,
   "metadata": {},
   "outputs": [
    {
     "name": "stdout",
     "output_type": "stream",
     "text": [
      "<class 'bool'>\n",
      "False\n",
      "True\n",
      "False\n",
      "True\n"
     ]
    }
   ],
   "source": [
    "# note the capitalization\n",
    "print(type(False))\n",
    "print(True and False)\n",
    "print(True or False)\n",
    "print(not True)\n",
    "print(True != False)"
   ]
  },
  {
   "cell_type": "markdown",
   "metadata": {},
   "source": [
    "### Strings"
   ]
  },
  {
   "cell_type": "code",
   "execution_count": 4,
   "metadata": {},
   "outputs": [
    {
     "name": "stdout",
     "output_type": "stream",
     "text": [
      "<class 'str'>\n",
      "5\n",
      "hello world\n",
      "HELLO\n"
     ]
    }
   ],
   "source": [
    "hello = 'hello'\n",
    "world = 'world'\n",
    "\n",
    "print(type(hello))\n",
    "print(len(hello))\n",
    "print(f'{hello} {world}')\n",
    "print(hello.upper())"
   ]
  },
  {
   "cell_type": "markdown",
   "metadata": {},
   "source": [
    "## Containers"
   ]
  },
  {
   "cell_type": "markdown",
   "metadata": {},
   "source": [
    "### Lists\n",
    "\n",
    "A list is resizeable and can contain elements of different types (numbers, string, etc.)"
   ]
  },
  {
   "cell_type": "code",
   "execution_count": 5,
   "metadata": {},
   "outputs": [
    {
     "name": "stdout",
     "output_type": "stream",
     "text": [
      "<class 'list'>\n",
      "15\n",
      "20\n"
     ]
    }
   ],
   "source": [
    "l = [15, 16, 17, 18, 19, 20]\n",
    "\n",
    "print(type(l))\n",
    "# python is zero indexed\n",
    "print(l[0])    # Get first element\n",
    "print(l[-1])   # Get last element"
   ]
  },
  {
   "cell_type": "code",
   "execution_count": 6,
   "metadata": {},
   "outputs": [
    {
     "name": "stdout",
     "output_type": "stream",
     "text": [
      "[17, 18]\n",
      "[17, 18, 19, 20]\n",
      "[15, 16]\n"
     ]
    }
   ],
   "source": [
    "# slicing\n",
    "print(l[2:4])  # Get a slice from index 2 to 4 (exclusive)\n",
    "print(l[2:])   # Get a slice from index 2 to the end\n",
    "print(l[:2])   # Get a slice from the start to index 2 (exclusive)"
   ]
  },
  {
   "cell_type": "code",
   "execution_count": 7,
   "metadata": {},
   "outputs": [
    {
     "name": "stdout",
     "output_type": "stream",
     "text": [
      "cat\n",
      "dog\n",
      "bird\n",
      "0 cat\n",
      "1 dog\n",
      "2 bird\n"
     ]
    }
   ],
   "source": [
    "# loops\n",
    "pets = ['cat', 'dog', 'bird']\n",
    "for ipet in pets:\n",
    "    print(ipet)\n",
    "    \n",
    "# loop with index\n",
    "for i, ipet in enumerate(pets):\n",
    "    print(i, ipet)"
   ]
  },
  {
   "cell_type": "markdown",
   "metadata": {},
   "source": [
    "### Dictionaries\n",
    "\n",
    "A dictionary stores a key-value pairs"
   ]
  },
  {
   "cell_type": "code",
   "execution_count": 8,
   "metadata": {},
   "outputs": [
    {
     "name": "stdout",
     "output_type": "stream",
     "text": [
      "cute\n",
      "{'cat': 'cute', 'dog': 'furry', 'fish': 'useless'}\n"
     ]
    }
   ],
   "source": [
    "d = {\"cat\": \"cute\", \"dog\": \"furry\"}\n",
    "\n",
    "print(d[\"cat\"])\n",
    "d[\"fish\"] = \"useless\"\n",
    "print(d)"
   ]
  },
  {
   "cell_type": "code",
   "execution_count": 9,
   "metadata": {},
   "outputs": [
    {
     "name": "stdout",
     "output_type": "stream",
     "text": [
      "cat\n",
      "dog\n",
      "fish\n",
      "cat cute\n",
      "dog furry\n",
      "fish useless\n"
     ]
    }
   ],
   "source": [
    "# loops\n",
    "for i in d:\n",
    "    print(i)\n",
    "    \n",
    "for key, value in d.items():\n",
    "    print(key, value)"
   ]
  },
  {
   "cell_type": "markdown",
   "metadata": {},
   "source": [
    "### Tuples\n",
    "\n",
    "A tuple is an _immutable_ list"
   ]
  },
  {
   "cell_type": "code",
   "execution_count": 10,
   "metadata": {},
   "outputs": [
    {
     "data": {
      "text/plain": [
       "1"
      ]
     },
     "execution_count": 10,
     "metadata": {},
     "output_type": "execute_result"
    }
   ],
   "source": [
    "t = (1, 2, 3)\n",
    "t[0]\n",
    "\n",
    "# there is no `append`"
   ]
  },
  {
   "cell_type": "markdown",
   "metadata": {},
   "source": [
    "## Functions"
   ]
  },
  {
   "cell_type": "code",
   "execution_count": 11,
   "metadata": {},
   "outputs": [
    {
     "name": "stdout",
     "output_type": "stream",
     "text": [
      "negative\n",
      "zero\n",
      "positive\n"
     ]
    }
   ],
   "source": [
    "def sign(x):\n",
    "    if x > 0:\n",
    "        return \"positive\"\n",
    "    elif x < 0:\n",
    "        return \"negative\"\n",
    "    else:\n",
    "        return \"zero\"\n",
    "\n",
    "\n",
    "for x in [-1, 0, 1]:\n",
    "    print(sign(x))"
   ]
  },
  {
   "cell_type": "code",
   "execution_count": 12,
   "metadata": {},
   "outputs": [
    {
     "name": "stdout",
     "output_type": "stream",
     "text": [
      "Hello, Paul\n",
      "HELLO, PAUL\n"
     ]
    }
   ],
   "source": [
    "# optional keyword argument\n",
    "def hello(name, loud=False):\n",
    "    string = f\"Hello, {name}\"\n",
    "    if loud:\n",
    "        print(string.upper())\n",
    "    else:\n",
    "        print(string)\n",
    "\n",
    "\n",
    "hello(\"Paul\")\n",
    "hello(\"Paul\", loud=True)"
   ]
  },
  {
   "cell_type": "markdown",
   "metadata": {},
   "source": [
    "## Classes"
   ]
  },
  {
   "cell_type": "code",
   "execution_count": 13,
   "metadata": {},
   "outputs": [
    {
     "name": "stdout",
     "output_type": "stream",
     "text": [
      "hello Fred\n",
      "HELLO FRED !\n"
     ]
    }
   ],
   "source": [
    "class Greeter:\n",
    "    # constructor\n",
    "    def __init__(self, name):\n",
    "        self.name = name\n",
    "\n",
    "    def greet(self, loud=False):\n",
    "        string = f\"hello {self.name}\"\n",
    "        if loud:\n",
    "            print(string.upper(), \"!\")\n",
    "        else:\n",
    "            print(string)\n",
    "\n",
    "\n",
    "g = Greeter(name=\"Fred\")\n",
    "g.greet()\n",
    "g.greet(loud=True)"
   ]
  },
  {
   "cell_type": "markdown",
   "metadata": {},
   "source": [
    "<!--NAVIGATION-->\n",
    "< [Why we chose python?](01.00-Why-Python.ipynb) | [Contents](Index.ipynb) | [Introduction to Numpy](01.02-Intro-to-Numpy.ipynb) >"
   ]
  }
 ],
 "metadata": {
  "kernelspec": {
   "display_name": "Python [conda env:tutorials]",
   "language": "python",
   "name": "conda-env-tutorials-py"
  },
  "language_info": {
   "codemirror_mode": {
    "name": "ipython",
    "version": 3
   },
   "file_extension": ".py",
   "mimetype": "text/x-python",
   "name": "python",
   "nbconvert_exporter": "python",
   "pygments_lexer": "ipython3",
   "version": "3.7.0"
  },
  "toc-autonumbering": false,
  "toc-showtags": false
 },
 "nbformat": 4,
 "nbformat_minor": 2
}
