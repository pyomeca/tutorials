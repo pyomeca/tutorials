{
 "cells": [
  {
   "cell_type": "markdown",
   "metadata": {},
   "source": [
    "<!--BOOK_INFORMATION-->\n",
    "<img style=\"float: right; width: 100px\" src=\"https://raw.github.com/pyomeca/design/master/logo/logo_cropped.svg?sanitize=true\">\n",
    "\n",
    "# Effective computation in Biomechanics\n",
    "## with [pyomeca](https://github.com/pyomeca/pyomeca)\n",
    "Romain Martinez (martinez.staps@gmail.com | [GitHub](https://github.com/romainmartinez))"
   ]
  },
  {
   "cell_type": "markdown",
   "metadata": {},
   "source": [
    "<!--NAVIGATION-->\n",
    "< [Introduction to Numpy](01.02-Intro-to-Numpy.ipynb) | [Contents](Index.ipynb) | [Reading and writing files](02.01-Reading-writing-files.ipynb) >"
   ]
  },
  {
   "cell_type": "markdown",
   "metadata": {},
   "source": [
    "# Introduction to pyomeca\n",
    "\n",
    "> Pyomeca is a python library allowing you to carry out a complete biomechanical analysis; in a simple, logical and concise way."
   ]
  },
  {
   "cell_type": "markdown",
   "metadata": {},
   "source": [
    "## Pyomeca documentation\n",
    "\n",
    "See pyomeca's [documentation site]() (under construction and not usable yet), as well as pyomeca's [tutorial notebooks](https://github.com/pyomeca/tutorials)."
   ]
  },
  {
   "cell_type": "markdown",
   "metadata": {},
   "source": [
    "## Example\n",
    "\n",
    "Here is an example of a complete EMG pipeline in just one command:\n",
    "\n",
    "```python\n",
    "from pyomeca import Analogs3d\n",
    "\n",
    "emg = (\n",
    "    Analogs3d.from_c3d(\"path/to/your/c3d.c3d\")\n",
    "    .band_pass(freq=2000, order=4, cutoff=[10, 425])\n",
    "    .center()\n",
    "    .rectify()\n",
    "    .low_pass(freq=2000, order=4, cutoff=5)\n",
    "    .normalization()\n",
    "    .time_normalization()\n",
    ")\n",
    "```"
   ]
  },
  {
   "cell_type": "markdown",
   "metadata": {},
   "source": [
    "## Features\n",
    "\n",
    "- Object-oriented architecture where each class is associated with common and specialized functionalities:\n",
    "  - **Markers3d**: 3d markers positions\n",
    "  - **Analogs3d**: analogs (emg, force or any analog signal)\n",
    "  - **GeneralizedCoordinate**: generalized coordinate (joint angle)\n",
    "  - **RotoTrans**: roto-translation matrix\n",
    "\n",
    "\n",
    "- Specialized functionalities include signal processing routine commonly used in biomechanics: filters, normalization, onset detection, outliers detection, derivative, etc.\n",
    "\n",
    "\n",
    "- Each functionality can be chained. In addition to making it easier to write and read code, it allows you to add and remove analysis steps easily (such as Lego blocks).\n",
    "\n",
    "\n",
    "- Each class inherits from a numpy array, so you can create your own analysis step easily.\n",
    "\n",
    "\n",
    "- Easy reading and writing interface to common files in biomechanics:\n",
    "  - **c3d**: `from_c3d` and `to_c3d`\n",
    "  - **csv**: `from_csv` and `to_csv`\n",
    "  - **mat**: `from_mat` and `to_mat`\n",
    "  - **sto**: `to_sto` (must install pyosim)\n",
    "  - **trc**: `to_trc` (must install pyosim)\n",
    "\n",
    "\n",
    "- Common linear algebra routine implemented: get Euler angles to/from roto-translation matrix, create a system of axes, set a rotation or translation, transpose or inverse, etc."
   ]
  },
  {
   "cell_type": "markdown",
   "metadata": {},
   "source": [
    "## Installation\n",
    "\n",
    "First, install [miniconda](https://conda.io/miniconda.html) or [anaconda](https://www.anaconda.com/download/).\n",
    "Then type:\n",
    "\n",
    "```bash\n",
    "conda install pyomeca -c pyomeca\n",
    "```"
   ]
  },
  {
   "cell_type": "markdown",
   "metadata": {},
   "source": [
    "## Integration with other modules\n",
    "\n",
    "Pyomeca is designed to work well with other libraries that we have developed:\n",
    "\n",
    "- [pyosim](https://github.com/pyomeca/pyosim): interface between [OpenSim](http://opensim.stanford.edu/) and pyomeca to perform batch musculoskeletal analyses\n",
    "- [ezc3d](https://github.com/pyomeca/ezc3d): Easy to use C3D reader/writer in C++, Python and Matlab\n",
    "- [biorbd](https://github.com/pyomeca/biorbd): C++ interface and add-ons to the Rigid Body Dynamics Library, with Python and Matlab binders.\n",
    "- [pyoviz](https://github.com/pyomeca/pyoviz): pyomeca visualization toolkit and GUIs (still in development and not usable yet)"
   ]
  },
  {
   "cell_type": "markdown",
   "metadata": {},
   "source": [
    "## Bug Reports & Questions\n",
    "\n",
    "Pyomeca is Apache-licensed and the source code is available on [GitHub](https://github.com/pyomeca/pyomeca).\n",
    "\n",
    "If any questions or issues come up as you use pyomeca, please get in touch via [GitHub issues](https://github.com/pyomeca/pyomeca/issues).\n",
    "\n",
    "We welcome any input, feedback, bug reports, and contributions."
   ]
  },
  {
   "cell_type": "markdown",
   "metadata": {},
   "source": [
    "<!--NAVIGATION-->\n",
    "< [Introduction to Numpy](01.02-Intro-to-Numpy.ipynb) | [Contents](Index.ipynb) | [Reading and writing files](02.01-Reading-writing-files.ipynb) >"
   ]
  }
 ],
 "metadata": {
  "kernelspec": {
   "display_name": "Python 3",
   "language": "python",
   "name": "python3"
  },
  "language_info": {
   "codemirror_mode": {
    "name": "ipython",
    "version": 3
   },
   "file_extension": ".py",
   "mimetype": "text/x-python",
   "name": "python",
   "nbconvert_exporter": "python",
   "pygments_lexer": "ipython3",
   "version": "3.7.0"
  }
 },
 "nbformat": 4,
 "nbformat_minor": 2
}
