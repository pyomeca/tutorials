{
 "cells": [
  {
   "cell_type": "markdown",
   "metadata": {},
   "source": [
    "<!--BOOK_INFORMATION-->\n",
    "<img style=\"float: right; width: 100px\" src=\"https://raw.github.com/pyomeca/design/master/logo/logo_cropped_doc.svg?sanitize=true\">\n",
    "<font size=\"+3\">Effective computation in Biomechanics</font>\n",
    "\n",
    "<font size=\"+2\">Romain Martinez</font> <a href=\"https://github.com/romainmartinez\"><img src=\"https://img.shields.io/badge/github-romainmartinez-green?logo=github&style=social\" /></a>"
   ]
  },
  {
   "cell_type": "markdown",
   "metadata": {},
   "source": [
    "<!--NAVIGATION-->\n",
    "< [Biomechanical analysis with Pyomeca](01.03-intro-to-pyomeca.ipynb) | [Contents](index.ipynb) | [Programming tips and tricks](01.05-tips-and-tricks.ipynb) >"
   ]
  },
  {
   "cell_type": "markdown",
   "metadata": {},
   "source": [
    "# Data visualization"
   ]
  },
  {
   "cell_type": "markdown",
   "metadata": {},
   "source": [
    "<!--NAVIGATION-->\n",
    "< [Biomechanical analysis with Pyomeca](01.03-intro-to-pyomeca.ipynb) | [Contents](index.ipynb) | [Programming tips and tricks](01.05-tips-and-tricks.ipynb) >"
   ]
  }
 ],
 "metadata": {
  "kernelspec": {
   "display_name": "Python 3",
   "language": "python",
   "name": "conda-env-tutorials-py"
  },
  "language_info": {
   "codemirror_mode": {
    "name": "ipython",
    "version": 3
   },
   "file_extension": ".py",
   "mimetype": "text/x-python",
   "name": "python",
   "nbconvert_exporter": "python",
   "pygments_lexer": "ipython3",
   "version": "3.8.1"
  }
 },
 "nbformat": 4,
 "nbformat_minor": 4
}
