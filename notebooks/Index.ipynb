{
 "cells": [
  {
   "cell_type": "markdown",
   "metadata": {},
   "source": [
    "<!--BOOK_INFORMATION-->\n",
    "<img style=\"float: right; width: 100px\" src=\"https://raw.github.com/pyomeca/design/master/logo/logo_cropped.svg?sanitize=true\">\n",
    "\n",
    "# Effective computation in Biomechanics\n",
    "## with [pyomeca](https://github.com/pyomeca/pyomeca)\n",
    "Romain Martinez (martinez.staps@gmail.com | [GitHub](https://github.com/romainmartinez))"
   ]
  },
  {
   "cell_type": "markdown",
   "metadata": {},
   "source": [
    "<!--INDEX_COMMENT-->\n",
    "## Table of Contents\n",
    "\n",
    "### [0. Preface](00.00-Preface.ipynb)\n",
    "\n",
    "### [1. Why we chose python?](01.00-Why-Python.ipynb)\n",
    "- [Introduction to Python](01.01-Intro-to-Python.ipynb)\n",
    "- [Introduction to Numpy](01.02-Intro-to-Numpy.ipynb)\n",
    "\n",
    "### [2. Introduction to pyomeca](02.00-Intro-to-Pyomeca.ipynb)\n",
    "- [Reading and writing files](02.01-Reading-writing-files.ipynb)\n",
    "- [Signal processing](02.02-Signal-processing.ipynb)\n",
    "- [Other modules](02.03-Other-modules.ipynb)\n",
    "\n",
    "### [3. Data visualization](03.00-Effective-viz.ipynb)\n",
    "\n",
    "### [4. Advanced statistical analysis of biomechanical time series](04.00-Time-series-statistics.ipynb)\n",
    "- [Statistical Parametric Mapping (SPM)](04.01-Intro-to-SPM.ipynb)\n",
    "\n",
    "### [5. Useful programming stuff](05.00-Useful-programming-stuff.ipynb)"
   ]
  }
 ],
 "metadata": {
  "anaconda-cloud": {},
  "kernelspec": {
   "display_name": "Python [conda env:tutorials]",
   "language": "python",
   "name": "conda-env-tutorials-py"
  },
  "language_info": {
   "codemirror_mode": {
    "name": "ipython",
    "version": 3
   },
   "file_extension": ".py",
   "mimetype": "text/x-python",
   "name": "python",
   "nbconvert_exporter": "python",
   "pygments_lexer": "ipython3",
   "version": "3.7.0"
  }
 },
 "nbformat": 4,
 "nbformat_minor": 2
}
