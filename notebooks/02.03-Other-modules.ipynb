{
 "cells": [
  {
   "cell_type": "markdown",
   "metadata": {},
   "source": [
    "<!--BOOK_INFORMATION-->\n",
    "<img style=\"float: right; width: 100px\" src=\"https://raw.github.com/pyomeca/design/master/logo/logo_cropped.svg?sanitize=true\">\n",
    "\n",
    "# Effective computation in Biomechanics\n",
    "## with [pyomeca](https://github.com/pyomeca/pyomeca)\n",
    "Romain Martinez (martinez.staps@gmail.com | [GitHub](https://github.com/romainmartinez))"
   ]
  },
  {
   "cell_type": "markdown",
   "metadata": {},
   "source": [
    "<!--NAVIGATION-->\n",
    "< [Signal processing](02.02-Signal-processing.ipynb) | [Contents](Index.ipynb) | [Data visualization](03.00-Effective-viz.ipynb) >"
   ]
  },
  {
   "cell_type": "markdown",
   "metadata": {},
   "source": [
    "# Other modules"
   ]
  },
  {
   "cell_type": "markdown",
   "metadata": {},
   "source": [
    "Pyomeca is designed to work well with other libraries that we have developed:"
   ]
  },
  {
   "cell_type": "markdown",
   "metadata": {},
   "source": [
    "## Pyosim\n",
    "\n",
    "[Pyosim](https://github.com/pyomeca/pyosim) between OpenSim and the Pyomeca library.\n",
    "\n",
    "It allows you to batch process multiple musculoskeletal analysis performed by the OpenSim software.\n",
    "\n",
    "You must first generate the configuration files (`xml`) from the OpenSim GUI.\n",
    "\n",
    "You will find a complete example in the [example folder](https://github.com/pyomeca/pyosim/tree/master/examples) of the repo."
   ]
  },
  {
   "cell_type": "markdown",
   "metadata": {},
   "source": [
    "### Create a project"
   ]
  },
  {
   "cell_type": "markdown",
   "metadata": {},
   "source": [
    "```python\n",
    "from pyosim import Project\n",
    "from pyosim import Conf\n",
    "\n",
    "PROJECT_PATH = Path(\"your_project\")\n",
    "\n",
    "project = Project(path=PROJECT_PATH)\n",
    "project.create_project()\n",
    "\n",
    "# complete `_conf.csv`\n",
    "\n",
    "conf = Conf(project_path=PROJECT_PATH)\n",
    "\n",
    "\n",
    "# add data dirs\n",
    "participants = conf.get_participants_to_process()\n",
    "\n",
    "for iparticipant in participants:\n",
    "    conf.add_conf_field(\n",
    "        {\n",
    "            iparticipant: {\n",
    "                \"markers_data_dir\": \"path/to/your/markers/data\",\n",
    "                \"emg_data_dir\": \"path/to/your/emg/data\",\n",
    "                \"analogs_data_dir\": \"path/to/your/analogs/data\",\n",
    "            }\n",
    "        }\n",
    "    )\n",
    "```"
   ]
  },
  {
   "cell_type": "markdown",
   "metadata": {},
   "source": [
    "### Export markers"
   ]
  },
  {
   "cell_type": "markdown",
   "metadata": {},
   "source": [
    "```python\n",
    "from pyosim import Markers3dOsim\n",
    "\n",
    "# loop through each trials\n",
    "for iparticipant in participants:\n",
    "    directories = conf.get_conf_field(\n",
    "        participant=iparticipant, field=[\"marker_data_dir\"]\n",
    "    )\n",
    "\n",
    "    for idir in directories:\n",
    "\n",
    "        for itrial in Path(idir).glob(\"*.c3d\"):\n",
    "            Markers3dOsim.from_c3d(itrial).to_trc(\n",
    "                f'{PROJECT_PATH / iparticipant / \"0_markers\" / itrial.stem}.trc'\n",
    "            )\n",
    "```"
   ]
  },
  {
   "cell_type": "markdown",
   "metadata": {},
   "source": [
    "### Export EMGs"
   ]
  },
  {
   "cell_type": "markdown",
   "metadata": {},
   "source": [
    "```python\n",
    "from pyosim import Analogs3dOsim\n",
    "\n",
    "\n",
    "# loop through each trials\n",
    "for iparticipant in participants:\n",
    "    directories = conf.get_conf_field(participant=iparticipant, field=[\"emg_data_dir\"])\n",
    "\n",
    "    for idir in directories:\n",
    "\n",
    "        for itrial in Path(idir).glob(\"*.c3d\"):\n",
    "            (\n",
    "                Analogs3d.from_c3d(ifile)\n",
    "                .band_pass(freq=2000, order=4, cutoff=[10, 425])\n",
    "                .center()\n",
    "                .rectify()\n",
    "                .low_pass(freq=2000, order=4, cutoff=5)\n",
    "                .normalization(ref=mvc)\n",
    "                .time_normalization()\n",
    "                .to_sto(f'{PROJECT_PATH / iparticipant / \"0_emg\" / itrial.stem}.sto')\n",
    "            )\n",
    "```"
   ]
  },
  {
   "cell_type": "markdown",
   "metadata": {},
   "source": [
    "### Musculoskeletal analysis"
   ]
  },
  {
   "cell_type": "markdown",
   "metadata": {},
   "source": [
    "```python\n",
    "from pyosim import Scale, InverseKinematics, InverseDynamics, StaticOptimization, MuscleAnalysis, JointReaction\n",
    "\n",
    "for iparticipant in participants:\n",
    "    \n",
    "    Scale(...)\n",
    "    \n",
    "    InverseKinematics(...)\n",
    "    \n",
    "    InverseDynamics(...)\n",
    "    \n",
    "    StaticOptimization(...)\n",
    "    \n",
    "    MuscleAnalysis(...)\n",
    "    \n",
    "    JointReaction(...)\n",
    "```"
   ]
  },
  {
   "cell_type": "markdown",
   "metadata": {},
   "source": [
    "## Biorbd\n",
    "\n",
    "[biorbd](https://github.com/pyomeca/biorbd) is a C++ interface and add-ons to the Rigid Body Dynamics Library, with Python and Matlab binders.\n",
    "\n",
    "Formerly `s2mlib`, `biorbd` is still in development and not usable yet."
   ]
  },
  {
   "cell_type": "markdown",
   "metadata": {},
   "source": [
    "## Pyoviz\n",
    "\n",
    "[pyoviz](https://github.com/pyomeca/pyoviz) is the pyomeca visualization toolkit, with some useful GUIs.\n",
    "\n",
    "`pyoviz` is still in development and not usable yet."
   ]
  },
  {
   "cell_type": "markdown",
   "metadata": {},
   "source": [
    "<!--NAVIGATION-->\n",
    "< [Signal processing](02.02-Signal-processing.ipynb) | [Contents](Index.ipynb) | [Data visualization](03.00-Effective-viz.ipynb) >"
   ]
  }
 ],
 "metadata": {
  "kernelspec": {
   "display_name": "Python 3",
   "language": "python",
   "name": "python3"
  },
  "language_info": {
   "codemirror_mode": {
    "name": "ipython",
    "version": 3
   },
   "file_extension": ".py",
   "mimetype": "text/x-python",
   "name": "python",
   "nbconvert_exporter": "python",
   "pygments_lexer": "ipython3",
   "version": "3.7.0"
  },
  "toc-autonumbering": false
 },
 "nbformat": 4,
 "nbformat_minor": 2
}
